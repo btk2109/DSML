{
 "cells": [
  {
   "cell_type": "markdown",
   "metadata": {},
   "source": [
    "![Image of Yaktocat](https://pbs.twimg.com/profile_images/811501827363520512/zhuGojAu_400x400.jpg)"
   ]
  },
  {
   "cell_type": "code",
   "execution_count": null,
   "metadata": {},
   "outputs": [],
   "source": [
    "wins = 0                         # A counter for wins\n",
    "losses = 0                       # A counter for loss"
   ]
  },
  {
   "cell_type": "code",
   "execution_count": null,
   "metadata": {},
   "outputs": [],
   "source": [
    "import random                        # we import this function to randomly arrange our list of numbers.\n",
    "\n",
    "list_a = [\"stick\",\"john\",\"pencil\",\"rubber\",\"glove\",\"quick\",\"brown\",\"fox\",\"jumps\",\"over\"\n",
    "                     ,\"lazy\",\"dog\",\"manner\",\"house\",\"food\",\"brain\",\"history\",\"love\",\"peace\",\n",
    "                      \"object\"]                     # We've created a list of 20 words                                                    \n",
    "\n",
    "word = random.choice(list_a)                          \n",
    "print(word)"
   ]
  },
  {
   "cell_type": "code",
   "execution_count": null,
   "metadata": {},
   "outputs": [],
   "source": [
    "guess = [\"_\"] * len(word)   # Generates a line of underscores the length of \"word\"\n",
    "entry = \"\"                  # Create an empty space where we can add strings in our while loop displayed below.\n",
    "chances = 10                # We create this variable to give the player 10 chances and to restart the counter back to 10,\n",
    "                            # when we restart\n",
    "match = 0                   # We create this to be able to go down the string index by index to compare a letter in\n",
    "                            # \"word\" with a letter in \"guess\"\n",
    "right_guess = 0             # We create this to help end the loop when the player's \"guess\" equals the \"word\"\n",
    "print(\"Guess, you've got 10 chances left! Type Quit if you want to end the game!\")  # Instruction for the player"
   ]
  },
  {
   "cell_type": "code",
   "execution_count": null,
   "metadata": {},
   "outputs": [],
   "source": [
    "while(entry != \"Quit\" and chances != 0):           # While loop till player enters Quit and chances does not \n",
    "    print(\"You have got \" + str(chances) + \" chances left\")  # Shows how many turns we have left. We concatenate here                                               # equal 0 \n",
    "    print(\"Your guess so far is: \" + str(guess))   # Shows where we are in the game. Note the function \n",
    "    entry = input()                                # \"str\" we are concatenating strings with a character specific\n",
    "                                                   # to the index position\n",
    "                                                   # strings\" Your guess...\" with the string letter in guess\n",
    "\n",
    "\n",
    "    \n",
    "\n",
    "        # We create another while loop to compare the actual \"word\" and the \"guess\" word, and if done right, insert the entry \n",
    "        # into \"entry\" \n",
    "    while(match< len(word)):                                       # while match is less than the length of the word                        \n",
    "        if(word[match] == entry):                                  # match will keep iterating till the index result of the word\n",
    "            guess[match] = entry                                   # equals the alphabhet associated with the same index in entry. \n",
    "            right_guess += 1                                       # The entry is then inserted into guess at the match index.  \n",
    "        match +=1                                                  # match needs to keep iterating everytime we go through a loop\n",
    "    chances -= 1                                                   # Each time we exit the if statement we lose a turn\n",
    "    match = 0                                                      # match needs to return back to zero so that everytime \n",
    "                                                                   # interations are complete we can start from the zero index\n",
    "    if(right_guess == len(word)):                                  # When right_guess equals length of the word we:u\n",
    "        wins += 1                                                  # increase the counter in wins by 1.\n",
    "        print(\"You got it buddy: \" + str(guess))                    # and print out tht \n",
    "        print(\"Wins so for: \" + str(wins))\n",
    "        break\n",
    "    \n",
    "    if(chances == 0):                                              # When chances, equals zero, we print game over buddy\n",
    "        losses += 1\n",
    "        print(\"Game over buddy\")\n",
    "        print(\"Losses so far: \" + str(losses))  "
   ]
  },
  {
   "cell_type": "markdown",
   "metadata": {},
   "source": [
    "### Opening a text file"
   ]
  },
  {
   "cell_type": "markdown",
   "metadata": {},
   "source": [
    "### Save the txt file I sent you, in the same folder location from which you are running the notebook"
   ]
  },
  {
   "cell_type": "markdown",
   "metadata": {},
   "source": [
    "In order to open a file for writing or use in Python, you must rely on the built-in open () function. \n",
    "\n",
    "The syntax to open a file object in Python is: \n",
    "\n",
    "file_object  = open(“filename”, “mode”) where file_object is the variable to add the file object. \n",
    "The second argument you see – mode – tells the interpreter and developer which way the file will be used.\n",
    "\n",
    "Mode\n",
    "\n",
    "Including a mode argument is optional because a default value of ‘r’ will be assumed if it is omitted. The ‘r’ value stands for read mode, which is just one of many. \n",
    "\n",
    "The modes are: \n",
    "\n",
    "‘r’ – Read mode which is used when the file is only being read \n",
    "‘w’ – Write mode which is used to edit and write new information to the file (any existing files with the same name will be erased when this mode is activated) \n",
    "‘a’ – Appending mode, which is used to add new data to the end of the file; that is new information is automatically amended to the end \n",
    "‘r+’ – Special read and write mode, which is used to handle both actions when working with a file. "
   ]
  },
  {
   "cell_type": "code",
   "execution_count": 1,
   "metadata": {},
   "outputs": [],
   "source": [
    "text_file = open('data/quick.txt','r')"
   ]
  },
  {
   "cell_type": "code",
   "execution_count": null,
   "metadata": {},
   "outputs": [],
   "source": [
    "text_file # Think of this as opening a book, where you have pointer to go through the text"
   ]
  },
  {
   "cell_type": "markdown",
   "metadata": {},
   "source": [
    "### Reading a text file"
   ]
  },
  {
   "cell_type": "code",
   "execution_count": null,
   "metadata": {},
   "outputs": [],
   "source": [
    "text = text_file.read()  # The output of read command will display all the text inside the file"
   ]
  },
  {
   "cell_type": "code",
   "execution_count": null,
   "metadata": {},
   "outputs": [],
   "source": [
    "text"
   ]
  },
  {
   "cell_type": "markdown",
   "metadata": {},
   "source": [
    "### Note\n",
    "\n",
    "Imagine reading the book, where you have gone through the text and now you are at the end of the book and your pointer is now at the end."
   ]
  },
  {
   "cell_type": "code",
   "execution_count": null,
   "metadata": {},
   "outputs": [],
   "source": [
    "text2 = text_file.read()"
   ]
  },
  {
   "cell_type": "code",
   "execution_count": null,
   "metadata": {},
   "outputs": [],
   "source": [
    "text2 # We don't get anything here. Re - Imagine your pointer being at the end of the book."
   ]
  },
  {
   "cell_type": "markdown",
   "metadata": {},
   "source": [
    "### Reading lines"
   ]
  },
  {
   "cell_type": "code",
   "execution_count": null,
   "metadata": {},
   "outputs": [],
   "source": [
    "text_file = open('quick.txt','r')"
   ]
  },
  {
   "cell_type": "code",
   "execution_count": null,
   "metadata": {},
   "outputs": [],
   "source": [
    "text_file"
   ]
  },
  {
   "cell_type": "code",
   "execution_count": null,
   "metadata": {},
   "outputs": [],
   "source": [
    "read_line = text_file.readlines()\n",
    "read_line"
   ]
  },
  {
   "cell_type": "markdown",
   "metadata": {},
   "source": [
    "### Reading a line"
   ]
  },
  {
   "cell_type": "code",
   "execution_count": null,
   "metadata": {},
   "outputs": [],
   "source": [
    "text_file = open('quick.txt','r')\n",
    "readline = text_file.readline(3)  # It reads till the 3rd index. The pointer is now at the third index"
   ]
  },
  {
   "cell_type": "code",
   "execution_count": null,
   "metadata": {},
   "outputs": [],
   "source": [
    "readline"
   ]
  },
  {
   "cell_type": "code",
   "execution_count": null,
   "metadata": {},
   "outputs": [],
   "source": [
    "readline = text_file.readlines() # It will read from where the pointer ended. Almost like a bookmark."
   ]
  },
  {
   "cell_type": "code",
   "execution_count": null,
   "metadata": {},
   "outputs": [],
   "source": [
    "readline"
   ]
  },
  {
   "cell_type": "markdown",
   "metadata": {},
   "source": [
    "### Hw: Given the text file I sent you.\n",
    "\n",
    "Count the number of paragraphs, number of lines, number of sentences, number of words and number of characters. Now count how many times words have been repeated and put the count next to the word inside a dictionary. Now count how many times alphabets have been repeated and put the count next to the word inside a dictionary. Good luck!!! "
   ]
  },
  {
   "cell_type": "markdown",
   "metadata": {},
   "source": [
    "# Number of lines"
   ]
  },
  {
   "cell_type": "code",
   "execution_count": 113,
   "metadata": {},
   "outputs": [
    {
     "data": {
      "text/plain": [
       "7"
      ]
     },
     "execution_count": 113,
     "metadata": {},
     "output_type": "execute_result"
    }
   ],
   "source": [
    "with open('data/quick.txt') as f:\n",
    "    text_list = f.readlines()\n",
    "\n",
    "len(text_list)"
   ]
  },
  {
   "cell_type": "code",
   "execution_count": 121,
   "metadata": {},
   "outputs": [],
   "source": [
    "with open('data/quick.txt','r') as f:\n",
    "    text = f.read()\n",
    "    "
   ]
  },
  {
   "cell_type": "code",
   "execution_count": 122,
   "metadata": {},
   "outputs": [],
   "source": [
    "def count_lines(string):\n",
    "    \n",
    "    c = 1\n",
    "    for char in string:\n",
    "        if char == \"\\n\":\n",
    "            c+=1\n",
    "    return c"
   ]
  },
  {
   "cell_type": "code",
   "execution_count": 124,
   "metadata": {},
   "outputs": [
    {
     "data": {
      "text/plain": [
       "7"
      ]
     },
     "execution_count": 124,
     "metadata": {},
     "output_type": "execute_result"
    }
   ],
   "source": [
    "count_lines(text)"
   ]
  },
  {
   "cell_type": "markdown",
   "metadata": {},
   "source": [
    "# Counting characters\n"
   ]
  },
  {
   "cell_type": "code",
   "execution_count": 48,
   "metadata": {},
   "outputs": [],
   "source": [
    "def count_chars1(string):\n",
    "    \n",
    "    count = {}\n",
    "    for char in string:\n",
    "        if char in count:\n",
    "            count[char] +=1\n",
    "        else:\n",
    "            count[char] = 1\n",
    "    \n",
    "    return count"
   ]
  },
  {
   "cell_type": "code",
   "execution_count": 49,
   "metadata": {},
   "outputs": [],
   "source": [
    "def count_chars2(string):\n",
    "    \n",
    "    count = {}\n",
    "    for char in string:\n",
    "        if char not in count:\n",
    "            count[char] =0\n",
    "        count[char] +=1 \n",
    "    \n",
    "    return count"
   ]
  },
  {
   "cell_type": "code",
   "execution_count": 52,
   "metadata": {},
   "outputs": [
    {
     "name": "stdout",
     "output_type": "stream",
     "text": [
      "12.9 µs ± 62.2 ns per loop (mean ± std. dev. of 7 runs, 100000 loops each)\n"
     ]
    }
   ],
   "source": [
    "%%timeit\n",
    "count_chars2(text)"
   ]
  },
  {
   "cell_type": "code",
   "execution_count": 53,
   "metadata": {},
   "outputs": [
    {
     "name": "stdout",
     "output_type": "stream",
     "text": [
      "10.6 µs ± 796 ns per loop (mean ± std. dev. of 7 runs, 100000 loops each)\n"
     ]
    }
   ],
   "source": [
    "%%timeit\n",
    "count_chars1(text)"
   ]
  },
  {
   "cell_type": "code",
   "execution_count": 138,
   "metadata": {},
   "outputs": [],
   "source": [
    "chars = count_chars(text);"
   ]
  },
  {
   "cell_type": "code",
   "execution_count": 152,
   "metadata": {},
   "outputs": [
    {
     "data": {
      "text/plain": [
       "{' ': 13, 'e': 7, 'h': 2, 'q': 1}"
      ]
     },
     "execution_count": 152,
     "metadata": {},
     "output_type": "execute_result"
    }
   ],
   "source": [
    "#First 5 keys\n",
    "{ k:chars[k] for k in list(chars.keys())[1:5]}"
   ]
  },
  {
   "cell_type": "code",
   "execution_count": 153,
   "metadata": {},
   "outputs": [
    {
     "data": {
      "text/plain": [
       "7"
      ]
     },
     "execution_count": 153,
     "metadata": {},
     "output_type": "execute_result"
    }
   ],
   "source": [
    "chars[\".\"] #number of senetnces"
   ]
  },
  {
   "cell_type": "code",
   "execution_count": 156,
   "metadata": {},
   "outputs": [
    {
     "data": {
      "text/plain": [
       "102"
      ]
     },
     "execution_count": 156,
     "metadata": {},
     "output_type": "execute_result"
    }
   ],
   "source": [
    "sum(chars.values()) #Number of chars"
   ]
  },
  {
   "cell_type": "markdown",
   "metadata": {},
   "source": [
    "# Number of words"
   ]
  },
  {
   "cell_type": "code",
   "execution_count": 16,
   "metadata": {},
   "outputs": [],
   "source": [
    "def remove_chars(string,unwanted_chars=[\",\",\".\",\"!\",\";\"]):\n",
    "    \n",
    "    char_list = list(string)\n",
    "    \n",
    "    for i,char in enumerate(char_list):\n",
    "        if char in unwanted_chars:\n",
    "            char_list[i] = \"\"\n",
    "    \n",
    "    return \"\".join(char_list)\n",
    "    \n",
    "                     "
   ]
  },
  {
   "cell_type": "code",
   "execution_count": 17,
   "metadata": {},
   "outputs": [
    {
     "data": {
      "text/plain": [
       "'kjfdhkjshdfksjfh,,,...kjd'"
      ]
     },
     "execution_count": 17,
     "metadata": {},
     "output_type": "execute_result"
    }
   ],
   "source": [
    "remove_chars(\"akjfdhakjshdfaksjfh,,,...akjd\",[\"a\",\"c\"])"
   ]
  },
  {
   "cell_type": "code",
   "execution_count": 41,
   "metadata": {},
   "outputs": [],
   "source": [
    "with open(\"data/quick.txt\") as f:\n",
    "    text = f.read()"
   ]
  },
  {
   "cell_type": "code",
   "execution_count": 42,
   "metadata": {},
   "outputs": [
    {
     "data": {
      "text/plain": [
       "'The quick, brown, fox. And, it jumps! Again.\\n\\nSome, sentence. \\n\\nJumps!, over. The Lazy.\\n    \\nDog. Montana.'"
      ]
     },
     "execution_count": 42,
     "metadata": {},
     "output_type": "execute_result"
    }
   ],
   "source": [
    "text"
   ]
  },
  {
   "cell_type": "code",
   "execution_count": 46,
   "metadata": {},
   "outputs": [],
   "source": [
    "count = 1\n",
    "for i in range(len(text)-1):\n",
    "    if text[i:i+2] == \"\\n\\n\":\n",
    "        \n",
    "        count +=1\n",
    "    \n",
    "    \n",
    "    \n",
    "    "
   ]
  },
  {
   "cell_type": "code",
   "execution_count": 47,
   "metadata": {},
   "outputs": [
    {
     "data": {
      "text/plain": [
       "3"
      ]
     },
     "execution_count": 47,
     "metadata": {},
     "output_type": "execute_result"
    }
   ],
   "source": [
    "count"
   ]
  },
  {
   "cell_type": "code",
   "execution_count": 35,
   "metadata": {},
   "outputs": [
    {
     "data": {
      "text/plain": [
       "'sj'"
      ]
     },
     "execution_count": 35,
     "metadata": {},
     "output_type": "execute_result"
    }
   ],
   "source": [
    "\"asjdhkfa\"[1:3]"
   ]
  },
  {
   "cell_type": "code",
   "execution_count": 27,
   "metadata": {},
   "outputs": [],
   "source": [
    "with open(\"data/quick.txt\") as f:\n",
    "    text_list = f.readlines()\n",
    "    "
   ]
  },
  {
   "cell_type": "code",
   "execution_count": 25,
   "metadata": {},
   "outputs": [
    {
     "data": {
      "text/plain": [
       "'The quick, brown, fox. And, it jumps! Again.\\n\\nSome, sentence. \\n\\n\\n\\nJumps!, over. The Lazy.\\n    \\nDog. Montana.'"
      ]
     },
     "execution_count": 25,
     "metadata": {},
     "output_type": "execute_result"
    }
   ],
   "source": [
    "text"
   ]
  },
  {
   "cell_type": "code",
   "execution_count": 29,
   "metadata": {},
   "outputs": [
    {
     "data": {
      "text/plain": [
       "9"
      ]
     },
     "execution_count": 29,
     "metadata": {},
     "output_type": "execute_result"
    }
   ],
   "source": [
    "len(text_list)"
   ]
  },
  {
   "cell_type": "code",
   "execution_count": 15,
   "metadata": {},
   "outputs": [
    {
     "data": {
      "text/plain": [
       "['a',\n",
       " 'k',\n",
       " 's',\n",
       " 'j',\n",
       " 'h',\n",
       " 'd',\n",
       " 'k',\n",
       " 'j',\n",
       " 'a',\n",
       " 'h',\n",
       " 'd',\n",
       " 'a',\n",
       " 's',\n",
       " 'k',\n",
       " 'j',\n",
       " 'h',\n",
       " 'd',\n",
       " 'k']"
      ]
     },
     "execution_count": 15,
     "metadata": {},
     "output_type": "execute_result"
    }
   ],
   "source": [
    "list(\"aksjhdkjahdaskjhdk\")"
   ]
  },
  {
   "cell_type": "code",
   "execution_count": 157,
   "metadata": {},
   "outputs": [
    {
     "name": "stdout",
     "output_type": "stream",
     "text": [
      "187 ns ± 10.3 ns per loop (mean ± std. dev. of 7 runs, 10000000 loops each)\n"
     ]
    }
   ],
   "source": [
    "%%timeit\n",
    "text.lower()"
   ]
  },
  {
   "cell_type": "code",
   "execution_count": 134,
   "metadata": {},
   "outputs": [],
   "source": [
    "def count_words(string):\n",
    "    \n",
    "    string = remove_chars(string)\n",
    "    string = string.lower()\n",
    "    word_list = string.split()\n",
    "    \n",
    "    count = {}\n",
    "    for word in word_list:\n",
    "        if word in count:\n",
    "            count[word] +=1\n",
    "        else:\n",
    "            count[word] = 1\n",
    "    \n",
    "    return count"
   ]
  },
  {
   "cell_type": "code",
   "execution_count": 135,
   "metadata": {},
   "outputs": [
    {
     "data": {
      "text/plain": [
       "{'again': 1,\n",
       " 'and': 1,\n",
       " 'brown': 1,\n",
       " 'dog': 1,\n",
       " 'fox': 1,\n",
       " 'it': 1,\n",
       " 'jumps': 2,\n",
       " 'lazy': 1,\n",
       " 'montana': 1,\n",
       " 'over': 1,\n",
       " 'quick': 1,\n",
       " 'sentence': 1,\n",
       " 'some': 1,\n",
       " 'the': 2}"
      ]
     },
     "execution_count": 135,
     "metadata": {},
     "output_type": "execute_result"
    }
   ],
   "source": [
    "count_words(text)"
   ]
  },
  {
   "cell_type": "code",
   "execution_count": 108,
   "metadata": {},
   "outputs": [],
   "source": [
    "count_chars(text);"
   ]
  },
  {
   "cell_type": "markdown",
   "metadata": {},
   "source": [
    "# Count number of paragraphs"
   ]
  },
  {
   "cell_type": "code",
   "execution_count": null,
   "metadata": {},
   "outputs": [],
   "source": [
    "def remove_end_ns(string):\n",
    "    \n",
    "    l = list(string)\n",
    "    while l[-1] == \"\\n\":\n",
    "        del l[-1]\n",
    "        \n",
    "    return \"\".join(l)"
   ]
  },
  {
   "cell_type": "code",
   "execution_count": null,
   "metadata": {},
   "outputs": [],
   "source": [
    "\"jdkashkdjahdk\""
   ]
  },
  {
   "cell_type": "code",
   "execution_count": 103,
   "metadata": {},
   "outputs": [],
   "source": [
    "def count_paragraphs(string):\n",
    "    \n",
    "    c = 1\n",
    "    string = remove_end_ns(string)\n",
    "\n",
    "    for i in range(len(string)):\n",
    "        try: \n",
    "            if (string[i:i+2] == \"\\n\\n\") and (string[i-1] != \"\\n\"):\n",
    "                c+=1\n",
    "        except:\n",
    "            pass\n",
    "        \n",
    "    return c"
   ]
  },
  {
   "cell_type": "code",
   "execution_count": null,
   "metadata": {},
   "outputs": [],
   "source": [
    "\"sklfjslkjdfslkjflskdjf\""
   ]
  }
 ],
 "metadata": {
  "kernelspec": {
   "display_name": "Python 3",
   "language": "python",
   "name": "python3"
  },
  "language_info": {
   "codemirror_mode": {
    "name": "ipython",
    "version": 3
   },
   "file_extension": ".py",
   "mimetype": "text/x-python",
   "name": "python",
   "nbconvert_exporter": "python",
   "pygments_lexer": "ipython3",
   "version": "3.6.3"
  }
 },
 "nbformat": 4,
 "nbformat_minor": 2
}
