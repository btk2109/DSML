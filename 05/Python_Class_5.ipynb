{
 "cells": [
  {
   "cell_type": "markdown",
   "metadata": {
    "deletable": true,
    "editable": true
   },
   "source": [
    "![Image of Yaktocat](https://pbs.twimg.com/profile_images/811501827363520512/zhuGojAu_400x400.jpg)"
   ]
  },
  {
   "cell_type": "markdown",
   "metadata": {
    "deletable": true,
    "editable": true
   },
   "source": [
    "# Number of paragrpahs"
   ]
  },
  {
   "cell_type": "code",
   "execution_count": 2,
   "metadata": {
    "collapsed": true,
    "deletable": true,
    "editable": true
   },
   "outputs": [],
   "source": [
    "f = open('quick.txt','r')\n",
    "text = f.read()"
   ]
  },
  {
   "cell_type": "code",
   "execution_count": 3,
   "metadata": {
    "collapsed": false,
    "deletable": true,
    "editable": true
   },
   "outputs": [
    {
     "data": {
      "text/plain": [
       "'The quick, brown, fox. And, it jumps! Again.\\n\\nSome, sentence. \\n\\nJumps!, over. The Lazy.\\n\\nDog. Montana.'"
      ]
     },
     "execution_count": 3,
     "metadata": {},
     "output_type": "execute_result"
    }
   ],
   "source": [
    "text"
   ]
  },
  {
   "cell_type": "code",
   "execution_count": 4,
   "metadata": {
    "collapsed": true,
    "deletable": true,
    "editable": true
   },
   "outputs": [],
   "source": [
    "num_paragraphs = 1\n",
    "for i in range(len(text)):\n",
    "    if text[i:i+2] == \"\\n\\n\":\n",
    "        num_paragraphs+=1\n",
    "    "
   ]
  },
  {
   "cell_type": "code",
   "execution_count": 5,
   "metadata": {
    "collapsed": false,
    "deletable": true,
    "editable": true
   },
   "outputs": [
    {
     "data": {
      "text/plain": [
       "4"
      ]
     },
     "execution_count": 5,
     "metadata": {},
     "output_type": "execute_result"
    }
   ],
   "source": [
    "num_paragraphs"
   ]
  },
  {
   "cell_type": "markdown",
   "metadata": {
    "deletable": true,
    "editable": true
   },
   "source": [
    "# Number of lines"
   ]
  },
  {
   "cell_type": "code",
   "execution_count": 7,
   "metadata": {
    "collapsed": false,
    "deletable": true,
    "editable": true
   },
   "outputs": [
    {
     "data": {
      "text/plain": [
       "7"
      ]
     },
     "execution_count": 7,
     "metadata": {},
     "output_type": "execute_result"
    }
   ],
   "source": [
    "f = open('quick.txt','r')\n",
    "lines = f.readlines()\n",
    "len(lines)"
   ]
  },
  {
   "cell_type": "code",
   "execution_count": 13,
   "metadata": {
    "collapsed": false,
    "deletable": true,
    "editable": true
   },
   "outputs": [
    {
     "data": {
      "text/plain": [
       "['The quick, brown, fox. And, it jumps! Again.\\n',\n",
       " '\\n',\n",
       " 'Some, sentence. \\n',\n",
       " '\\n',\n",
       " 'Jumps!, over. The Lazy.\\n',\n",
       " '\\n',\n",
       " 'Dog. Montana.']"
      ]
     },
     "execution_count": 13,
     "metadata": {},
     "output_type": "execute_result"
    }
   ],
   "source": [
    "lines"
   ]
  },
  {
   "cell_type": "markdown",
   "metadata": {
    "deletable": true,
    "editable": true
   },
   "source": [
    "# Num of sentences"
   ]
  },
  {
   "cell_type": "code",
   "execution_count": 26,
   "metadata": {
    "collapsed": true,
    "deletable": true,
    "editable": true
   },
   "outputs": [],
   "source": [
    "num_sentences = 0\n",
    "for i in range(len(text)):\n",
    "    if (text[i] == \".\"):\n",
    "        num_sentences +=1"
   ]
  },
  {
   "cell_type": "code",
   "execution_count": 27,
   "metadata": {
    "collapsed": false,
    "deletable": true,
    "editable": true
   },
   "outputs": [
    {
     "data": {
      "text/plain": [
       "7"
      ]
     },
     "execution_count": 27,
     "metadata": {},
     "output_type": "execute_result"
    }
   ],
   "source": [
    "num_sentences"
   ]
  },
  {
   "cell_type": "markdown",
   "metadata": {
    "deletable": true,
    "editable": true
   },
   "source": [
    "# Number of Words and Repetition"
   ]
  },
  {
   "cell_type": "code",
   "execution_count": 28,
   "metadata": {
    "collapsed": true,
    "deletable": true,
    "editable": true
   },
   "outputs": [],
   "source": [
    "f = open(\"quick.txt\")\n",
    "text = f.read()"
   ]
  },
  {
   "cell_type": "code",
   "execution_count": 29,
   "metadata": {
    "collapsed": false,
    "deletable": true,
    "editable": true
   },
   "outputs": [
    {
     "data": {
      "text/plain": [
       "'The quick, brown, fox. And, it jumps! Again.\\n\\nSome, sentence. \\n\\nJumps!, over. The Lazy.\\n\\nDog. Montana.'"
      ]
     },
     "execution_count": 29,
     "metadata": {},
     "output_type": "execute_result"
    }
   ],
   "source": [
    "text"
   ]
  },
  {
   "cell_type": "code",
   "execution_count": 30,
   "metadata": {
    "collapsed": true,
    "deletable": true,
    "editable": true
   },
   "outputs": [],
   "source": [
    "words = text.split()"
   ]
  },
  {
   "cell_type": "code",
   "execution_count": 31,
   "metadata": {
    "collapsed": false,
    "deletable": true,
    "editable": true
   },
   "outputs": [
    {
     "data": {
      "text/plain": [
       "['The',\n",
       " 'quick,',\n",
       " 'brown,',\n",
       " 'fox.',\n",
       " 'And,',\n",
       " 'it',\n",
       " 'jumps!',\n",
       " 'Again.',\n",
       " 'Some,',\n",
       " 'sentence.',\n",
       " 'Jumps!,',\n",
       " 'over.',\n",
       " 'The',\n",
       " 'Lazy.',\n",
       " 'Dog.',\n",
       " 'Montana.']"
      ]
     },
     "execution_count": 31,
     "metadata": {},
     "output_type": "execute_result"
    }
   ],
   "source": [
    "words"
   ]
  },
  {
   "cell_type": "code",
   "execution_count": 35,
   "metadata": {
    "collapsed": false,
    "deletable": true,
    "editable": true
   },
   "outputs": [
    {
     "data": {
      "text/plain": [
       "16"
      ]
     },
     "execution_count": 35,
     "metadata": {},
     "output_type": "execute_result"
    }
   ],
   "source": [
    "len(words)"
   ]
  },
  {
   "cell_type": "code",
   "execution_count": 32,
   "metadata": {
    "collapsed": false,
    "deletable": true,
    "editable": true
   },
   "outputs": [
    {
     "name": "stdout",
     "output_type": "stream",
     "text": [
      "The\n",
      "{'The': 1}\n",
      "quick\n",
      "{'The': 1, 'quick': 1}\n",
      "brown\n",
      "{'The': 1, 'quick': 1, 'brown': 1}\n",
      "fox\n",
      "{'The': 1, 'quick': 1, 'brown': 1, 'fox': 1}\n",
      "And\n",
      "{'The': 1, 'quick': 1, 'brown': 1, 'fox': 1, 'And': 1}\n",
      "it\n",
      "{'The': 1, 'quick': 1, 'brown': 1, 'fox': 1, 'And': 1, 'it': 1}\n",
      "jumps\n",
      "{'The': 1, 'quick': 1, 'brown': 1, 'fox': 1, 'And': 1, 'it': 1, 'jumps': 1}\n",
      "Again\n",
      "{'The': 1, 'quick': 1, 'brown': 1, 'fox': 1, 'And': 1, 'it': 1, 'jumps': 1, 'Again': 1}\n",
      "Some\n",
      "{'The': 1, 'quick': 1, 'brown': 1, 'fox': 1, 'And': 1, 'it': 1, 'jumps': 1, 'Again': 1, 'Some': 1}\n",
      "sentence\n",
      "{'The': 1, 'quick': 1, 'brown': 1, 'fox': 1, 'And': 1, 'it': 1, 'jumps': 1, 'Again': 1, 'Some': 1, 'sentence': 1}\n",
      "Jumps\n",
      "{'The': 1, 'quick': 1, 'brown': 1, 'fox': 1, 'And': 1, 'it': 1, 'jumps': 1, 'Again': 1, 'Some': 1, 'sentence': 1, 'Jumps': 1}\n",
      "over\n",
      "{'The': 1, 'quick': 1, 'brown': 1, 'fox': 1, 'And': 1, 'it': 1, 'jumps': 1, 'Again': 1, 'Some': 1, 'sentence': 1, 'Jumps': 1, 'over': 1}\n",
      "The\n",
      "{'The': 2, 'quick': 1, 'brown': 1, 'fox': 1, 'And': 1, 'it': 1, 'jumps': 1, 'Again': 1, 'Some': 1, 'sentence': 1, 'Jumps': 1, 'over': 1}\n",
      "Lazy\n",
      "{'The': 2, 'quick': 1, 'brown': 1, 'fox': 1, 'And': 1, 'it': 1, 'jumps': 1, 'Again': 1, 'Some': 1, 'sentence': 1, 'Jumps': 1, 'over': 1, 'Lazy': 1}\n",
      "Dog\n",
      "{'The': 2, 'quick': 1, 'brown': 1, 'fox': 1, 'And': 1, 'it': 1, 'jumps': 1, 'Again': 1, 'Some': 1, 'sentence': 1, 'Jumps': 1, 'over': 1, 'Lazy': 1, 'Dog': 1}\n",
      "Montana\n",
      "{'The': 2, 'quick': 1, 'brown': 1, 'fox': 1, 'And': 1, 'it': 1, 'jumps': 1, 'Again': 1, 'Some': 1, 'sentence': 1, 'Jumps': 1, 'over': 1, 'Lazy': 1, 'Dog': 1, 'Montana': 1}\n"
     ]
    }
   ],
   "source": [
    "words\n",
    "unwanted_chars = \".,!\"\n",
    "wordfreq = {}\n",
    "for raw_word in words:\n",
    "    word = raw_word.strip(unwanted_chars)\n",
    "    print(word)\n",
    "    if word not in wordfreq:\n",
    "        wordfreq[word] = 0 # \n",
    "    wordfreq[word] += 1\n",
    "    print(wordfreq)"
   ]
  },
  {
   "cell_type": "code",
   "execution_count": 33,
   "metadata": {
    "collapsed": false,
    "deletable": true,
    "editable": true
   },
   "outputs": [
    {
     "data": {
      "text/plain": [
       "{'Montana': 0}"
      ]
     },
     "execution_count": 33,
     "metadata": {},
     "output_type": "execute_result"
    }
   ],
   "source": [
    "s={}\n",
    "s[word] = 0\n",
    "s"
   ]
  },
  {
   "cell_type": "markdown",
   "metadata": {
    "deletable": true,
    "editable": true
   },
   "source": [
    "# Number of Characters"
   ]
  },
  {
   "cell_type": "code",
   "execution_count": 16,
   "metadata": {
    "collapsed": true,
    "deletable": true,
    "editable": true
   },
   "outputs": [],
   "source": [
    "f = open('quick.txt','r')\n",
    "text = f.read()"
   ]
  },
  {
   "cell_type": "code",
   "execution_count": 17,
   "metadata": {
    "collapsed": false,
    "deletable": true,
    "editable": true
   },
   "outputs": [
    {
     "data": {
      "text/plain": [
       "'The quick, brown, fox. And, it jumps! Again.\\n\\nSome, sentence. \\n\\nJumps!, over. The Lazy.\\n\\nDog. Montana.'"
      ]
     },
     "execution_count": 17,
     "metadata": {},
     "output_type": "execute_result"
    }
   ],
   "source": [
    "text"
   ]
  },
  {
   "cell_type": "code",
   "execution_count": 18,
   "metadata": {
    "collapsed": false,
    "deletable": true,
    "editable": true
   },
   "outputs": [
    {
     "data": {
      "text/plain": [
       "102"
      ]
     },
     "execution_count": 18,
     "metadata": {},
     "output_type": "execute_result"
    }
   ],
   "source": [
    "len(text)"
   ]
  },
  {
   "cell_type": "markdown",
   "metadata": {
    "deletable": true,
    "editable": true
   },
   "source": [
    "# Number of Alphabets\n",
    "\n",
    "Well start by removing any additional puncation, this can be achieved using python's standard libraries functions like bellow."
   ]
  },
  {
   "cell_type": "code",
   "execution_count": 22,
   "metadata": {
    "collapsed": true
   },
   "outputs": [],
   "source": [
    "f = open(\"quick.txt\")\n",
    "text = f.read()\n",
    "\n",
    "text1 = text.replace(\"\\n\",\"\")\n",
    "text2 = text1.replace(\".\",\"\")\n",
    "text3 = text2.replace(\" \",\"\")\n",
    "text4 = text3.replace(\"!\",\"\")\n",
    "text5 = text4.replace(\",\",\"\")\n",
    "text6 = text5.lower()"
   ]
  },
  {
   "cell_type": "code",
   "execution_count": 23,
   "metadata": {
    "collapsed": false
   },
   "outputs": [
    {
     "data": {
      "text/plain": [
       "'The quick, brown, fox. And, it jumps! Again.Some, sentence. Jumps!, over. The Lazy.Dog. Montana.'"
      ]
     },
     "execution_count": 23,
     "metadata": {},
     "output_type": "execute_result"
    }
   ],
   "source": [
    "text1"
   ]
  },
  {
   "cell_type": "code",
   "execution_count": 24,
   "metadata": {
    "collapsed": false
   },
   "outputs": [
    {
     "data": {
      "text/plain": [
       "'The quick, brown, fox And, it jumps! AgainSome, sentence Jumps!, over The LazyDog Montana'"
      ]
     },
     "execution_count": 24,
     "metadata": {},
     "output_type": "execute_result"
    }
   ],
   "source": [
    "text2"
   ]
  },
  {
   "cell_type": "code",
   "execution_count": 25,
   "metadata": {
    "collapsed": false
   },
   "outputs": [
    {
     "data": {
      "text/plain": [
       "'Thequick,brown,foxAnd,itjumps!AgainSome,sentenceJumps!,overTheLazyDogMontana'"
      ]
     },
     "execution_count": 25,
     "metadata": {},
     "output_type": "execute_result"
    }
   ],
   "source": [
    "text3"
   ]
  },
  {
   "cell_type": "code",
   "execution_count": 26,
   "metadata": {
    "collapsed": false
   },
   "outputs": [
    {
     "data": {
      "text/plain": [
       "'Thequick,brown,foxAnd,itjumpsAgainSome,sentenceJumps,overTheLazyDogMontana'"
      ]
     },
     "execution_count": 26,
     "metadata": {},
     "output_type": "execute_result"
    }
   ],
   "source": [
    "text4"
   ]
  },
  {
   "cell_type": "code",
   "execution_count": 27,
   "metadata": {
    "collapsed": false
   },
   "outputs": [
    {
     "data": {
      "text/plain": [
       "'ThequickbrownfoxAnditjumpsAgainSomesentenceJumpsoverTheLazyDogMontana'"
      ]
     },
     "execution_count": 27,
     "metadata": {},
     "output_type": "execute_result"
    }
   ],
   "source": [
    "text5"
   ]
  },
  {
   "cell_type": "code",
   "execution_count": 28,
   "metadata": {
    "collapsed": false
   },
   "outputs": [
    {
     "data": {
      "text/plain": [
       "'thequickbrownfoxanditjumpsagainsomesentencejumpsoverthelazydogmontana'"
      ]
     },
     "execution_count": 28,
     "metadata": {},
     "output_type": "execute_result"
    }
   ],
   "source": [
    "text6"
   ]
  },
  {
   "cell_type": "markdown",
   "metadata": {},
   "source": [
    "As you can see this is fairly repetative, it's a good opportunity to use a for loop"
   ]
  },
  {
   "cell_type": "code",
   "execution_count": 18,
   "metadata": {
    "collapsed": false,
    "deletable": true,
    "editable": true
   },
   "outputs": [
    {
     "name": "stdout",
     "output_type": "stream",
     "text": [
      "ThequickbrownfoxAnditjumpsAgainSomesentenceJumpsoverTheLazyDogMontana\n"
     ]
    }
   ],
   "source": [
    "f = open(\"quick.txt\")\n",
    "text = f.read()\n",
    "\n",
    "puncation = [\"\\n\",\"'\",\".\",\"!\",\",\",\" \"]\n",
    "for char in puncation:\n",
    "    text = text.replace(char,\"\")\n",
    "\n",
    "print(text)"
   ]
  },
  {
   "cell_type": "markdown",
   "metadata": {},
   "source": [
    "However this can be achieved more succinctly using regexes. It also has the added benfit that they will be much faster when amount of text gets larger."
   ]
  },
  {
   "cell_type": "code",
   "execution_count": 5,
   "metadata": {
    "collapsed": true
   },
   "outputs": [],
   "source": [
    "import re"
   ]
  },
  {
   "cell_type": "code",
   "execution_count": 19,
   "metadata": {
    "collapsed": false,
    "deletable": true,
    "editable": true
   },
   "outputs": [
    {
     "name": "stdout",
     "output_type": "stream",
     "text": [
      "ThequickbrownfoxAnditjumpsAgainSomesentenceJumpsoverTheLazyDogMontana\n"
     ]
    }
   ],
   "source": [
    "f = open(\"quick.txt\")\n",
    "text = f.read() \n",
    "text = re.sub(\"[!,.;\\n ]\",\"\",text)\n",
    "print(text)"
   ]
  },
  {
   "cell_type": "code",
   "execution_count": 9,
   "metadata": {
    "collapsed": true,
    "deletable": true,
    "editable": true
   },
   "outputs": [],
   "source": [
    "character_frequency = {}\n",
    "for letter in list(text6):\n",
    "    if  letter not in character_frequency:\n",
    "        character_frequency[letter] = 1\n",
    "    else:\n",
    "        character_frequency[letter] += 1"
   ]
  },
  {
   "cell_type": "code",
   "execution_count": 10,
   "metadata": {
    "collapsed": false,
    "deletable": true,
    "editable": true
   },
   "outputs": [
    {
     "data": {
      "text/plain": [
       "{'a': 6,\n",
       " 'b': 1,\n",
       " 'c': 2,\n",
       " 'd': 2,\n",
       " 'e': 7,\n",
       " 'f': 1,\n",
       " 'g': 2,\n",
       " 'h': 2,\n",
       " 'i': 3,\n",
       " 'j': 2,\n",
       " 'k': 1,\n",
       " 'l': 1,\n",
       " 'm': 4,\n",
       " 'n': 7,\n",
       " 'o': 6,\n",
       " 'p': 2,\n",
       " 'q': 1,\n",
       " 'r': 2,\n",
       " 's': 4,\n",
       " 't': 5,\n",
       " 'u': 3,\n",
       " 'v': 1,\n",
       " 'w': 1,\n",
       " 'x': 1,\n",
       " 'y': 1,\n",
       " 'z': 1}"
      ]
     },
     "execution_count": 10,
     "metadata": {},
     "output_type": "execute_result"
    }
   ],
   "source": [
    "character_frequency"
   ]
  },
  {
   "cell_type": "markdown",
   "metadata": {
    "deletable": true,
    "editable": true
   },
   "source": [
    "## What is NumPy?"
   ]
  },
  {
   "cell_type": "markdown",
   "metadata": {
    "deletable": true,
    "editable": true
   },
   "source": [
    "![image.png](attachment:image.png)"
   ]
  },
  {
   "cell_type": "markdown",
   "metadata": {
    "deletable": true,
    "editable": true
   },
   "source": [
    "NumPy is a Python C extension library for array-oriented computing"
   ]
  },
  {
   "cell_type": "markdown",
   "metadata": {
    "deletable": true,
    "editable": true
   },
   "source": [
    "![image.png](attachment:image.png)"
   ]
  },
  {
   "cell_type": "markdown",
   "metadata": {
    "deletable": true,
    "editable": true
   },
   "source": [
    "## Pandas"
   ]
  },
  {
   "cell_type": "markdown",
   "metadata": {
    "deletable": true,
    "editable": true
   },
   "source": [
    "![image.png](attachment:image.png)"
   ]
  },
  {
   "cell_type": "markdown",
   "metadata": {
    "deletable": true,
    "editable": true
   },
   "source": [
    "Think of Panda as a tool that picks functions and code already defined and labored in “NumPy” to save the user to time and space to handle big data. Very simply put Panda is the cake and NumPy are all the ingredients that need to put together to make that cake. Large scale you need a machine that cranks output instantly rather then hand making the product.\n",
    "Panda is a library that has it’s root dating back to 2008 that begun it’s inception by a former employee of AQR Capital Management Wes McKinney, who wanted to accelerate quantitative analysis. AQR Capital was generous enough to allow the code to be open sourced.\n",
    "Pandas library allows us to do data anlysis, manipulation and storing very easily in python."
   ]
  },
  {
   "cell_type": "markdown",
   "metadata": {
    "deletable": true,
    "editable": true
   },
   "source": [
    "![image.png](attachment:image.png)"
   ]
  },
  {
   "cell_type": "markdown",
   "metadata": {
    "deletable": true,
    "editable": true
   },
   "source": [
    "![image.png](attachment:image.png)"
   ]
  },
  {
   "cell_type": "markdown",
   "metadata": {
    "deletable": true,
    "editable": true
   },
   "source": [
    "![image.png](attachment:image.png)"
   ]
  },
  {
   "cell_type": "markdown",
   "metadata": {
    "deletable": true,
    "editable": true
   },
   "source": [
    "![image.png](attachment:image.png)"
   ]
  }
 ],
 "metadata": {
  "kernelspec": {
   "display_name": "Python 2",
   "language": "python",
   "name": "python2"
  },
  "language_info": {
   "codemirror_mode": {
    "name": "ipython",
    "version": 2
   },
   "file_extension": ".py",
   "mimetype": "text/x-python",
   "name": "python",
   "nbconvert_exporter": "python",
   "pygments_lexer": "ipython2",
   "version": "2.7.12"
  }
 },
 "nbformat": 4,
 "nbformat_minor": 2
}
