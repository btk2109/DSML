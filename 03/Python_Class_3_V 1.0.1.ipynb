{
 "cells": [
  {
   "cell_type": "markdown",
   "metadata": {},
   "source": [
    "![Image of Yaktocat](https://pbs.twimg.com/profile_images/811501827363520512/zhuGojAu_400x400.jpg)"
   ]
  },
  {
   "cell_type": "markdown",
   "metadata": {},
   "source": [
    "### Maximum"
   ]
  },
  {
   "cell_type": "code",
   "execution_count": null,
   "metadata": {},
   "outputs": [],
   "source": [
    "x=[1,55,3,64,6,4,32,15]\n",
    "m = 1\n",
    "for i in x:\n",
    "    if(i > m):\n",
    "        m = i \n",
    "print(m)"
   ]
  },
  {
   "cell_type": "markdown",
   "metadata": {},
   "source": [
    "### Minimum"
   ]
  },
  {
   "cell_type": "code",
   "execution_count": null,
   "metadata": {},
   "outputs": [],
   "source": [
    "for i in x:\n",
    "    if(i < m):\n",
    "        m = i\n",
    "print(m)"
   ]
  },
  {
   "cell_type": "markdown",
   "metadata": {},
   "source": [
    "### Mean"
   ]
  },
  {
   "cell_type": "code",
   "execution_count": null,
   "metadata": {},
   "outputs": [],
   "source": [
    "m = 0\n",
    "for i in x:\n",
    "    m = m + i\n",
    "mean = m/len(x)\n",
    "mean"
   ]
  },
  {
   "cell_type": "markdown",
   "metadata": {},
   "source": [
    "### Variables Scope\n",
    "\n",
    "Global Variables and Local Variables"
   ]
  },
  {
   "cell_type": "raw",
   "metadata": {},
   "source": [
    "A variable can be either of global or local scope. A global variable is a variable declared in the main body of the source code, outside all functions, while a local variable is one declared within the body of a function or a block."
   ]
  },
  {
   "cell_type": "code",
   "execution_count": null,
   "metadata": {},
   "outputs": [],
   "source": [
    "x = 10                # x here is a global variable\n",
    "\n",
    "def add(y):           \n",
    "    x = 20            # x here is a local variable\n",
    "    return x + y"
   ]
  },
  {
   "cell_type": "code",
   "execution_count": null,
   "metadata": {},
   "outputs": [],
   "source": [
    "add(15)    # add function uses the local variable x and adds it to y."
   ]
  },
  {
   "cell_type": "code",
   "execution_count": null,
   "metadata": {},
   "outputs": [],
   "source": [
    "x   # now if we run x it will use the global variable value which is 10. It's not a preference\n",
    "    # over the local variable."
   ]
  },
  {
   "cell_type": "markdown",
   "metadata": {},
   "source": [
    "### Understanding the return command"
   ]
  },
  {
   "cell_type": "code",
   "execution_count": null,
   "metadata": {},
   "outputs": [],
   "source": [
    "def multiply(a,b):   \n",
    "    c = a * b"
   ]
  },
  {
   "cell_type": "code",
   "execution_count": null,
   "metadata": {},
   "outputs": [],
   "source": [
    "results = multiply(5,5)\n",
    "print(results)"
   ]
  },
  {
   "cell_type": "code",
   "execution_count": null,
   "metadata": {},
   "outputs": [],
   "source": [
    "def multiply(a,b):    \n",
    "    c = a * b\n",
    "    return c"
   ]
  },
  {
   "cell_type": "code",
   "execution_count": null,
   "metadata": {},
   "outputs": [],
   "source": [
    "results = multiply(5,5)\n",
    "print(results)"
   ]
  },
  {
   "cell_type": "markdown",
   "metadata": {},
   "source": [
    "### More complex problem"
   ]
  },
  {
   "cell_type": "code",
   "execution_count": null,
   "metadata": {},
   "outputs": [],
   "source": [
    "global_var = 'foo'\n",
    "def ex1():\n",
    "    local_var = 'bar'\n",
    "    print(global_var)\n",
    "    print(local_var)\n",
    "\n",
    "ex1()\n",
    "print(global_var)\n",
    "print(local_var)  # this gives an error"
   ]
  },
  {
   "cell_type": "code",
   "execution_count": 16,
   "metadata": {},
   "outputs": [
    {
     "name": "stdout",
     "output_type": "stream",
     "text": [
      "local 1 : foo\n",
      "local 2 : bar\n",
      "global 3: foo\n",
      "local 1 : foo\n",
      "local 2 : bar\n",
      "global 4: bar\n"
     ]
    }
   ],
   "source": [
    "global_var = 'foo'\n",
    "def ex1():\n",
    "    local_var = 'bar'\n",
    "    print(\"local 1 : \" + global_var)\n",
    "    print(\"local 2 : \" + local_var)\n",
    "    return local_var\n",
    "    \n",
    "ex1()\n",
    "print(\"global 3: \" + global_var)\n",
    "print(\"global 4: \" + ex1()) "
   ]
  },
  {
   "cell_type": "code",
   "execution_count": 13,
   "metadata": {},
   "outputs": [],
   "source": [
    "def ex2():  \n",
    "    return \"value\""
   ]
  },
  {
   "cell_type": "code",
   "execution_count": 15,
   "metadata": {},
   "outputs": [
    {
     "name": "stdout",
     "output_type": "stream",
     "text": [
      "Some value\n"
     ]
    }
   ],
   "source": [
    "print(\"Some \" + ex2())"
   ]
  },
  {
   "cell_type": "code",
   "execution_count": 4,
   "metadata": {},
   "outputs": [
    {
     "name": "stdout",
     "output_type": "stream",
     "text": [
      "out: foo\n",
      "out: bar\n",
      "out2: foo\n",
      "out: foo\n",
      "out: bar\n",
      "out2 bar\n"
     ]
    }
   ],
   "source": [
    "global_var = 'foo'\n",
    "def ex1():\n",
    "    local_var = 'bar'\n",
    "    print(\"out: \" + global_var)\n",
    "    print(\"out: \" + local_var)\n",
    "    return local_var\n",
    "\n",
    "ex1()\n",
    "print(\"out2: \" + global_var) # change to out2\n",
    "print(\"out2 \" + ex1())"
   ]
  },
  {
   "cell_type": "markdown",
   "metadata": {},
   "source": [
    "# Exercise: Body Mass Index program in Python\n",
    "### if bmi <= 18.5 then Underweight\n",
    "### if bmi > 18.5 and bmi < 25.0 then Normal\n",
    "### if bmi >= 25.0 and bmi < 30.0 then Overweight\n",
    "### if bmi >= 30 then Obese"
   ]
  },
  {
   "cell_type": "code",
   "execution_count": 17,
   "metadata": {},
   "outputs": [],
   "source": [
    "import random\n",
    "age=[]\n",
    "weight=[]\n",
    "height=[]\n",
    "gender=[]\n",
    "random.seed(0) # So that everyone gets the same random results\n",
    "for x in range(100):\n",
    "    age.append(random.randint(12,95))     # [a,b). a-inclusive, b-exclusive\n",
    "    weight.append(random.uniform(40,201)) # [a,b). a-inclusive, b-exclusive\n",
    "    height.append(random.uniform(1.2,2))  \n",
    "    gender.append(random.randint(0,1))"
   ]
  },
  {
   "cell_type": "code",
   "execution_count": 28,
   "metadata": {},
   "outputs": [
    {
     "data": {
      "text/plain": [
       "\u001b[0;31mSignature:\u001b[0m \u001b[0mrandom\u001b[0m\u001b[0;34m.\u001b[0m\u001b[0mrandint\u001b[0m\u001b[0;34m(\u001b[0m\u001b[0ma\u001b[0m\u001b[0;34m,\u001b[0m \u001b[0mb\u001b[0m\u001b[0;34m)\u001b[0m\u001b[0;34m\u001b[0m\u001b[0m\n",
       "\u001b[0;31mDocstring:\u001b[0m\n",
       "Return random integer in range [a, b], including both end points.\n",
       "        \n",
       "\u001b[0;31mFile:\u001b[0m      ~/anaconda3/lib/python3.6/random.py\n",
       "\u001b[0;31mType:\u001b[0m      method\n"
      ]
     },
     "metadata": {},
     "output_type": "display_data"
    }
   ],
   "source": [
    "random.randint?"
   ]
  },
  {
   "cell_type": "code",
   "execution_count": null,
   "metadata": {},
   "outputs": [],
   "source": [
    "weight"
   ]
  },
  {
   "cell_type": "code",
   "execution_count": null,
   "metadata": {},
   "outputs": [],
   "source": [
    "height"
   ]
  },
  {
   "cell_type": "code",
   "execution_count": null,
   "metadata": {},
   "outputs": [],
   "source": [
    "gender"
   ]
  },
  {
   "cell_type": "markdown",
   "metadata": {},
   "source": [
    "# $$ BMI = \\frac{w}{h^2} \\cdot 703 $$"
   ]
  },
  {
   "cell_type": "code",
   "execution_count": 30,
   "metadata": {},
   "outputs": [],
   "source": [
    "# function to calculate bmi. The simplest way, as array and list\n",
    "def calculate_bmi(w, h):     # •\tdef calculate_bmi0(w, h):  We are defining by calling “def”. Note that “calculate_bmi, w & h” \n",
    "                              # are all variables. (w and h have not been defined as yet). Note it is important to put “:” \n",
    "    bmi_list = []             # We have created an empty list called “bmi_list”. Important!. To create list you use \"[]\"\n",
    "    for i in range(len(w)):   # creating a for loop with a range equal to the length of the weight.\n",
    "        bmi_v = w[i]/(h[i]**2)# Formula for calculating BMI. We run the forumula and assign to variable bmi_v through each\n",
    "        bmi_list.append(bmi_v)# iteration. We append the result of each bmi_v to bmi_list, which grows through each iternation.\n",
    "    return bmi_list           # we \"return\" bmi_result to complete the def calculate_bmi0(w,h): function "
   ]
  },
  {
   "cell_type": "code",
   "execution_count": 31,
   "metadata": {},
   "outputs": [
    {
     "name": "stdout",
     "output_type": "stream",
     "text": [
      "[68.63667357400811, 31.591261074416156, 26.673201033119796, 36.275389075371244, 42.60914659861165, 35.26724250779653, 59.16648516668699, 76.96650652128591, 90.39993859635427, 67.54919613145715, 33.30019683708593, 98.04254480330833, 98.07720490354339, 24.97650851320505, 43.1210906056418, 24.91907800566141, 62.6346075301802, 79.72673998423689, 20.180040289323735, 99.8639130734051, 87.76290967391094, 47.716956850323626, 24.672231348927998, 73.31479173155167, 40.664089507326366, 55.21976879867519, 24.829310703272494, 55.93831533659516, 32.39594171230393, 58.85102481324894, 32.901445609166906, 15.701974274534471, 74.80821220764467, 36.905056773500476, 44.34327182956648, 25.611832272390387, 26.86751285029342, 14.195370729302, 30.66227257933384, 125.90920486031568, 48.48859666826508, 13.83391607367872, 27.878399876829803, 88.97452659271525, 59.438704265288294, 64.72910983482979, 36.87767945285061, 43.68642572671025, 43.87329983989092, 31.255814920657322, 33.7651605069216, 42.595530940936364, 49.43188520619343, 56.925633340582465, 47.16178436366903, 33.04967025775571, 85.91519197525744, 27.628148109179318, 75.75157063922867, 21.639646216696715, 77.0874683945316, 34.505356529665704, 23.522531734579527, 89.10884710867586, 15.289725550069194, 51.413179761715526, 46.452802846936116, 30.592657948972796, 48.9373324892833, 38.729286003832975, 32.82253932241753, 16.83813234528625, 38.56142894949212, 60.386082292620614, 26.309396852332227, 49.027314900525646, 15.082895543531492, 44.68994859285807, 37.82800771240566, 27.722146174303994, 62.58650484131104, 92.15188405494708, 62.378109620623235, 56.142284952452364, 28.235919082512257, 69.17316723232112, 14.063221869662923, 37.161669739682544, 55.79081687458941, 85.1812773764107, 28.343374190718997, 114.00702677026014, 41.31158651442864, 43.61309471907846, 73.08131161006845, 113.80249419393917, 78.07675335477761, 28.051199376434667, 64.85770831992964, 50.18833226446321]\n"
     ]
    }
   ],
   "source": [
    "# calculate the BMI and return a list for each person's BMI in the dataset\n",
    "bmi = calculate_bmi(weight, height) # Our sample size is 100. Had we put 10000000. The program would probably crash.\n",
    "print(bmi)                           # Note the result comes out as a list."
   ]
  },
  {
   "cell_type": "code",
   "execution_count": 35,
   "metadata": {},
   "outputs": [],
   "source": [
    "# function: return the body condition as an integer given the bmi, for easy processing (0 - 3)\n",
    "# #one case per each group\n",
    "def bodyCondition(_bmi):\n",
    "    if _bmi <= 18.5:\n",
    "         cnd = 0 # Underweight\n",
    "    elif _bmi > 18.5 and _bmi < 25.0:\n",
    "         cnd = 1 # Normal\n",
    "    elif _bmi >= 25.0 and _bmi < 30.0:\n",
    "         cnd = 2 # Overweight\n",
    "    elif _bmi >= 30:\n",
    "         cnd = 3 # Obese\n",
    "    else:\n",
    "         print('input error!!!')\n",
    "        \n",
    "    return cnd"
   ]
  },
  {
   "cell_type": "code",
   "execution_count": 38,
   "metadata": {},
   "outputs": [],
   "source": [
    "# # function: iterate trought the whole bmi list and count the total per each bmi group \n",
    "# # variable bc holds the body condition (0, 1, 2, 3)\n",
    "def groupOfPeople():\n",
    "    under = 0                              # creating counters here\n",
    "    normal = 0      \n",
    "    over = 0\n",
    "    obe = 0\n",
    "    for i in range(len(bmi)):              # going through the range equal to the length of bmi\n",
    "        bc = bodyCondition(bmi[i])         \n",
    "        print('bmi= ' + str(bmi[i]))       # important to write str(bmi[i]) to concatenate strings with bmi[i], an integer,\n",
    "        print('bc = ' + str(bc))           \n",
    "        print('age = ' + str(age[i]))\n",
    "        if bc == 0:                        # Runnng an if statement. If bc == 0. We add the under counter by 1 and print \n",
    "            under += 1                     # the Result BMI Underweight\n",
    "            print('Result: BMI Underweight') \n",
    "        elif bc == 1:                      # same concept\n",
    "            normal += 1\n",
    "            print('Result: BMI Normal')    \n",
    "        elif bc == 2:\n",
    "            print('Result: BMI Overweight')\n",
    "            over += 1\n",
    "        elif bc == 3:\n",
    "            obe += 1   \n",
    "            print('Result: BMI Obese')\n",
    "    print('============================')\n",
    "\n",
    "# create a small list (size 4) to hold all the result together\n",
    "    rest = []                              \n",
    "    rest.append(under)\n",
    "    rest.append(normal)\n",
    "    rest.append(over)\n",
    "    rest.append(obe)\n",
    "    print('Total count = ')\n",
    "    print(rest)\n",
    "    \n",
    "    return rest"
   ]
  },
  {
   "cell_type": "code",
   "execution_count": 37,
   "metadata": {},
   "outputs": [
    {
     "name": "stdout",
     "output_type": "stream",
     "text": [
      "bmi= 68.63667357400811\n",
      "bc = 3\n",
      "age = 61\n",
      "Result: BMI Obese\n",
      "bmi= 31.591261074416156\n",
      "bc = 3\n",
      "age = 77\n",
      "Result: BMI Obese\n",
      "bmi= 26.673201033119796\n",
      "bc = 2\n",
      "age = 73\n",
      "Result: BMI Overweight\n",
      "bmi= 36.275389075371244\n",
      "bc = 3\n",
      "age = 76\n",
      "Result: BMI Obese\n",
      "bmi= 42.60914659861165\n",
      "bc = 3\n",
      "age = 91\n",
      "Result: BMI Obese\n",
      "bmi= 35.26724250779653\n",
      "bc = 3\n",
      "age = 51\n",
      "Result: BMI Obese\n",
      "bmi= 59.16648516668699\n",
      "bc = 3\n",
      "age = 72\n",
      "Result: BMI Obese\n",
      "bmi= 76.96650652128591\n",
      "bc = 3\n",
      "age = 90\n",
      "Result: BMI Obese\n",
      "bmi= 90.39993859635427\n",
      "bc = 3\n",
      "age = 68\n",
      "Result: BMI Obese\n",
      "bmi= 67.54919613145715\n",
      "bc = 3\n",
      "age = 23\n",
      "Result: BMI Obese\n",
      "bmi= 33.30019683708593\n",
      "bc = 3\n",
      "age = 90\n",
      "Result: BMI Obese\n",
      "bmi= 98.04254480330833\n",
      "bc = 3\n",
      "age = 53\n",
      "Result: BMI Obese\n",
      "bmi= 98.07720490354339\n",
      "bc = 3\n",
      "age = 42\n",
      "Result: BMI Obese\n",
      "bmi= 24.97650851320505\n",
      "bc = 1\n",
      "age = 23\n",
      "Result: BMI Normal\n",
      "bmi= 43.1210906056418\n",
      "bc = 3\n",
      "age = 25\n",
      "Result: BMI Obese\n",
      "bmi= 24.91907800566141\n",
      "bc = 1\n",
      "age = 82\n",
      "Result: BMI Normal\n",
      "bmi= 62.6346075301802\n",
      "bc = 3\n",
      "age = 89\n",
      "Result: BMI Obese\n",
      "bmi= 79.72673998423689\n",
      "bc = 3\n",
      "age = 88\n",
      "Result: BMI Obese\n",
      "bmi= 20.180040289323735\n",
      "bc = 1\n",
      "age = 49\n",
      "Result: BMI Normal\n",
      "bmi= 99.8639130734051\n",
      "bc = 3\n",
      "age = 90\n",
      "Result: BMI Obese\n",
      "bmi= 87.76290967391094\n",
      "bc = 3\n",
      "age = 23\n",
      "Result: BMI Obese\n",
      "bmi= 47.716956850323626\n",
      "bc = 3\n",
      "age = 16\n",
      "Result: BMI Obese\n",
      "bmi= 24.672231348927998\n",
      "bc = 1\n",
      "age = 79\n",
      "Result: BMI Normal\n",
      "bmi= 73.31479173155167\n",
      "bc = 3\n",
      "age = 87\n",
      "Result: BMI Obese\n",
      "bmi= 40.664089507326366\n",
      "bc = 3\n",
      "age = 69\n",
      "Result: BMI Obese\n",
      "bmi= 55.21976879867519\n",
      "bc = 3\n",
      "age = 22\n",
      "Result: BMI Obese\n",
      "bmi= 24.829310703272494\n",
      "bc = 1\n",
      "age = 36\n",
      "Result: BMI Normal\n",
      "bmi= 55.93831533659516\n",
      "bc = 3\n",
      "age = 40\n",
      "Result: BMI Obese\n",
      "bmi= 32.39594171230393\n",
      "bc = 3\n",
      "age = 19\n",
      "Result: BMI Obese\n",
      "bmi= 58.85102481324894\n",
      "bc = 3\n",
      "age = 17\n",
      "Result: BMI Obese\n",
      "bmi= 32.901445609166906\n",
      "bc = 3\n",
      "age = 15\n",
      "Result: BMI Obese\n",
      "bmi= 15.701974274534471\n",
      "bc = 0\n",
      "age = 62\n",
      "Result: BMI Underweight\n",
      "bmi= 74.80821220764467\n",
      "bc = 3\n",
      "age = 16\n",
      "Result: BMI Obese\n",
      "bmi= 36.905056773500476\n",
      "bc = 3\n",
      "age = 27\n",
      "Result: BMI Obese\n",
      "bmi= 44.34327182956648\n",
      "bc = 3\n",
      "age = 14\n",
      "Result: BMI Obese\n",
      "bmi= 25.611832272390387\n",
      "bc = 2\n",
      "age = 20\n",
      "Result: BMI Overweight\n",
      "bmi= 26.86751285029342\n",
      "bc = 2\n",
      "age = 67\n",
      "Result: BMI Overweight\n",
      "bmi= 14.195370729302\n",
      "bc = 0\n",
      "age = 88\n",
      "Result: BMI Underweight\n",
      "bmi= 30.66227257933384\n",
      "bc = 3\n",
      "age = 45\n",
      "Result: BMI Obese\n",
      "bmi= 125.90920486031568\n",
      "bc = 3\n",
      "age = 38\n",
      "Result: BMI Obese\n",
      "bmi= 48.48859666826508\n",
      "bc = 3\n",
      "age = 32\n",
      "Result: BMI Obese\n",
      "bmi= 13.83391607367872\n",
      "bc = 0\n",
      "age = 34\n",
      "Result: BMI Underweight\n",
      "bmi= 27.878399876829803\n",
      "bc = 2\n",
      "age = 95\n",
      "Result: BMI Overweight\n",
      "bmi= 88.97452659271525\n",
      "bc = 3\n",
      "age = 31\n",
      "Result: BMI Obese\n",
      "bmi= 59.438704265288294\n",
      "bc = 3\n",
      "age = 54\n",
      "Result: BMI Obese\n",
      "bmi= 64.72910983482979\n",
      "bc = 3\n",
      "age = 42\n",
      "Result: BMI Obese\n",
      "bmi= 36.87767945285061\n",
      "bc = 3\n",
      "age = 57\n",
      "Result: BMI Obese\n",
      "bmi= 43.68642572671025\n",
      "bc = 3\n",
      "age = 51\n",
      "Result: BMI Obese\n",
      "bmi= 43.87329983989092\n",
      "bc = 3\n",
      "age = 12\n",
      "Result: BMI Obese\n",
      "bmi= 31.255814920657322\n",
      "bc = 3\n",
      "age = 42\n",
      "Result: BMI Obese\n",
      "bmi= 33.7651605069216\n",
      "bc = 3\n",
      "age = 16\n",
      "Result: BMI Obese\n",
      "bmi= 42.595530940936364\n",
      "bc = 3\n",
      "age = 17\n",
      "Result: BMI Obese\n",
      "bmi= 49.43188520619343\n",
      "bc = 3\n",
      "age = 69\n",
      "Result: BMI Obese\n",
      "bmi= 56.925633340582465\n",
      "bc = 3\n",
      "age = 16\n",
      "Result: BMI Obese\n",
      "bmi= 47.16178436366903\n",
      "bc = 3\n",
      "age = 18\n",
      "Result: BMI Obese\n",
      "bmi= 33.04967025775571\n",
      "bc = 3\n",
      "age = 36\n",
      "Result: BMI Obese\n",
      "bmi= 85.91519197525744\n",
      "bc = 3\n",
      "age = 28\n",
      "Result: BMI Obese\n",
      "bmi= 27.628148109179318\n",
      "bc = 2\n",
      "age = 52\n",
      "Result: BMI Overweight\n",
      "bmi= 75.75157063922867\n",
      "bc = 3\n",
      "age = 79\n",
      "Result: BMI Obese\n",
      "bmi= 21.639646216696715\n",
      "bc = 1\n",
      "age = 50\n",
      "Result: BMI Normal\n",
      "bmi= 77.0874683945316\n",
      "bc = 3\n",
      "age = 72\n",
      "Result: BMI Obese\n",
      "bmi= 34.505356529665704\n",
      "bc = 3\n",
      "age = 14\n",
      "Result: BMI Obese\n",
      "bmi= 23.522531734579527\n",
      "bc = 1\n",
      "age = 44\n",
      "Result: BMI Normal\n",
      "bmi= 89.10884710867586\n",
      "bc = 3\n",
      "age = 26\n",
      "Result: BMI Obese\n",
      "bmi= 15.289725550069194\n",
      "bc = 0\n",
      "age = 17\n",
      "Result: BMI Underweight\n",
      "bmi= 51.413179761715526\n",
      "bc = 3\n",
      "age = 58\n",
      "Result: BMI Obese\n",
      "bmi= 46.452802846936116\n",
      "bc = 3\n",
      "age = 89\n",
      "Result: BMI Obese\n",
      "bmi= 30.592657948972796\n",
      "bc = 3\n",
      "age = 93\n",
      "Result: BMI Obese\n",
      "bmi= 48.9373324892833\n",
      "bc = 3\n",
      "age = 38\n",
      "Result: BMI Obese\n",
      "bmi= 38.729286003832975\n",
      "bc = 3\n",
      "age = 31\n",
      "Result: BMI Obese\n",
      "bmi= 32.82253932241753\n",
      "bc = 3\n",
      "age = 23\n",
      "Result: BMI Obese\n",
      "bmi= 16.83813234528625\n",
      "bc = 0\n",
      "age = 46\n",
      "Result: BMI Underweight\n",
      "bmi= 38.56142894949212\n",
      "bc = 3\n",
      "age = 58\n",
      "Result: BMI Obese\n",
      "bmi= 60.386082292620614\n",
      "bc = 3\n",
      "age = 26\n",
      "Result: BMI Obese\n",
      "bmi= 26.309396852332227\n",
      "bc = 2\n",
      "age = 51\n",
      "Result: BMI Overweight\n",
      "bmi= 49.027314900525646\n",
      "bc = 3\n",
      "age = 50\n",
      "Result: BMI Obese\n",
      "bmi= 15.082895543531492\n",
      "bc = 0\n",
      "age = 25\n",
      "Result: BMI Underweight\n",
      "bmi= 44.68994859285807\n",
      "bc = 3\n",
      "age = 55\n",
      "Result: BMI Obese\n",
      "bmi= 37.82800771240566\n",
      "bc = 3\n",
      "age = 27\n",
      "Result: BMI Obese\n",
      "bmi= 27.722146174303994\n",
      "bc = 2\n",
      "age = 16\n",
      "Result: BMI Overweight\n",
      "bmi= 62.58650484131104\n",
      "bc = 3\n",
      "age = 33\n",
      "Result: BMI Obese\n",
      "bmi= 92.15188405494708\n",
      "bc = 3\n",
      "age = 20\n",
      "Result: BMI Obese\n",
      "bmi= 62.378109620623235\n",
      "bc = 3\n",
      "age = 19\n",
      "Result: BMI Obese\n",
      "bmi= 56.142284952452364\n",
      "bc = 3\n",
      "age = 69\n",
      "Result: BMI Obese\n",
      "bmi= 28.235919082512257\n",
      "bc = 2\n",
      "age = 66\n",
      "Result: BMI Overweight\n",
      "bmi= 69.17316723232112\n",
      "bc = 3\n",
      "age = 86\n",
      "Result: BMI Obese\n",
      "bmi= 14.063221869662923\n",
      "bc = 0\n",
      "age = 26\n",
      "Result: BMI Underweight\n",
      "bmi= 37.161669739682544\n",
      "bc = 3\n",
      "age = 79\n",
      "Result: BMI Obese\n",
      "bmi= 55.79081687458941\n",
      "bc = 3\n",
      "age = 75\n",
      "Result: BMI Obese\n",
      "bmi= 85.1812773764107\n",
      "bc = 3\n",
      "age = 39\n",
      "Result: BMI Obese\n",
      "bmi= 28.343374190718997\n",
      "bc = 2\n",
      "age = 60\n",
      "Result: BMI Overweight\n",
      "bmi= 114.00702677026014\n",
      "bc = 3\n",
      "age = 88\n",
      "Result: BMI Obese\n",
      "bmi= 41.31158651442864\n",
      "bc = 3\n",
      "age = 93\n",
      "Result: BMI Obese\n",
      "bmi= 43.61309471907846\n",
      "bc = 3\n",
      "age = 53\n",
      "Result: BMI Obese\n",
      "bmi= 73.08131161006845\n",
      "bc = 3\n",
      "age = 81\n",
      "Result: BMI Obese\n",
      "bmi= 113.80249419393917\n",
      "bc = 3\n",
      "age = 52\n",
      "Result: BMI Obese\n",
      "bmi= 78.07675335477761\n",
      "bc = 3\n",
      "age = 44\n",
      "Result: BMI Obese\n",
      "bmi= 28.051199376434667\n",
      "bc = 2\n",
      "age = 86\n",
      "Result: BMI Overweight\n",
      "bmi= 64.85770831992964\n",
      "bc = 3\n",
      "age = 20\n",
      "Result: BMI Obese\n",
      "bmi= 50.18833226446321\n",
      "bc = 3\n",
      "age = 20\n",
      "Result: BMI Obese\n",
      "============================\n",
      "Total count = \n",
      "[7, 7, 10, 76]\n"
     ]
    }
   ],
   "source": [
    "# # calculate how many people per group (4 groups)\n",
    "r = groupOfPeople()"
   ]
  },
  {
   "cell_type": "markdown",
   "metadata": {},
   "source": [
    "### Homework Problem"
   ]
  },
  {
   "cell_type": "markdown",
   "metadata": {},
   "source": [
    "\n",
    "list = [\"stick\",\"john\",\"pencil\",\"rubber\",\"glove\",\"quick\",\"brown\",\"fox\",\"jumps\",\"over\"\n",
    "                     ,\"lazy\",\"dog\",\"manner\",\"house\",\"food\",\"brain\",\"history\",\"love\",\"peace\",\n",
    "                      \"object\"] \n",
    "\n",
    "Study and analyze carefully the pictures below. They are snapshots of a Hangman game created on python. Your HW is to use the pictures below as an interface reference and create a game using the list above. Good Luck!\n",
    "\n",
    "\n",
    "#### Picture 1. Interface at the start of the game\n",
    "\n",
    "![Image of Yaktocat](https://storage.googleapis.com/bwdb/acceleratehk_DSML/class_1/ds29.PNG)"
   ]
  },
  {
   "cell_type": "markdown",
   "metadata": {},
   "source": [
    "#### Picture 2. Interface while playing the game\n",
    "\n",
    "![Image of Yaktocat](https://storage.googleapis.com/bwdb/acceleratehk_DSML/class_1/ds30.PNG)"
   ]
  },
  {
   "cell_type": "markdown",
   "metadata": {},
   "source": [
    "#### Picture 3. Interface if you win the game\n",
    "![Image of Yaktocat](https://storage.googleapis.com/bwdb/acceleratehk_DSML/class_1/ds31.PNG)"
   ]
  },
  {
   "cell_type": "markdown",
   "metadata": {},
   "source": [
    "#### Picture 4. Interface if you lose the game"
   ]
  },
  {
   "cell_type": "markdown",
   "metadata": {},
   "source": [
    "![Image of Yaktocat](https://storage.googleapis.com/bwdb/acceleratehk_DSML/class_1/ds32.PNG)"
   ]
  },
  {
   "cell_type": "code",
   "execution_count": null,
   "metadata": {},
   "outputs": [],
   "source": []
  }
 ],
 "metadata": {
  "kernelspec": {
   "display_name": "Python 3",
   "language": "python",
   "name": "python3"
  },
  "language_info": {
   "codemirror_mode": {
    "name": "ipython",
    "version": 3
   },
   "file_extension": ".py",
   "mimetype": "text/x-python",
   "name": "python",
   "nbconvert_exporter": "python",
   "pygments_lexer": "ipython3",
   "version": "3.6.3"
  }
 },
 "nbformat": 4,
 "nbformat_minor": 2
}
