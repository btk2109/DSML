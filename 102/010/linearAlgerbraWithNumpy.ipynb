{
 "cells": [
  {
   "cell_type": "markdown",
   "metadata": {},
   "source": [
    "# Numpy is fast\n",
    "\n",
    "Numpy is a library for working with N-dimensional arrays. It's written in highly optimized C code which, compared to python, is blazingly fast. Numpy also intergrates very smoothly with the rest of the python ecosytem like scipy and pandas."
   ]
  },
  {
   "cell_type": "code",
   "execution_count": 45,
   "metadata": {
    "collapsed": true
   },
   "outputs": [],
   "source": [
    "import numpy as np"
   ]
  },
  {
   "cell_type": "code",
   "execution_count": 169,
   "metadata": {
    "collapsed": true
   },
   "outputs": [],
   "source": [
    "n = 10 ** 5\n",
    "a = list(range(n))\n",
    "b = np.arange(n)"
   ]
  },
  {
   "cell_type": "code",
   "execution_count": 170,
   "metadata": {},
   "outputs": [
    {
     "name": "stdout",
     "output_type": "stream",
     "text": [
      "1.51 ms ± 220 µs per loop (mean ± std. dev. of 7 runs, 1000 loops each)\n"
     ]
    }
   ],
   "source": [
    "%%timeit\n",
    "sum(a)"
   ]
  },
  {
   "cell_type": "code",
   "execution_count": 171,
   "metadata": {},
   "outputs": [
    {
     "name": "stdout",
     "output_type": "stream",
     "text": [
      "75.2 µs ± 5.95 µs per loop (mean ± std. dev. of 7 runs, 10000 loops each)\n"
     ]
    }
   ],
   "source": [
    "%%timeit\n",
    "np.sum(b)"
   ]
  },
  {
   "cell_type": "markdown",
   "metadata": {},
   "source": [
    "Numpy is ~3 orders of magintude (1000x) faster"
   ]
  },
  {
   "cell_type": "markdown",
   "metadata": {},
   "source": [
    "# Numpy questions\n",
    "\n",
    "1. How to find the documentation of the numpy add function?\n",
    "2. Find the memory size of any array. - introduct memeory types. Explain int overflow\n",
    "3. Create a vector with values only even values ranging from 1 to 100 - in indexing section.\n",
    "4. Reverse a vector - indexing secion.\n",
    "5. Create a 3 x 3 matrix with values ranging from 1 to 9.\n",
    "6. Find indices of all non-zero elements from [1,23,0,2,4,9]\n",
    "7. Create a 4 x 4 identidy matrix.\n",
    "8. Create a 3 x 3 x 3 array with random values.\n",
    "\n",
    "\n",
    "9. Create a vectors of size 50 and find the mean value. - func sec\n",
    "10. Create a 2d arrat with 1 on the border and 0 on the inside. - indexing section\n",
    "\n",
    "\n",
    "11. Solve lin reg with matrix multiplication https://onlinecourses.science.psu.edu/stat501/node/382"
   ]
  },
  {
   "cell_type": "markdown",
   "metadata": {},
   "source": [
    "## Create a matrix\n",
    "\n",
    "We can create a matrix from a list of list. Each list within the list represents a row."
   ]
  },
  {
   "cell_type": "code",
   "execution_count": 139,
   "metadata": {},
   "outputs": [
    {
     "data": {
      "text/plain": [
       "array([[1402,  191],\n",
       "       [1371,  821],\n",
       "       [ 949, 1437]])"
      ]
     },
     "execution_count": 139,
     "metadata": {},
     "output_type": "execute_result"
    }
   ],
   "source": [
    "A = np.array([[1402,191],[1371,821],[949,1437]])\n",
    "A"
   ]
  },
  {
   "cell_type": "markdown",
   "metadata": {},
   "source": [
    "Numpy also has a bunch of functions for creating matrices. They can take a single number to create a 1d array."
   ]
  },
  {
   "cell_type": "code",
   "execution_count": 192,
   "metadata": {},
   "outputs": [
    {
     "data": {
      "text/plain": [
       "array([ 0.,  0.,  0.,  0.,  0.,  0.,  0.,  0.,  0.,  0.])"
      ]
     },
     "execution_count": 192,
     "metadata": {},
     "output_type": "execute_result"
    }
   ],
   "source": [
    "np.zeros(10)"
   ]
  },
  {
   "cell_type": "markdown",
   "metadata": {},
   "source": [
    "Or a tuple"
   ]
  },
  {
   "cell_type": "code",
   "execution_count": 193,
   "metadata": {},
   "outputs": [
    {
     "data": {
      "text/plain": [
       "array([[ 1.,  1.,  1.,  1.,  1.],\n",
       "       [ 1.,  1.,  1.,  1.,  1.],\n",
       "       [ 1.,  1.,  1.,  1.,  1.],\n",
       "       [ 1.,  1.,  1.,  1.,  1.],\n",
       "       [ 1.,  1.,  1.,  1.,  1.]])"
      ]
     },
     "execution_count": 193,
     "metadata": {},
     "output_type": "execute_result"
    }
   ],
   "source": [
    "np.ones((5,5))"
   ]
  },
  {
   "cell_type": "markdown",
   "metadata": {},
   "source": [
    "## Matrix indexing\n",
    "\n",
    "We can access indvidual elements using the syntax\n",
    "\n",
    "```python\n",
    "Matrix[row,col]\n",
    "```"
   ]
  },
  {
   "cell_type": "code",
   "execution_count": 141,
   "metadata": {},
   "outputs": [
    {
     "data": {
      "text/plain": [
       "1402"
      ]
     },
     "execution_count": 141,
     "metadata": {},
     "output_type": "execute_result"
    }
   ],
   "source": [
    "row = 0\n",
    "col = 0\n",
    "A[row,col]"
   ]
  },
  {
   "cell_type": "markdown",
   "metadata": {},
   "source": [
    "The normal python index rules apply so we can index matrix using \n",
    "\n",
    "```python\n",
    "Matrix[start:stop:step,start:stop:step]\n",
    "```"
   ]
  },
  {
   "cell_type": "code",
   "execution_count": 172,
   "metadata": {},
   "outputs": [
    {
     "data": {
      "text/plain": [
       "array([[1, 2, 3],\n",
       "       [7, 8, 9]])"
      ]
     },
     "execution_count": 172,
     "metadata": {},
     "output_type": "execute_result"
    }
   ],
   "source": [
    "#A[0::2] #alternative syntax\n",
    "A[0::2,:] # return only odd rows"
   ]
  },
  {
   "cell_type": "code",
   "execution_count": 173,
   "metadata": {},
   "outputs": [
    {
     "data": {
      "text/plain": [
       "array([[4, 5, 6]])"
      ]
     },
     "execution_count": 173,
     "metadata": {},
     "output_type": "execute_result"
    }
   ],
   "source": [
    "A[1::2,:] # return only even rows"
   ]
  },
  {
   "cell_type": "code",
   "execution_count": 174,
   "metadata": {},
   "outputs": [
    {
     "data": {
      "text/plain": [
       "array([[1, 3],\n",
       "       [7, 9]])"
      ]
     },
     "execution_count": 174,
     "metadata": {},
     "output_type": "execute_result"
    }
   ],
   "source": [
    "A[0::2,0::2] # odd rows and odd cols"
   ]
  },
  {
   "cell_type": "markdown",
   "metadata": {},
   "source": [
    "### Questions\n",
    "\n",
    "* Create a 8x8 matrix with a checkboard pattern. **Hint** [::2] will be usefull."
   ]
  },
  {
   "cell_type": "code",
   "execution_count": 4,
   "metadata": {
    "collapsed": true
   },
   "outputs": [],
   "source": [
    "from IPython.display import HTML\n",
    "from IPython.display import Javascript\n"
   ]
  },
  {
   "cell_type": "code",
   "execution_count": 5,
   "metadata": {},
   "outputs": [],
   "source": [
    "with open('grid.html') as f:\n",
    "    html = f.read()\n",
    "with open('grid.js') as f:\n",
    "    js = f.read()"
   ]
  },
  {
   "cell_type": "code",
   "execution_count": 9,
   "metadata": {},
   "outputs": [
    {
     "data": {
      "text/html": [
       "<style>\n",
       "\n",
       "table {\n",
       "  width: 40%;\n",
       "}\n",
       "td {\n",
       "  width: 33.33%;\n",
       "  position: relative;\n",
       "  border: 1px solid !important;\n",
       "}\n",
       "td:after {\n",
       "  content: '';\n",
       "  display: block;\n",
       "  margin-top: 100%;\n",
       "}\n",
       "\n",
       "\n",
       ".black {\n",
       "\n",
       "background: black !important;\n",
       "\n",
       "\n",
       "}\n",
       "\n",
       "\n",
       "td .content {\n",
       "  position: absolute;\n",
       "  top: 0;\n",
       "  bottom: 0;\n",
       "  left: 0;\n",
       "  right: 0;\n",
       "  background: gold;\n",
       "}\n",
       "\n",
       "</style>\n",
       "\n",
       "<table>\n",
       "  <tr>\n",
       "    <td><div id=\"r1c1\" class=\"content\"></div></td>\n",
       "    <td><div id=\"r1c2\" class=\"content\"></div></td>\n",
       "    <td><div id=\"r1c3\" class=\"content\"></div></td>\n",
       "  </tr>\n",
       "  <tr>\n",
       "    <td><div id=\"r2c1\" class=\"content\"></div></td>\n",
       "    <td><div id=\"r2c2\" class=\"content\"></div></td>\n",
       "    <td><div id=\"r2c3\" class=\"content\"></div></td>\n",
       "  </tr>\n",
       "  <tr>\n",
       "    <td><div id=\"r3c1\" class=\"content\"></div></td>\n",
       "    <td><div id=\"r3c2\" class=\"content\"></div></td>\n",
       "    <td><div id=\"r3c3\" class=\"content\"></div></td>\n",
       "  </tr>\n",
       "<table>"
      ],
      "text/plain": [
       "<IPython.core.display.HTML object>"
      ]
     },
     "metadata": {},
     "output_type": "display_data"
    },
    {
     "data": {
      "application/javascript": [
       "for (let i = 1; i++ ; i < 4){\n",
       "    for (let j = 1; j++ ; j < 4){\n",
       "        let id = 'r' + i + 'c' + j\n",
       "        console.log(id)\n",
       "        setTimeout(addClass(id),1000)\n",
       "    }\n",
       "}\n",
       "\n",
       "function addClass(id) {\n",
       "\n",
       "    document.getElementById(id).classList.addClass('black')\n",
       "\n",
       "}"
      ],
      "text/plain": [
       "<IPython.core.display.Javascript object>"
      ]
     },
     "execution_count": 9,
     "metadata": {},
     "output_type": "execute_result"
    }
   ],
   "source": [
    "display(HTML(html))\n",
    "Javascript(js)"
   ]
  },
  {
   "cell_type": "code",
   "execution_count": 7,
   "metadata": {},
   "outputs": [
    {
     "data": {
      "text/plain": [
       "\"for (let i = 1; i++ ; i < 4){\\n    for (let j = 1; j++ ; j < 4){\\n        let id = 'r' + i + 'c' + j\\n        console.log(id)\\n        setTimeout(addClass(id),1000)\\n    }\\n}\\n\\nfunction addClass(id) {\\n\\n    document.getElementById(id).classList.addClass('black')\\n\\n}\""
      ]
     },
     "execution_count": 7,
     "metadata": {},
     "output_type": "execute_result"
    }
   ],
   "source": [
    "js"
   ]
  },
  {
   "cell_type": "markdown",
   "metadata": {},
   "source": [
    "\n",
    "# Linear algerbra\n",
    "\n",
    "Why linear algebra? \n",
    "\n",
    "Will add in understanding clustering algorithms.\n",
    "\n",
    "Along with probality and statsics, multivariable calculus, linear algerbra is one of the key area of maths involved in deep learning. \n",
    "\n",
    "\n",
    "## Additional resources\n",
    "\n",
    "* [Matrix multiplication ](https://www.freemathhelp.com/matrix-multiplication.html)\n",
    "* [Maths needed for deep learning?](https://www.quora.com/What-mathematical-background-does-one-need-for-learning-Deep-Learning)\n",
    "* Lin alg for deep learning http://www.deeplearningbook.org/contents/linear_algebra.html\n",
    "* 3bluebrow playlist https://www.youtube.com/channel/UCYO_jab_esuFRV4b17AJtAw\n",
    "* Sende numpy playlist\n",
    "* SciPy numpy talk https://www.youtube.com/watch?v=lKcwuPnSHIQ\n"
   ]
  },
  {
   "cell_type": "code",
   "execution_count": 196,
   "metadata": {},
   "outputs": [
    {
     "data": {
      "text/plain": [
       "array([ 0.11703897,  0.18834031,  0.06207432,  0.57886812,  0.00203149,\n",
       "        0.93632679,  0.49466479,  0.27329117,  0.045217  ,  0.35706628])"
      ]
     },
     "execution_count": 196,
     "metadata": {},
     "output_type": "execute_result"
    }
   ],
   "source": [
    "np.random.random(10) ** 2"
   ]
  },
  {
   "cell_type": "markdown",
   "metadata": {},
   "source": [
    "# Vectors \n",
    "\n",
    "Vectors are basically a list of numbers.\n",
    "\n",
    "$$ v = \\begin{bmatrix}\n",
    "v_1\\\\ \n",
    "v_2\\\\ \n",
    "\\end{bmatrix} $$\n",
    "\n",
    "In the vector $ v $ we'd say $ v_1 $ is the first component, $ v_2 $ is the second component. When we add vectors we add each individual component."
   ]
  },
  {
   "cell_type": "markdown",
   "metadata": {},
   "source": [
    "$$ v = \\begin{bmatrix}\n",
    "v_1\\\\ \n",
    "v_2\\\\ \n",
    "\\end{bmatrix} \\qquad\n",
    "w = \\begin{bmatrix}\n",
    "w_1\\\\ \n",
    "w_2\\\\ \n",
    "\\end{bmatrix}  \\qquad\n",
    "v + w = \\begin{bmatrix}\n",
    "v_1 + w_1\\\\ \n",
    "v_2 + w_2\\\\ \n",
    "\\end{bmatrix} $$\n",
    "\n"
   ]
  },
  {
   "cell_type": "markdown",
   "metadata": {},
   "source": [
    "We could do this with python like."
   ]
  },
  {
   "cell_type": "code",
   "execution_count": 2,
   "metadata": {},
   "outputs": [
    {
     "data": {
      "text/plain": [
       "[6, 8, 10, 12]"
      ]
     },
     "execution_count": 2,
     "metadata": {},
     "output_type": "execute_result"
    }
   ],
   "source": [
    "v = [1,2,3,4]\n",
    "w = [5,6,7,8]\n",
    "x = []\n",
    "\n",
    "for a,b in zip(v,w):\n",
    "    x.append(a+b)\n",
    "    \n",
    "# x =  [a + b for a,b in zip(v,w)]\n",
    "x"
   ]
  },
  {
   "cell_type": "code",
   "execution_count": 191,
   "metadata": {},
   "outputs": [
    {
     "name": "stdout",
     "output_type": "stream",
     "text": [
      "1\n",
      "2\n",
      "3\n",
      "4\n"
     ]
    }
   ],
   "source": [
    "for number in v:\n",
    "    print(number)"
   ]
  },
  {
   "cell_type": "markdown",
   "metadata": {},
   "source": [
    "Notice we have to use a for loop to add each element. This can get triesome, thankfully numpy helps us out here, as it automatically does the component-wise addition for us."
   ]
  },
  {
   "cell_type": "code",
   "execution_count": 3,
   "metadata": {},
   "outputs": [
    {
     "ename": "NameError",
     "evalue": "name 'np' is not defined",
     "output_type": "error",
     "traceback": [
      "\u001b[0;31m---------------------------------------------------------------------------\u001b[0m",
      "\u001b[0;31mNameError\u001b[0m                                 Traceback (most recent call last)",
      "\u001b[0;32m<ipython-input-3-8f75cfb5faa3>\u001b[0m in \u001b[0;36m<module>\u001b[0;34m()\u001b[0m\n\u001b[0;32m----> 1\u001b[0;31m \u001b[0mv\u001b[0m \u001b[0;34m=\u001b[0m \u001b[0mnp\u001b[0m\u001b[0;34m.\u001b[0m\u001b[0marray\u001b[0m\u001b[0;34m(\u001b[0m\u001b[0;34m[\u001b[0m\u001b[0;36m1\u001b[0m\u001b[0;34m,\u001b[0m\u001b[0;36m2\u001b[0m\u001b[0;34m,\u001b[0m\u001b[0;36m3\u001b[0m\u001b[0;34m,\u001b[0m\u001b[0;36m4\u001b[0m\u001b[0;34m]\u001b[0m\u001b[0;34m)\u001b[0m\u001b[0;34m\u001b[0m\u001b[0m\n\u001b[0m\u001b[1;32m      2\u001b[0m \u001b[0mw\u001b[0m \u001b[0;34m=\u001b[0m \u001b[0mnp\u001b[0m\u001b[0;34m.\u001b[0m\u001b[0marray\u001b[0m\u001b[0;34m(\u001b[0m\u001b[0;34m[\u001b[0m\u001b[0;36m5\u001b[0m\u001b[0;34m,\u001b[0m\u001b[0;36m6\u001b[0m\u001b[0;34m,\u001b[0m\u001b[0;36m7\u001b[0m\u001b[0;34m,\u001b[0m\u001b[0;36m8\u001b[0m\u001b[0;34m]\u001b[0m\u001b[0;34m)\u001b[0m\u001b[0;34m\u001b[0m\u001b[0m\n\u001b[1;32m      3\u001b[0m \u001b[0mnp\u001b[0m\u001b[0;34m.\u001b[0m\u001b[0madd\u001b[0m\u001b[0;34m(\u001b[0m\u001b[0mv\u001b[0m\u001b[0;34m,\u001b[0m\u001b[0mw\u001b[0m\u001b[0;34m)\u001b[0m\u001b[0;34m\u001b[0m\u001b[0m\n",
      "\u001b[0;31mNameError\u001b[0m: name 'np' is not defined"
     ]
    }
   ],
   "source": [
    "v = np.array([1,2,3,4])\n",
    "w = np.array([5,6,7,8])\n",
    "np.add(v,w)"
   ]
  },
  {
   "cell_type": "markdown",
   "metadata": {},
   "source": [
    "Subtraction of vectors follows the same ideas. Another com.mon operation is scalar multiplication in which we multiple each element in a vector by a scalar (number)"
   ]
  },
  {
   "cell_type": "markdown",
   "metadata": {},
   "source": [
    "$$ 2v = \\begin{bmatrix}\n",
    "2v_1\\\\ \n",
    "2v_2\\\\ \n",
    "\\end{bmatrix} $$"
   ]
  },
  {
   "cell_type": "code",
   "execution_count": 96,
   "metadata": {},
   "outputs": [
    {
     "data": {
      "text/plain": [
       "array([2, 4, 6, 8])"
      ]
     },
     "execution_count": 96,
     "metadata": {},
     "output_type": "execute_result"
    }
   ],
   "source": [
    "np.multiply(2,v)"
   ]
  },
  {
   "cell_type": "markdown",
   "metadata": {},
   "source": [
    "The combination of addition with scalar multipliaction is known as 'linear combinations'. Often instead of thinking of vectors a list of numbers we like to think of them as points in space. For example a vector with two components can be though of as a point in the xy plane.\n",
    "\n",
    "## Geometric interpretation\n",
    "\n",
    "An alternative view of vectors as a points in [space](https://stackoverflow.com/questions/42281966/how-to-plot-vectors-in-python-using-matplotlib)."
   ]
  },
  {
   "cell_type": "code",
   "execution_count": 50,
   "metadata": {
    "collapsed": true
   },
   "outputs": [],
   "source": [
    "import matplotlib.pyplot as plt\n",
    "%matplotlib inline"
   ]
  },
  {
   "cell_type": "code",
   "execution_count": 75,
   "metadata": {},
   "outputs": [
    {
     "data": {
      "image/png": "[encoded data removed]",
      "text/plain": [
       "<matplotlib.figure.Figure at 0x7f098c264dd8>"
      ]
     },
     "metadata": {},
     "output_type": "display_data"
    }
   ],
   "source": [
    "v = np.array([3,6])\n",
    "w = np.array([1,3])\n",
    "origin = [0], [0] # origin point\n",
    "plt.quiver(*origin, v,w, color=['r','b'], scale=20)\n",
    "plt.show()"
   ]
  },
  {
   "cell_type": "markdown",
   "metadata": {},
   "source": [
    "If the three corners of a parallograme are (1,1), (4,2), and (1,3). What are the other possible corners."
   ]
  },
  {
   "cell_type": "code",
   "execution_count": 79,
   "metadata": {
    "collapsed": true
   },
   "outputs": [],
   "source": [
    "a = np.array([1,1])\n",
    "b = np.array([4,2])\n",
    "c = np.array([1,3])"
   ]
  },
  {
   "cell_type": "code",
   "execution_count": 88,
   "metadata": {},
   "outputs": [
    {
     "data": {
      "text/plain": [
       "<matplotlib.collections.PathCollection at 0x7f09785f56a0>"
      ]
     },
     "execution_count": 88,
     "metadata": {},
     "output_type": "execute_result"
    },
    {
     "data": {
      "image/png": "[encoded data removed]",
      "text/plain": [
       "<matplotlib.figure.Figure at 0x7f09788d4940>"
      ]
     },
     "metadata": {},
     "output_type": "display_data"
    }
   ],
   "source": [
    "plt.figure(figsize=(10,5))\n",
    "plt.xlim(-8,8)\n",
    "plt.ylim(-8,8)\n",
    "plt.scatter(*zip(*[a,b,c]))"
   ]
  },
  {
   "cell_type": "markdown",
   "metadata": {},
   "source": [
    "# Dot Product\n",
    "\n",
    "Given two vectors we can get the dot product by multiplying each\n",
    "\n",
    "$$ v \\cdot w = v_1 w_1 + v_2 w_2 $$\n"
   ]
  },
  {
   "cell_type": "markdown",
   "metadata": {},
   "source": [
    "We can represent this in python code like so"
   ]
  },
  {
   "cell_type": "code",
   "execution_count": 91,
   "metadata": {},
   "outputs": [
    {
     "name": "stdout",
     "output_type": "stream",
     "text": [
      "130\n"
     ]
    }
   ],
   "source": [
    "v = [1,2,3,4,5]\n",
    "w = [6,7,8,9,10]\n",
    "\n",
    "total = 0\n",
    "for i,j in zip(v,w):\n",
    "    total += i*j\n",
    "    \n",
    "print(total)"
   ]
  },
  {
   "cell_type": "markdown",
   "metadata": {},
   "source": [
    "Numpy makes this alot simpler"
   ]
  },
  {
   "cell_type": "code",
   "execution_count": 92,
   "metadata": {},
   "outputs": [
    {
     "data": {
      "text/plain": [
       "130"
      ]
     },
     "execution_count": 92,
     "metadata": {},
     "output_type": "execute_result"
    }
   ],
   "source": [
    "np.dot(a,b)"
   ]
  },
  {
   "cell_type": "markdown",
   "metadata": {},
   "source": [
    "The length of a vector is sqaure root of $ v \\cdot v $."
   ]
  },
  {
   "cell_type": "markdown",
   "metadata": {},
   "source": [
    "# Matrix \n",
    "\n",
    "A matrix is a grid of numbers arrange into m rows and n colums, kind of like a excel spread sheet.\n",
    "\n",
    "$$ A = \n",
    "\\begin{bmatrix}\n",
    " 1 & 2 \\\\ \n",
    " 3 & 4 \\\\ \n",
    " 5 & 6 \n",
    "\\end{bmatrix} $$\n",
    "\n",
    "\n",
    " $ A $ is a matrix with 3 row and 2 columns or a 3 by 2 matrix. The items inside a matric are called elements, so each element in A is a number.\n",
    "\n",
    "\n",
    "Matrix multiplication is slightly more complicated\n",
    "\n",
    "In order to be multiple two maxtrix the number of cols on the first must be equal to the number of rows on the second. The size of the t\n",
    "\n",
    "[matrix muli](https://www.youtube.com/watch?v=sYlOjyPyX3g&index=24&list=PLF895BD9018BDCDF9)"
   ]
  },
  {
   "cell_type": "markdown",
   "metadata": {},
   "source": [
    "## Matrix addition\n",
    "\n",
    "When we you add two matrices the elemnts are added element wise.\n",
    "\n",
    "$$ \\begin{bmatrix}\n",
    " 1 & 2 \\\\ \n",
    " 3 & 4 \\\\ \n",
    " 5 & 6 \n",
    "\\end{bmatrix} +\n",
    " \\begin{bmatrix}\n",
    " 1 & 1 \\\\ \n",
    " 1 & 1 \\\\ \n",
    " 1 & 1 \n",
    "\\end{bmatrix} =\n",
    " \\begin{bmatrix}\n",
    " 1 +1 & 1 +2 \\\\ \n",
    " 1 + 3& 1 + 4 \\\\ \n",
    " 1 +5 & 1 + 6 \n",
    "\\end{bmatrix} $$\n",
    "\n",
    "The same applies to subtraction. Note that addtion and subtraction only work for matrices of the same size."
   ]
  },
  {
   "cell_type": "markdown",
   "metadata": {},
   "source": [
    "# Questions\n",
    "\n",
    "1.) Create two random 8 by 8 matrices and add them together."
   ]
  },
  {
   "cell_type": "markdown",
   "metadata": {},
   "source": [
    "## Matrix multiplication\n",
    "\n",
    "Use this to create latex https://tex.stackexchange.com/questions/59517/label-rows-of-a-matrix-by-characters\n",
    "\n",
    "[Matrix multiplicaiton](https://www.freemathhelp.com/matrix-multiplication.html)\n",
    "\n"
   ]
  },
  {
   "cell_type": "markdown",
   "metadata": {},
   "source": [
    "$$ \\begin{bmatrix}\n",
    " 1 & 2 \\\\ \n",
    " 3 & 4 \\\\ \n",
    " 5 & 6 \n",
    "\\end{bmatrix} \n",
    "\\begin{bmatrix}\n",
    " 7 \\\\\n",
    " 8\n",
    "\\end{bmatrix} =\n",
    "\\begin{bmatrix}\n",
    " 1 \\cdot 7 + 2 \\cdot 8 \\\\\n",
    " 3 \\cdot 7 + 4 \\cdot 8 \\\\\n",
    " 5 \\cdot 7 + 6 \\cdot 8\n",
    "\\end{bmatrix} =\n",
    "\\begin{bmatrix}\n",
    " 23 \\\\\n",
    " 53 \\\\\n",
    " 83\n",
    "\\end{bmatrix} $$\n"
   ]
  },
  {
   "cell_type": "markdown",
   "metadata": {},
   "source": [
    "## Inside outside rule\n",
    "\n",
    "If the number in the inside match up you can multiply the matrix. The outside numbers will give you the dimensions of the anwser.\n",
    "\n",
    "![inny outey rule](https://www.freemathhelp.com/images/lessons/mat11.png)\n",
    "\n",
    "An m x n matrix times and n x p matrix yields a m x p matrix."
   ]
  },
  {
   "cell_type": "code",
   "execution_count": 132,
   "metadata": {
    "collapsed": true
   },
   "outputs": [],
   "source": [
    "A = np.arange(1,5).reshape((2,2))\n",
    "B = np.arange(5,9).reshape((2,2))"
   ]
  },
  {
   "cell_type": "code",
   "execution_count": 133,
   "metadata": {},
   "outputs": [
    {
     "data": {
      "text/plain": [
       "array([[19, 22],\n",
       "       [43, 50]])"
      ]
     },
     "execution_count": 133,
     "metadata": {},
     "output_type": "execute_result"
    }
   ],
   "source": [
    "np.matmul(A,B)"
   ]
  },
  {
   "cell_type": "code",
   "execution_count": 134,
   "metadata": {
    "collapsed": true
   },
   "outputs": [],
   "source": [
    "C = np.random.randint(10,size=(4,3))"
   ]
  },
  {
   "cell_type": "code",
   "execution_count": null,
   "metadata": {
    "collapsed": true
   },
   "outputs": [],
   "source": [
    "np.matmul(A,C) #will error"
   ]
  },
  {
   "cell_type": "markdown",
   "metadata": {},
   "source": [
    "We can get the shape of a matrix like so."
   ]
  },
  {
   "cell_type": "code",
   "execution_count": 154,
   "metadata": {},
   "outputs": [
    {
     "data": {
      "text/plain": [
       "(4, 3)"
      ]
     },
     "execution_count": 154,
     "metadata": {},
     "output_type": "execute_result"
    }
   ],
   "source": [
    "C.shape"
   ]
  },
  {
   "cell_type": "code",
   "execution_count": 155,
   "metadata": {},
   "outputs": [
    {
     "data": {
      "text/plain": [
       "(2, 2)"
      ]
     },
     "execution_count": 155,
     "metadata": {},
     "output_type": "execute_result"
    }
   ],
   "source": [
    "B.shape"
   ]
  },
  {
   "cell_type": "markdown",
   "metadata": {},
   "source": [
    "Will this code run of will it error?"
   ]
  },
  {
   "cell_type": "code",
   "execution_count": null,
   "metadata": {
    "collapsed": true
   },
   "outputs": [],
   "source": [
    "np.matmul(C,B)"
   ]
  },
  {
   "cell_type": "markdown",
   "metadata": {},
   "source": [
    "## Questions\n",
    "\n",
    "* Define a function that check if two matrixes can be multiplied together\n",
    "* Define a function that given two matrixes will retrun the dimensions of the matrix formed from a matrix multiplication\n"
   ]
  },
  {
   "cell_type": "markdown",
   "metadata": {},
   "source": [
    "## Order matters\n",
    "\n",
    "The order of matrix multiplcation matters.\n",
    "\n",
    "$$ AB \\neq BA $$"
   ]
  },
  {
   "cell_type": "code",
   "execution_count": 163,
   "metadata": {},
   "outputs": [
    {
     "data": {
      "text/plain": [
       "array([[1, 2, 3],\n",
       "       [4, 5, 6],\n",
       "       [7, 8, 9]])"
      ]
     },
     "execution_count": 163,
     "metadata": {},
     "output_type": "execute_result"
    }
   ],
   "source": [
    "A = np.arange(1,10).reshape((3,3))\n",
    "A"
   ]
  },
  {
   "cell_type": "code",
   "execution_count": 164,
   "metadata": {},
   "outputs": [
    {
     "data": {
      "text/plain": [
       "array([[10, 11, 12],\n",
       "       [13, 14, 15],\n",
       "       [16, 17, 18]])"
      ]
     },
     "execution_count": 164,
     "metadata": {},
     "output_type": "execute_result"
    }
   ],
   "source": [
    "B = np.arange(10,19).reshape((3,3))\n",
    "B"
   ]
  },
  {
   "cell_type": "code",
   "execution_count": 165,
   "metadata": {},
   "outputs": [
    {
     "data": {
      "text/plain": [
       "array([[ 84,  90,  96],\n",
       "       [201, 216, 231],\n",
       "       [318, 342, 366]])"
      ]
     },
     "execution_count": 165,
     "metadata": {},
     "output_type": "execute_result"
    }
   ],
   "source": [
    "np.matmul(A,B)"
   ]
  },
  {
   "cell_type": "code",
   "execution_count": 166,
   "metadata": {},
   "outputs": [
    {
     "data": {
      "text/plain": [
       "array([[138, 171, 204],\n",
       "       [174, 216, 258],\n",
       "       [210, 261, 312]])"
      ]
     },
     "execution_count": 166,
     "metadata": {},
     "output_type": "execute_result"
    }
   ],
   "source": [
    "np.matmul(B,A)"
   ]
  },
  {
   "cell_type": "code",
   "execution_count": 167,
   "metadata": {},
   "outputs": [
    {
     "data": {
      "text/plain": [
       "array([[False, False, False],\n",
       "       [False,  True, False],\n",
       "       [False, False, False]], dtype=bool)"
      ]
     },
     "execution_count": 167,
     "metadata": {},
     "output_type": "execute_result"
    }
   ],
   "source": [
    "np.matmul(A,B) == np.matmul(B,A)"
   ]
  },
  {
   "cell_type": "markdown",
   "metadata": {},
   "source": [
    "# Transpose\n",
    "\n",
    "The transpose switches the rows and columns in a matrix.\n",
    "\n",
    "A transpose can be thought of as rotating a matrix around it's diagonal. The diagonal starts in the top left hand corner and ends in the bottom right and corner.\n",
    "\n",
    "In maths the transpose is indicated by a T in the top-right corner of the matrix.\n",
    "\n",
    "$$ \\begin{bmatrix}\n",
    " 1 & 2 & 3 \\\\ \n",
    " 4 & 5 & 6\n",
    "\\end{bmatrix}^T =\n",
    "\\begin{bmatrix}\n",
    "1 & 2\\\\ \n",
    "3 & 4\\\\ \n",
    "5 & 6\n",
    "\\end{bmatrix} $$\n",
    "\n",
    "And in numpy the \n"
   ]
  },
  {
   "cell_type": "code",
   "execution_count": 151,
   "metadata": {},
   "outputs": [
    {
     "data": {
      "text/plain": [
       "array([[1, 0],\n",
       "       [1, 1]])"
      ]
     },
     "execution_count": 151,
     "metadata": {},
     "output_type": "execute_result"
    }
   ],
   "source": [
    "A = np.array([[1,0],[1,1]])\n",
    "A"
   ]
  },
  {
   "cell_type": "code",
   "execution_count": 153,
   "metadata": {},
   "outputs": [
    {
     "data": {
      "text/plain": [
       "array([[1, 1],\n",
       "       [0, 1]])"
      ]
     },
     "execution_count": 153,
     "metadata": {},
     "output_type": "execute_result"
    }
   ],
   "source": [
    "A.T"
   ]
  },
  {
   "cell_type": "code",
   "execution_count": null,
   "metadata": {
    "collapsed": true
   },
   "outputs": [],
   "source": [
    "np.inverse"
   ]
  },
  {
   "cell_type": "markdown",
   "metadata": {},
   "source": [
    "# Inverse\n",
    "\n",
    "Why do we need a inverse? Well with matrices we can't divide a matrix by another atrix. Instead we multiply by the inverse, which achieves the same thing."
   ]
  },
  {
   "cell_type": "markdown",
   "metadata": {},
   "source": [
    "### Questions"
   ]
  },
  {
   "cell_type": "markdown",
   "metadata": {},
   "source": [
    "1. Can you multiply two matrices, A and B, without using numpy? ** Hint ** you can use 3 for loops\n",
    "2. Can you take the transpose of a matrix A without using numpy? ** Hint ** you need to swap the rows and columns"
   ]
  },
  {
   "cell_type": "code",
   "execution_count": 37,
   "metadata": {
    "collapsed": true
   },
   "outputs": [],
   "source": [
    "A=[[1,2]\n",
    "  ,[3,4]]\n",
    "\n",
    "B=[[3,4]\n",
    "  ,[5,6]]"
   ]
  },
  {
   "cell_type": "code",
   "execution_count": 194,
   "metadata": {
    "collapsed": true
   },
   "outputs": [],
   "source": [
    "#question 1\n",
    "result = []\n",
    "for i in range(len(A)):\n",
    "    for j in range(len(A[0])):\n",
    "        \n",
    "        "
   ]
  },
  {
   "cell_type": "code",
   "execution_count": null,
   "metadata": {
    "collapsed": true
   },
   "outputs": [],
   "source": []
  },
  {
   "cell_type": "code",
   "execution_count": 38,
   "metadata": {
    "collapsed": true
   },
   "outputs": [],
   "source": [
    "#question 2\n",
    "result = []\n",
    "for i in range(len(A)):\n",
    "    row = []\n",
    "    for j in range(len(B)):\n",
    "        total = 0\n",
    "        for k in range(len(A[j])):\n",
    "            total += A[i][k] * B[k][j]\n",
    "        row.append(total)\n",
    "    result.append(row)\n",
    "                "
   ]
  },
  {
   "cell_type": "code",
   "execution_count": 39,
   "metadata": {},
   "outputs": [
    {
     "data": {
      "text/plain": [
       "[[13, 16], [29, 36]]"
      ]
     },
     "execution_count": 39,
     "metadata": {},
     "output_type": "execute_result"
    }
   ],
   "source": [
    "result"
   ]
  },
  {
   "cell_type": "code",
   "execution_count": 40,
   "metadata": {},
   "outputs": [
    {
     "data": {
      "text/plain": [
       "array([[13, 16],\n",
       "       [29, 36]])"
      ]
     },
     "execution_count": 40,
     "metadata": {},
     "output_type": "execute_result"
    }
   ],
   "source": [
    "np.matmul(A,B)"
   ]
  },
  {
   "cell_type": "markdown",
   "metadata": {},
   "source": [
    "# Broadcasting\n",
    "\n",
    "In numpy the rules for addition, subtraction and multiplication are relax."
   ]
  },
  {
   "cell_type": "markdown",
   "metadata": {},
   "source": [
    "Broadcasting allows us to take the hadmard product of a matrix and a vector.\n",
    "\n",
    "$$ \\begin{bmatrix}\n",
    "a_1  \\\\ \n",
    "a_2   \n",
    "\\end{bmatrix} \\cdot\n",
    "\\begin{bmatrix}\n",
    "b_1 & b_2  \\\\ \n",
    "b_3 & b_4   \n",
    "\\end{bmatrix} =\n",
    "\\begin{bmatrix}\n",
    "a_1 \\cdot b_1 & a_1 \\cdot b_2  \\\\ \n",
    "a_2 \\cdot b_3 &  a_2 \\cdot b_4   \n",
    "\\end{bmatrix} $$"
   ]
  },
  {
   "cell_type": "code",
   "execution_count": 176,
   "metadata": {},
   "outputs": [
    {
     "data": {
      "text/plain": [
       "array([[ 2,  6],\n",
       "       [ 4, 10]])"
      ]
     },
     "execution_count": 176,
     "metadata": {},
     "output_type": "execute_result"
    }
   ],
   "source": [
    "A = np.array([1,2])\n",
    "B = np.array([[2,3],\n",
    "              [4,5]])\n",
    "np.multiply(A,B)"
   ]
  },
  {
   "cell_type": "markdown",
   "metadata": {},
   "source": [
    "The same rules apply for addition"
   ]
  },
  {
   "cell_type": "code",
   "execution_count": 187,
   "metadata": {},
   "outputs": [
    {
     "data": {
      "text/plain": [
       "array([[1, 3],\n",
       "       [3, 5]])"
      ]
     },
     "execution_count": 187,
     "metadata": {},
     "output_type": "execute_result"
    }
   ],
   "source": [
    "A = np.array([0,1])\n",
    "B = np.array([[1,2],\n",
    "              [3,4]])\n",
    "A + B"
   ]
  },
  {
   "cell_type": "markdown",
   "metadata": {},
   "source": [
    "# Tensors\n",
    "\n",
    "Tensors are just matrix in higher dimensions. For example a cube could be thought of as 3rd rank tensor. \n",
    "\n",
    "* A number is a rank-0 tensor\n",
    "* A vector is a rank-1 tensor\n",
    "* A matrix is a rank-2 tensor\n",
    "* A cube is a rank-3 tensor\n",
    "\n",
    "A black and white image can be represented easily as a matrix\n",
    "\n",
    "<div style=\"display:block\"class=\"c-rg-igfx-1\">\n",
    "<img src=\"https://bam.files.bbci.co.uk/bam/live/content/zdcxfg8/large\" alt=\"Diagram to illustrate pixels and their make-up.\" class=\"resp-d\">\n",
    "</div>\n",
    "\n",
    "A coloured image can be represent as a 3rd rank tensor\n",
    "![image as tensor](https://image.slidesharecdn.com/tensordecomposition-170301235239/95/a-brief-survey-of-tensors-5-638.jpg?cb=1488412458)"
   ]
  },
  {
   "cell_type": "code",
   "execution_count": null,
   "metadata": {
    "collapsed": true
   },
   "outputs": [],
   "source": []
  },
  {
   "cell_type": "code",
   "execution_count": null,
   "metadata": {
    "collapsed": true
   },
   "outputs": [],
   "source": []
  }
 ],
 "metadata": {
  "kernelspec": {
   "display_name": "Python 3",
   "language": "python",
   "name": "python3"
  },
  "language_info": {
   "codemirror_mode": {
    "name": "ipython",
    "version": 3
   },
   "file_extension": ".py",
   "mimetype": "text/x-python",
   "name": "python",
   "nbconvert_exporter": "python",
   "pygments_lexer": "ipython3",
   "version": "3.6.3"
  }
 },
 "nbformat": 4,
 "nbformat_minor": 2
}
