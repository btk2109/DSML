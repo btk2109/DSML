{
 "cells": [
  {
   "cell_type": "markdown",
   "metadata": {},
   "source": [
    "![Image of Yaktocat](https://pbs.twimg.com/profile_images/811501827363520512/zhuGojAu_400x400.jpg)"
   ]
  },
  {
   "cell_type": "markdown",
   "metadata": {},
   "source": [
    "# Learning objectives\n",
    "\n",
    "* Reading and writing files in python\n",
    "* Counting frequencies of words\n",
    "* Understand what stop words and n-grams are, and there use cases in NLP.\n",
    "\n"
   ]
  },
  {
   "cell_type": "markdown",
   "metadata": {},
   "source": [
    "# The premise\n",
    "\n",
    "Lets imagine that we're interested in getting a programming job in Hong Kong. Some of the questions that come to mind when finding a job are:\n",
    "\n",
    "* What programming languages are most in demand?\n",
    "\n",
    "In this lesson I will try to equipped you with some of the skills you would need to approach these questions in a data driven way. We will start with the premise that we already have the data set, which in this case is are job descriptions from different websites such as, jobsdb, indeed, jobable, etc."
   ]
  },
  {
   "cell_type": "markdown",
   "metadata": {},
   "source": [
    "## Reading files\n",
    "\n",
    "The first argument is the location of the file, the second is what mode you want to open the file in. We'll open the file in readmode, and then we'll cover the other mode's later.\n"
   ]
  },
  {
   "cell_type": "code",
   "execution_count": 312,
   "metadata": {},
   "outputs": [],
   "source": [
    "filehandle = open('data/quick-fox.txt','r')\n",
    "text = filehandle.read()"
   ]
  },
  {
   "cell_type": "code",
   "execution_count": 313,
   "metadata": {},
   "outputs": [
    {
     "name": "stdout",
     "output_type": "stream",
     "text": [
      "The quick brown fox jumps over the lazy dog.\n"
     ]
    }
   ],
   "source": [
    "print(text)"
   ]
  },
  {
   "cell_type": "markdown",
   "metadata": {},
   "source": [
    "Once the content of a file handle has been read, calling ```read``` again will return an empty string."
   ]
  },
  {
   "cell_type": "code",
   "execution_count": 323,
   "metadata": {},
   "outputs": [
    {
     "name": "stdout",
     "output_type": "stream",
     "text": [
      "Hello world\n"
     ]
    }
   ],
   "source": [
    "with open('data/A.txt','w')as fh:\n",
    "    fh.write('Hello world')\n",
    "with open('data/A.txt','r') as fh1:\n",
    "    data = fh1.read()\n",
    "with open('data/B.txt','w') as fh2:\n",
    "    fh2.write(data)\n",
    "with open('data/B.txt','r') as fh3:\n",
    "    print(fh3.read())"
   ]
  },
  {
   "cell_type": "code",
   "execution_count": 271,
   "metadata": {},
   "outputs": [
    {
     "data": {
      "text/plain": [
       "''"
      ]
     },
     "execution_count": 271,
     "metadata": {},
     "output_type": "execute_result"
    }
   ],
   "source": [
    "filehandle.read()"
   ]
  },
  {
   "cell_type": "markdown",
   "metadata": {},
   "source": [
    "Once you've finished with a file handle make sure you close it. This is important when writing python scripts since the file's contents will only be edited/removed/saved after you close your file handle."
   ]
  },
  {
   "cell_type": "code",
   "execution_count": 272,
   "metadata": {},
   "outputs": [],
   "source": [
    "filehandle.close()"
   ]
  },
  {
   "cell_type": "markdown",
   "metadata": {},
   "source": [
    "In case you forget to close the file handle, python offers an alternative syntax which automatically handles the closing for you. As you can see below, the alternative \n",
    "\n",
    "```python\n",
    "\n",
    "with open(\"filename\", \"r\") as filehandle:\n",
    "    text = filehandle.read()\n",
    "    \n",
    "\n",
    "```\n",
    "\n",
    "Since this syntax handles the closing for us well use it from here foward."
   ]
  },
  {
   "cell_type": "code",
   "execution_count": 55,
   "metadata": {},
   "outputs": [
    {
     "name": "stdout",
     "output_type": "stream",
     "text": [
      "['The quick brown fox jumps over the lazy dog.']\n"
     ]
    }
   ],
   "source": [
    "with open('data/quick-fox.txt','r') as fh:\n",
    "    text = fh.readlines()\n",
    "    print(text)"
   ]
  },
  {
   "cell_type": "code",
   "execution_count": 273,
   "metadata": {},
   "outputs": [
    {
     "data": {
      "text/plain": [
       "True"
      ]
     },
     "execution_count": 273,
     "metadata": {},
     "output_type": "execute_result"
    }
   ],
   "source": [
    "fh.closed #Closes automatically"
   ]
  },
  {
   "cell_type": "markdown",
   "metadata": {},
   "source": [
    "As you can see, the syntax below doesn't automatically close the file handle for us. "
   ]
  },
  {
   "cell_type": "code",
   "execution_count": 274,
   "metadata": {},
   "outputs": [
    {
     "data": {
      "text/plain": [
       "'The quick brown fox jumps over the lazy dog.'"
      ]
     },
     "execution_count": 274,
     "metadata": {},
     "output_type": "execute_result"
    }
   ],
   "source": [
    "fh = open('data/quick-fox.txt','r')\n",
    "fh.read()"
   ]
  },
  {
   "cell_type": "code",
   "execution_count": 275,
   "metadata": {},
   "outputs": [
    {
     "data": {
      "text/plain": [
       "False"
      ]
     },
     "execution_count": 275,
     "metadata": {},
     "output_type": "execute_result"
    }
   ],
   "source": [
    "fh.closed #Didn't close automatically"
   ]
  },
  {
   "cell_type": "code",
   "execution_count": 276,
   "metadata": {},
   "outputs": [],
   "source": [
    "fh.close() #Close file handle manually"
   ]
  },
  {
   "cell_type": "markdown",
   "metadata": {},
   "source": [
    "```readlines``` can be use to read each line into a list."
   ]
  },
  {
   "cell_type": "code",
   "execution_count": 278,
   "metadata": {},
   "outputs": [],
   "source": [
    "fh = open('data/zen_of_python.txt','r')\n",
    "l = fh.readlines()"
   ]
  },
  {
   "cell_type": "code",
   "execution_count": 63,
   "metadata": {},
   "outputs": [],
   "source": [
    "fh.close()"
   ]
  },
  {
   "cell_type": "markdown",
   "metadata": {},
   "source": [
    "In some cases when a file is especially large you don't want to read the whole file into memory all at once. In such cases you can use ```readline```. Each time it is called it will read a single line from the file till the end."
   ]
  },
  {
   "cell_type": "code",
   "execution_count": 4,
   "metadata": {},
   "outputs": [
    {
     "name": "stdout",
     "output_type": "stream",
     "text": [
      "Beautiful is better than ugly.\n",
      "\n"
     ]
    }
   ],
   "source": [
    "with open('data/zen_of_python.txt','r') as fh:\n",
    "    text = fh.readline()\n",
    "    print(text)"
   ]
  },
  {
   "cell_type": "markdown",
   "metadata": {},
   "source": [
    "You can also specifiy the number of characters to read "
   ]
  },
  {
   "cell_type": "code",
   "execution_count": 5,
   "metadata": {},
   "outputs": [
    {
     "name": "stdout",
     "output_type": "stream",
     "text": [
      "Beautiful \n"
     ]
    }
   ],
   "source": [
    "with open('data/zen_of_python.txt','r') as fh:\n",
    "    text = fh.readline(10)\n",
    "    print(text)"
   ]
  },
  {
   "cell_type": "markdown",
   "metadata": {},
   "source": [
    "# Writing File and other modes\n",
    "\n",
    "There are a few different modes to open a file with but the most common are:\n",
    "\n",
    "* 'r' – Read mode as we've just seen\n",
    "* 'w' – Write mode (existing file with the same name will be erased when this mode is activated)\n",
    "* 'a' – Append mode, this is used to add new data to the end of the file; that is new information is automatically amended to the end \n",
    "* 'r+' –  Read and write mode\n",
    "* 'a+' - Read and append mode.\n",
    "\n",
    "An example of writing to a file is below.\n",
    "\n",
    "```python\n",
    "with open('filename','w') as filehandle:\n",
    "    filehandle.write(\"String you want to write to file\")\n",
    "```    \n"
   ]
  },
  {
   "cell_type": "markdown",
   "metadata": {},
   "source": [
    "If I write to the same filename twice in 'w' mode what will be it's contents?"
   ]
  },
  {
   "cell_type": "code",
   "execution_count": 6,
   "metadata": {},
   "outputs": [],
   "source": [
    "with open('data/file.txt','w') as fh1:\n",
    "    fh1.write(\"Beautiful is better than ugly.\\n\")"
   ]
  },
  {
   "cell_type": "code",
   "execution_count": 7,
   "metadata": {},
   "outputs": [],
   "source": [
    "with open('data/file.txt','w') as fh1:\n",
    "    fh1.write(\"Explicit is better than implicit.\\n\")"
   ]
  },
  {
   "cell_type": "markdown",
   "metadata": {},
   "source": [
    "# Exercise 1\n",
    "\n",
    "* How would you copy a file?\n",
    "* Duplicate the text in a file?"
   ]
  },
  {
   "cell_type": "code",
   "execution_count": 334,
   "metadata": {},
   "outputs": [],
   "source": [
    "with open('data/zen_of_python.txt','r') as fh1:\n",
    "    copy = fh1.readlines()\n",
    "\n",
    "with open('data/file2.txt','w') as fh2:\n",
    "    for x in copy:\n",
    "        fh2.write(x)\n",
    "\n",
    "with open('data/file2.txt','a') as fh2:\n",
    "    pass"
   ]
  },
  {
   "cell_type": "markdown",
   "metadata": {},
   "source": [
    "# Word frequencies\n",
    "\n",
    "A simple indication of the content for a body of text can be obtained by looking at the word frequencies. \n",
    "\n",
    "The steps needed to count the frequency of words in text are listed below:\n",
    "\n",
    "* First read the file into python.\n",
    "* Next use a for loop and `.replace` to remove all the punctuation from the text.\n",
    "* After split the text into a list of words.\n",
    "* Finally count the frequency of each of those word. *Hint* a dictionary will be usefull here.\n",
    "\n",
    "\n",
    "The below functions are all you need for this but feel free to use others."
   ]
  },
  {
   "cell_type": "code",
   "execution_count": 9,
   "metadata": {},
   "outputs": [],
   "source": [
    "import string"
   ]
  },
  {
   "cell_type": "code",
   "execution_count": 10,
   "metadata": {},
   "outputs": [
    {
     "data": {
      "text/plain": [
       "'!\"#$%&\\'()*+,-./:;<=>?@[\\\\]^_`{|}~'"
      ]
     },
     "execution_count": 10,
     "metadata": {},
     "output_type": "execute_result"
    }
   ],
   "source": [
    "string.punctuation"
   ]
  },
  {
   "cell_type": "code",
   "execution_count": 94,
   "metadata": {},
   "outputs": [],
   "source": [
    "s = \"SOME RANDOM WORDS\""
   ]
  },
  {
   "cell_type": "code",
   "execution_count": 95,
   "metadata": {},
   "outputs": [
    {
     "data": {
      "text/plain": [
       "'some random words'"
      ]
     },
     "execution_count": 95,
     "metadata": {},
     "output_type": "execute_result"
    }
   ],
   "source": [
    "s.lower() #lowercase string"
   ]
  },
  {
   "cell_type": "code",
   "execution_count": 324,
   "metadata": {},
   "outputs": [
    {
     "data": {
      "text/plain": [
       "'SOME  WORDS'"
      ]
     },
     "execution_count": 324,
     "metadata": {},
     "output_type": "execute_result"
    }
   ],
   "source": [
    "s.replace(\"RANDOM\",\"\") #replaces the word random with an empty space"
   ]
  },
  {
   "cell_type": "code",
   "execution_count": 326,
   "metadata": {},
   "outputs": [
    {
     "data": {
      "text/plain": [
       "'akdjfhkasf....!dd'"
      ]
     },
     "execution_count": 326,
     "metadata": {},
     "output_type": "execute_result"
    }
   ],
   "source": [
    "s = \"akdjfhkasf.....!!dd\"\n",
    "s.replace(\".!\",\"\")"
   ]
  },
  {
   "cell_type": "code",
   "execution_count": 335,
   "metadata": {},
   "outputs": [],
   "source": [
    "sentence = \"some word in a sentence\""
   ]
  },
  {
   "cell_type": "code",
   "execution_count": 336,
   "metadata": {},
   "outputs": [
    {
     "data": {
      "text/plain": [
       "['some', 'word', 'in', 'a', 'sentence']"
      ]
     },
     "execution_count": 336,
     "metadata": {},
     "output_type": "execute_result"
    }
   ],
   "source": [
    "sentence.split()"
   ]
  },
  {
   "cell_type": "code",
   "execution_count": 99,
   "metadata": {},
   "outputs": [
    {
     "data": {
      "text/plain": [
       "['SOME', 'RANDOM', 'WORDS']"
      ]
     },
     "execution_count": 99,
     "metadata": {},
     "output_type": "execute_result"
    }
   ],
   "source": [
    "s.split() #split words at white space"
   ]
  },
  {
   "cell_type": "markdown",
   "metadata": {},
   "source": [
    "## Exercise 2\n",
    "\n",
    "* Read the file shakespear.txt and clean the text (remove puncuation and numbers).\n",
    "* Count the frequency of each word.  What is the most frequent word? \n",
    "  * *Hint* you can use the following syntax to get the most frequent word\n",
    "  ```python\n",
    "  word_freqs = {'fish':10,'chicken':4,'turkey':2}\n",
    "  max(word_freqs,key=word_freqs.get)\n",
    "   ```\n",
    "* Why is it hard to get a sense of the text from looking at these word frequencies?"
   ]
  },
  {
   "cell_type": "code",
   "execution_count": 20,
   "metadata": {},
   "outputs": [],
   "source": [
    "with open(\"data/shakespear.txt\",\"r\") as fh:\n",
    "    text = fh.read()"
   ]
  },
  {
   "cell_type": "code",
   "execution_count": 37,
   "metadata": {},
   "outputs": [],
   "source": [
    "numbers = \"\".join([str(n) for n in range(10)])"
   ]
  },
  {
   "cell_type": "code",
   "execution_count": 38,
   "metadata": {},
   "outputs": [],
   "source": [
    "for punc in string.punctuation + numbers:\n",
    "    text = text.replace(punc,'')\n",
    "\n",
    "text_list = text.split()\n",
    "counts = {}\n",
    "\n",
    "for word in text_list:\n",
    "    if word in counts:\n",
    "        counts[word] +=1\n",
    "    else:\n",
    "        counts[word] = 1"
   ]
  },
  {
   "cell_type": "markdown",
   "metadata": {},
   "source": [
    "It's hard to get a sense of the text because most of the words are [stop-words](https://datascience.stackexchange.com/questions/15765/nlp-why-is-not-a-stop-word).\n"
   ]
  },
  {
   "cell_type": "markdown",
   "metadata": {},
   "source": [
    "## Exercise 3\n",
    "\n",
    "Using the zen_of_python.txt complete the following\n",
    "\n",
    "* Count the number lines and the line length.\n",
    "* On each line if \"better\" occurs extract better and the next 2 words\n",
    "  * For example given line 1 \"Beautiful is better than ugly.\" return \"better than ugly\"\n",
    "  \n",
    "*Hint*: readlines will be usefull\n",
    "  \n",
    "This touches onto the topic of [n-grams](https://www.quora.com/What-is-a-bigram-and-a-trigram-layman-explanation-please), which are important in nlp (understanding text with a computer)."
   ]
  },
  {
   "cell_type": "code",
   "execution_count": 17,
   "metadata": {},
   "outputs": [
    {
     "data": {
      "text/plain": [
       "[['better', 'than', 'ugly.'],\n",
       " ['better', 'than', 'implicit.'],\n",
       " ['better', 'than', 'complex.'],\n",
       " ['better', 'than', 'complicated.'],\n",
       " ['better', 'than', 'nested.'],\n",
       " ['better', 'than', 'dense.'],\n",
       " ['better', 'than', 'never.'],\n",
       " ['better', 'than', '*right*']]"
      ]
     },
     "execution_count": 17,
     "metadata": {},
     "output_type": "execute_result"
    }
   ],
   "source": [
    "#code here\n",
    "with open('data/zen_of_python.txt','r') as f:\n",
    "    text = f.readlines()\n",
    "\n",
    "results = []\n",
    "\n",
    "for line in text:\n",
    "    if 'better' in line:\n",
    "        line_list = line.split()\n",
    "        i = line_list.index('better')\n",
    "        results.append(line_list[i:i+3])\n",
    "        \n",
    "results"
   ]
  },
  {
   "cell_type": "markdown",
   "metadata": {},
   "source": [
    "## Exercise 4\n",
    "\n",
    "There are 180 job descriptions concatinated into one file in job-descriptions.txt .\n",
    "\n",
    "* What programming languages are most in demand form the bellow list? \n",
    "  * java, c , c++ , javascript , python , c# , html , css , php\n",
    "* Why given our data set might this not be an accurate representation of the populatiry of programming langauges?\n",
    "\n"
   ]
  },
  {
   "cell_type": "code",
   "execution_count": 111,
   "metadata": {},
   "outputs": [],
   "source": [
    "langs = [\"java\",\"c\",\"c++\",\"javascript\",\"python\",\"c#\",\"html\",\"css\",\"php\"]"
   ]
  },
  {
   "cell_type": "code",
   "execution_count": 8,
   "metadata": {},
   "outputs": [],
   "source": [
    "with open('data/job-descriptions.txt','r') as f:\n",
    "    text = f.read()"
   ]
  },
  {
   "cell_type": "code",
   "execution_count": null,
   "metadata": {},
   "outputs": [],
   "source": []
  },
  {
   "cell_type": "code",
   "execution_count": 11,
   "metadata": {},
   "outputs": [],
   "source": [
    "from wordcloud import WordCloud\n",
    "import matplotlib.pyplot as plt\n",
    "%matplotlib inline"
   ]
  },
  {
   "cell_type": "code",
   "execution_count": 18,
   "metadata": {},
   "outputs": [],
   "source": [
    "def generateWordCloud(freq_dict):\n",
    "    wordcloud = WordCloud(background_color=\"white\",width=1200 ,height=800,prefer_horizontal=1 )\n",
    "    wordcloud.generate_from_frequencies(frequencies=freq_dict)\n",
    "    plt.figure(figsize=(12,8))\n",
    "    plt.imshow(wordcloud, interpolation=\"bilinear\")\n",
    "    plt.axis(\"off\")\n",
    "    plt.show()"
   ]
  },
  {
   "cell_type": "code",
   "execution_count": 268,
   "metadata": {},
   "outputs": [
    {
     "data": {
      "image/png": "[encoded data removed]",
      "text/plain": [
       "<matplotlib.figure.Figure at 0x7fab9551ea58>"
      ]
     },
     "metadata": {},
     "output_type": "display_data"
    }
   ],
   "source": [
    "fav_food = {\"chicken\":10,\"fish\":5,\"turkey\":2}\n",
    "generateWordCloud(fav_food)"
   ]
  }
 ],
 "metadata": {
  "kernelspec": {
   "display_name": "Python 3",
   "language": "python",
   "name": "python3"
  },
  "language_info": {
   "codemirror_mode": {
    "name": "ipython",
    "version": 3
   },
   "file_extension": ".py",
   "mimetype": "text/x-python",
   "name": "python",
   "nbconvert_exporter": "python",
   "pygments_lexer": "ipython3",
   "version": "3.6.3"
  }
 },
 "nbformat": 4,
 "nbformat_minor": 2
}
