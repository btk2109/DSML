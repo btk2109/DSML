{
 "cells": [
  {
   "cell_type": "markdown",
   "metadata": {},
   "source": [
    "![Image of Yaktocat](https://pbs.twimg.com/profile_images/811501827363520512/zhuGojAu_400x400.jpg)"
   ]
  },
  {
   "cell_type": "markdown",
   "metadata": {},
   "source": [
    "# 010 - Python intense course\n",
    "\n",
    "### 3 weeks\n",
    "\n",
    "### OVERVIEW\n",
    "\n",
    "Python intense course is focused on granting the minimum skill levels required to be eligible for the AI series of courses. \n",
    "\n",
    "### GOALS\n",
    "\n",
    "Starting from scratch and cover all the minimum topics regarding AI series courses.\n",
    "Intense, cheap and short as possible, based on practical exercises with differents levels of complexity.\n",
    "\n",
    "### Code Quizzes by chapter to measure student level. \n",
    "\n",
    "### SPECIFICATIONS\n",
    "\n",
    "AI series courses requires a base knowledge of skills to work in Python, using NumPy, Pandas and others libraries. Covering the setup for the programming environment Anaconda. With simple sets of samples from the beginning toward more complex big-data projects: using NumPy to analyze data patterns as well as Pandas and Matplotlib to explore, manipulate and visualize the data analysis.\n",
    "\n",
    "## SYLLABUS \n",
    "\n",
    "### 1a. Introduction to Python\n",
    "\n",
    "a) Why Python?\n",
    "\t\n",
    "### 1b. Installation and Setup\n",
    "\n",
    "a) Installing Python 3.0\n",
    "\n",
    "b) Hello World first python program\n",
    "\n",
    "c) Installing Jupyter notebook\n",
    "\n",
    "d) Data types and Variables\n",
    "\n",
    "e) Arithmetics\n",
    "\n",
    "f) Basics in Logic Structure, indentation\n",
    "\n",
    "g) Exercises \n",
    "\n",
    "### 2. Data Containers in Python\n",
    "\n",
    "a) Python containers\n",
    "\n",
    "b) Using Python lists and the slicing syntax\n",
    "\n",
    "c) Loops\n",
    "\n",
    "d) Using Python dictionaries\n",
    "\n",
    "e) Comprehensions\n",
    "\n",
    "f) Exercises\n",
    "\n",
    "### 3. Combining Tools\n",
    "\n",
    "a) HW Exercises Presentation\n",
    "\n",
    "b) In class Exercise\n",
    "\n",
    "c) Solution\n",
    "\n",
    "d) Challenging Hw Exercise\n",
    "\n",
    "### 4. Introduction to NumPy\n",
    "\n",
    "a) Hw Exercise Presentation\n",
    "\n",
    "b) Solution\n",
    "\n",
    "c) Introduction to Numpy\n",
    "\n",
    "d) Challenging Hw Exercise\n",
    "\n",
    "\n",
    "### 5. Continuing NumPy and Intro to Pandas\n",
    "\n",
    "a) Hw Exercise Presentation\n",
    "\n",
    "b) Statistics with Numpy\n",
    "\n",
    "c) Intro to Pandas\n",
    "\n",
    "d) Dataframes\n",
    "\n",
    "### 6. Visualization with Pandas, Matplotlib & Seaborn\n",
    "\n",
    "a) Combining Pandas tools\n",
    "\n",
    "b) Visualization\n",
    "\n",
    "c) Final thoughts"
   ]
  },
  {
   "cell_type": "markdown",
   "metadata": {},
   "source": [
    "## 1.0.0"
   ]
  },
  {
   "cell_type": "markdown",
   "metadata": {},
   "source": [
    "![Image of Yaktocat](https://udemy-images.udemy.com/course/750x422/692642_a75c.jpg)"
   ]
  },
  {
   "cell_type": "markdown",
   "metadata": {},
   "source": [
    "## 1.0.1 Why Python?"
   ]
  },
  {
   "cell_type": "markdown",
   "metadata": {},
   "source": [
    "Why Python? So many computer languages, Java, C+++. Some even more suitable than Python."
   ]
  },
  {
   "cell_type": "markdown",
   "metadata": {},
   "source": [
    "- Python is an opensource computer language and is gaining more acceptance from the global community as illustrated below"
   ]
  },
  {
   "cell_type": "markdown",
   "metadata": {},
   "source": [
    "![Image of Yaktocat](https://storage.googleapis.com/bwdb/acceleratehk_DSML/class_1/ds16.PNG)"
   ]
  },
  {
   "cell_type": "markdown",
   "metadata": {},
   "source": [
    "Python, being opensource, has many powerful libraries that coders can share and use making it a top choice. With only a few lines of code a user can solve a complex problem. \n",
    "\n",
    "It has simple easy-to-use syntax, making it the perfect language for someone trying to learn computer programming for the first time.\n",
    "\n",
    "Simple Elegant Syntax. Programming in Python is fun. It's easier to understand and write Python code. Why? The syntax feels natural. Take this source code for an example: \n",
    "\n",
    "a = 2 \n",
    "\n",
    "b = 3 \n",
    "\n",
    "sum = a + b*print(sum)\n",
    "\n",
    "Great Community and Support. Python has a large supporting community. There are numerous active forums online which can be handy if you are stuck. Stackoverflow is a great example of one these forums."
   ]
  },
  {
   "cell_type": "markdown",
   "metadata": {},
   "source": [
    "![Image of Yaktocat](https://storage.googleapis.com/bwdb/acceleratehk_DSML/class_1/ds17.PNG)"
   ]
  },
  {
   "cell_type": "markdown",
   "metadata": {},
   "source": [
    "# Indentation"
   ]
  },
  {
   "cell_type": "markdown",
   "metadata": {},
   "source": [
    "Python programs get structured through indentation, \n",
    "i.e. code blocks are defined by their indentation. \n",
    "\n",
    "This principle makes it easier to read and understand other people's Python code.\n",
    "how does it work? \n",
    "\n",
    "All statements with the same distance to the right belong to the same block of code, \n",
    "i.e. the statements within a block line up vertically. The block ends at a line less indented or the end of the file. \n",
    "If a block has to be more deeply nested, it is simply indented further to the right"
   ]
  },
  {
   "cell_type": "markdown",
   "metadata": {},
   "source": [
    "<img style='max-width: 80%;' src='https://storage.googleapis.com/bwdb/acceleratehk_DSML/class_1/ds18.PNG'>"
   ]
  },
  {
   "cell_type": "markdown",
   "metadata": {},
   "source": [
    "<img style='max-width: 80%;' src='https://storage.googleapis.com/bwdb/acceleratehk_DSML/class_1/ds19.PNG'>"
   ]
  },
  {
   "cell_type": "markdown",
   "metadata": {},
   "source": [
    "#### Indentation is key in python. It makes the code easier to read and understand"
   ]
  },
  {
   "cell_type": "markdown",
   "metadata": {},
   "source": [
    "As mentioned earlier in the syllabus we will be using a number of libraries that can be imported onto Python. These libraries have been programmed in other computer languages and are stored in the RAM(Random Access Memory) of the computer. Running them on RAM makes them extremely fast and efficient to use. Some examples of the key libraries we will be using in this course include: Numpy, Scipy, Pandas etc. "
   ]
  },
  {
   "cell_type": "markdown",
   "metadata": {},
   "source": [
    "## 1.0.2 Installing Python 3.0"
   ]
  },
  {
   "cell_type": "markdown",
   "metadata": {},
   "source": [
    "For Windows Steps\n",
    "\n",
    "Open the following Link:\n",
    "\n",
    "https://www.python.org/downloads/release/python-360/\n",
    "\n",
    "Scroll down and click on Windows x86-64 executable installer to download\n",
    "\n",
    "For MAC download MAC OS X64-bit/32-bit installer\n"
   ]
  },
  {
   "cell_type": "markdown",
   "metadata": {},
   "source": [
    "<img style='max-width: 50%;' src='attachment:image.png'>"
   ]
  },
  {
   "cell_type": "markdown",
   "metadata": {},
   "source": [
    "Make sure to click Add Python 3.6 to Path. For MAC users no need to worry about \"Path\"\n",
    "\n",
    "For windows users save the folder on your \"c:\\\" drive under the name python36. MAC users install as is.\n",
    "\n",
    "If you forget to install Python without clicking Add Python 3.6 to Path, follow the steps provided in the link to create a \n",
    "path manually. This is for windows users only.\n",
    "\n",
    "https://helpdeskgeek.com/how-to/fix-not-recognized-as-an-internal-or-external-command/"
   ]
  },
  {
   "cell_type": "markdown",
   "metadata": {},
   "source": [
    "## 1.0.3 Our first Python program\n",
    "\n",
    "\n",
    "### For Windows Users\n",
    "\n",
    "Run Commad Prompt. Go to start and write cmd, then press enter.\n",
    "\n",
    "Type python and press enter.\n",
    "\n",
    "Type print(\"hello world\")\n",
    "\n",
    "To create a program, open notepad.\n",
    "\n",
    "Once on notepad. Type print(\"hello world\") or copy paste \n",
    "\n",
    "Save the file in the python folder as helloworld.py. Make sure to change the type to all files as opposed to txt.\n",
    "\n",
    "<img style=\"max-width: 50%\" src='attachment:image.png'>\n",
    "\n",
    "Go back to command prompt and go to the python folder. Once in the python folder type python helloworld.py\n",
    "\n"
   ]
  },
  {
   "cell_type": "markdown",
   "metadata": {},
   "source": [
    "### For MAC users"
   ]
  },
  {
   "cell_type": "markdown",
   "metadata": {},
   "source": [
    "Run the terminal. Go on the search icon on the upper right hand corner. Type terminal.\n",
    "\n",
    "Type python3\n",
    "\n",
    "Type print(\"hello world\")\n",
    "\n",
    "To create a program open idle. Location is in applications/Python 3.6/IDLE. or spotlight search\n",
    "IDLE.\n",
    "\n",
    "Goto File-->New File. This should open a new pane titled Untitled. \n",
    "\n",
    "type print(\"hello world\") in the untitled pane.\n",
    "\n",
    "Save the file as hello.py on your desktop.\n",
    "\n",
    "Open the terminal again and type python3 ~/desktop/hello.py"
   ]
  },
  {
   "cell_type": "markdown",
   "metadata": {},
   "source": [
    "### Installing Jupyter notebook\n",
    "\n",
    "### For Windows Users\n",
    "\n",
    "Go to command prompt, go to python folder. Type:\n",
    "\n",
    "python -m pip install --upgrade pip\n",
    "\n",
    "### After installing updates install:\n",
    "\n",
    "python -m pip install jupyter\n",
    "\n",
    "-m is the command to run a module. In this case pip\n",
    "\n",
    "### For MAC Users\n",
    "\n",
    "Go to terminal and type: python3 -m pip install --upgrade pip\n",
    "\n",
    "### After installing updates install:\n",
    "\n",
    "python3 -m pip install jupyter\n",
    "\n",
    "pip is a package management system used to install and manage software packages written in Python. ... Python 2.7.9 and later (on the python2 series), and Python 3.4 and later include pip (pip3 for Python 3) by default. pip is a recursive acronym that can stand for either \"Pip Installs Packages\" or \"Pip Installs Python\""
   ]
  },
  {
   "cell_type": "markdown",
   "metadata": {},
   "source": [
    "In the command prompt type python -h or on the terminal type python3 -h"
   ]
  },
  {
   "cell_type": "markdown",
   "metadata": {},
   "source": [
    "### After installing Jupyter type in the command prompt/terminal:\n",
    "\n",
    "jupyter notebook"
   ]
  },
  {
   "cell_type": "markdown",
   "metadata": {},
   "source": [
    "## 1.0.4 Datatypes and Variables "
   ]
  },
  {
   "cell_type": "markdown",
   "metadata": {},
   "source": [
    "![Image of Yaktocat](https://storage.googleapis.com/bwdb/acceleratehk_DSML/class_1/ds21.PNG)"
   ]
  },
  {
   "cell_type": "markdown",
   "metadata": {
    "collapsed": true
   },
   "source": [
    "## Variable"
   ]
  },
  {
   "cell_type": "markdown",
   "metadata": {},
   "source": [
    "A variable is something that holds a value that may change. In simplest terms, a variable is just a box that you can put stuff in.\n",
    "\n",
    "Variables reserved memory locations to store values. This means that when you create a variable you reserve some space in memory.\n",
    "\n",
    "Based on the data type of a variable, the interpreter allocates memory and decides what can be stored in the reserved memory. Therefore, by assigning different data types to variables, you can store integers, decimals or characters in these variables."
   ]
  },
  {
   "cell_type": "markdown",
   "metadata": {
    "collapsed": true
   },
   "source": [
    "## Python Data Types"
   ]
  },
  {
   "cell_type": "markdown",
   "metadata": {},
   "source": [
    "The data stored in memory can be of many types. For example, a person's age is stored as a numeric value and his or her address is stored as alphanumeric characters. Python has various standard data types that are used to define the operations possible on them and the storage method for each of them.\n",
    "\n",
    "### Python has 4 standard data types −\n",
    "\n",
    "#### 1) Integers\n",
    "\n",
    "##### Eg 1, 2, 100, 10000\n",
    "\n",
    "#### 2) Float\n",
    "\n",
    "##### Eg 1.0, 2.0, 100.0, 10000.0\n",
    "\n",
    "#### 3) String\n",
    "\n",
    "##### Eg 'HI', \"HELLO WORLD\"\n",
    "\n",
    "#### 4) Boolean\n",
    "\n",
    "##### TRUE / FALSE\n",
    "\n",
    "## Data Structures\n",
    "\n",
    "#### 1) List\n",
    "\n",
    "#### 2) Tuple\n",
    "\n",
    "#### 3) Dictionary"
   ]
  },
  {
   "cell_type": "markdown",
   "metadata": {},
   "source": [
    "### Python Numbers"
   ]
  },
  {
   "cell_type": "markdown",
   "metadata": {},
   "source": [
    "# Different Variable Type"
   ]
  },
  {
   "cell_type": "code",
   "execution_count": null,
   "metadata": {
    "collapsed": true
   },
   "outputs": [],
   "source": [
    "# Integer\n",
    "\n",
    "230"
   ]
  },
  {
   "cell_type": "code",
   "execution_count": null,
   "metadata": {
    "collapsed": true
   },
   "outputs": [],
   "source": [
    "# Float\n",
    "\n",
    "230.0"
   ]
  },
  {
   "cell_type": "code",
   "execution_count": null,
   "metadata": {
    "collapsed": true
   },
   "outputs": [],
   "source": [
    "# String\n",
    "\n",
    "'Hello'"
   ]
  },
  {
   "cell_type": "code",
   "execution_count": null,
   "metadata": {
    "collapsed": true
   },
   "outputs": [],
   "source": [
    "# Boolean\n",
    "\n",
    "True"
   ]
  },
  {
   "cell_type": "code",
   "execution_count": null,
   "metadata": {
    "collapsed": true
   },
   "outputs": [],
   "source": [
    "# List\n",
    "# A List offers a range of compound datatypes often referred to as sequences, comma-separated values (items) between square brackets. \n",
    "# Important thing: Every item in a list can be in different type.\n",
    "\n",
    "['Hello', 12, True]"
   ]
  },
  {
   "cell_type": "code",
   "execution_count": null,
   "metadata": {
    "collapsed": true
   },
   "outputs": [],
   "source": [
    "# Tuple\n",
    "# A tuple is similar to a list\n",
    "# But once data is set, it cannot change\n",
    "\n",
    "(1,2,3,4)"
   ]
  },
  {
   "cell_type": "code",
   "execution_count": null,
   "metadata": {
    "collapsed": true
   },
   "outputs": [],
   "source": [
    "# Dictionary\n",
    "# Dictionary is an unordered collection of items\n",
    "# Key: Value instead of just a value\n",
    "# Dictionaries are optimized to retrieve values when the key is known.\n",
    "\n",
    "{'a': 123}"
   ]
  },
  {
   "cell_type": "code",
   "execution_count": null,
   "metadata": {
    "collapsed": true,
    "scrolled": true
   },
   "outputs": [],
   "source": [
    "type(151.1)"
   ]
  },
  {
   "cell_type": "code",
   "execution_count": null,
   "metadata": {
    "collapsed": true
   },
   "outputs": [],
   "source": [
    "type(151)"
   ]
  },
  {
   "cell_type": "code",
   "execution_count": null,
   "metadata": {
    "collapsed": true
   },
   "outputs": [],
   "source": [
    "type(\"python\")"
   ]
  },
  {
   "cell_type": "code",
   "execution_count": null,
   "metadata": {
    "collapsed": true
   },
   "outputs": [],
   "source": [
    "type('hi')"
   ]
  },
  {
   "cell_type": "code",
   "execution_count": null,
   "metadata": {
    "collapsed": true,
    "scrolled": true
   },
   "outputs": [],
   "source": [
    "type(True)"
   ]
  },
  {
   "cell_type": "code",
   "execution_count": null,
   "metadata": {
    "collapsed": true
   },
   "outputs": [],
   "source": [
    "type(['Hello', [12, 12], [True, False], 4.0])"
   ]
  },
  {
   "cell_type": "code",
   "execution_count": null,
   "metadata": {
    "collapsed": true
   },
   "outputs": [],
   "source": [
    "type(('Hello', [12, 12], [True, False], 4.0))"
   ]
  },
  {
   "cell_type": "code",
   "execution_count": null,
   "metadata": {
    "collapsed": true
   },
   "outputs": [],
   "source": [
    "type({'a': 123})"
   ]
  },
  {
   "cell_type": "markdown",
   "metadata": {},
   "source": [
    "# Mathematical Operators\n"
   ]
  },
  {
   "cell_type": "code",
   "execution_count": 5,
   "metadata": {},
   "outputs": [
    {
     "data": {
      "text/plain": [
       "5"
      ]
     },
     "execution_count": 5,
     "metadata": {},
     "output_type": "execute_result"
    }
   ],
   "source": [
    "# Addition\n",
    "\n",
    "2 + 3"
   ]
  },
  {
   "cell_type": "code",
   "execution_count": 4,
   "metadata": {},
   "outputs": [
    {
     "name": "stdout",
     "output_type": "stream",
     "text": [
      "hello world\n"
     ]
    }
   ],
   "source": [
    "print(\"hello world\")"
   ]
  },
  {
   "cell_type": "code",
   "execution_count": null,
   "metadata": {
    "collapsed": true
   },
   "outputs": [],
   "source": []
  },
  {
   "cell_type": "code",
   "execution_count": null,
   "metadata": {
    "collapsed": true
   },
   "outputs": [],
   "source": [
    "# Subtraction\n",
    "\n",
    "10 - 2"
   ]
  },
  {
   "cell_type": "code",
   "execution_count": null,
   "metadata": {
    "collapsed": true
   },
   "outputs": [],
   "source": [
    "# Multiplication\n",
    "\n",
    "10 * 10"
   ]
  },
  {
   "cell_type": "code",
   "execution_count": null,
   "metadata": {
    "collapsed": true
   },
   "outputs": [],
   "source": [
    "# Floating Point Division\n",
    "\n",
    "4 / 2"
   ]
  },
  {
   "cell_type": "code",
   "execution_count": null,
   "metadata": {
    "collapsed": true
   },
   "outputs": [],
   "source": [
    "# Floor Division\n",
    "\n",
    "4 // 2"
   ]
  },
  {
   "cell_type": "code",
   "execution_count": null,
   "metadata": {
    "collapsed": true
   },
   "outputs": [],
   "source": [
    "# Negation\n",
    "\n",
    "-1 - -10"
   ]
  },
  {
   "cell_type": "code",
   "execution_count": null,
   "metadata": {
    "collapsed": true
   },
   "outputs": [],
   "source": [
    "# Exponent\n",
    "\n",
    "2 ** 3"
   ]
  },
  {
   "cell_type": "markdown",
   "metadata": {},
   "source": [
    "# Python built in Functions"
   ]
  },
  {
   "cell_type": "code",
   "execution_count": null,
   "metadata": {
    "collapsed": true
   },
   "outputs": [],
   "source": [
    "round(8.51)"
   ]
  },
  {
   "cell_type": "code",
   "execution_count": null,
   "metadata": {
    "collapsed": true
   },
   "outputs": [],
   "source": [
    "round(8.50)"
   ]
  },
  {
   "cell_type": "code",
   "execution_count": null,
   "metadata": {
    "collapsed": true
   },
   "outputs": [],
   "source": [
    "hex(255)"
   ]
  },
  {
   "cell_type": "code",
   "execution_count": null,
   "metadata": {
    "collapsed": true
   },
   "outputs": [],
   "source": [
    "int(230.0)"
   ]
  },
  {
   "cell_type": "code",
   "execution_count": null,
   "metadata": {
    "collapsed": true
   },
   "outputs": [],
   "source": [
    "float(4.567)"
   ]
  },
  {
   "cell_type": "code",
   "execution_count": null,
   "metadata": {
    "collapsed": true
   },
   "outputs": [],
   "source": [
    "str(12)"
   ]
  },
  {
   "cell_type": "code",
   "execution_count": null,
   "metadata": {
    "collapsed": true
   },
   "outputs": [],
   "source": [
    "help('for')"
   ]
  },
  {
   "cell_type": "markdown",
   "metadata": {},
   "source": [
    "# Python's built in library module functions"
   ]
  },
  {
   "cell_type": "code",
   "execution_count": null,
   "metadata": {
    "collapsed": true
   },
   "outputs": [],
   "source": [
    "import math\n",
    "import random"
   ]
  },
  {
   "cell_type": "code",
   "execution_count": null,
   "metadata": {
    "collapsed": true
   },
   "outputs": [],
   "source": [
    "math.pi  # returns the value of pi"
   ]
  },
  {
   "cell_type": "code",
   "execution_count": null,
   "metadata": {
    "collapsed": true
   },
   "outputs": [],
   "source": [
    "math.sqrt(16) # returns the squareroot of 16"
   ]
  },
  {
   "cell_type": "code",
   "execution_count": null,
   "metadata": {
    "collapsed": true
   },
   "outputs": [],
   "source": [
    "random.uniform(1,5)# generates a random floating point number"
   ]
  },
  {
   "cell_type": "code",
   "execution_count": null,
   "metadata": {
    "collapsed": true
   },
   "outputs": [],
   "source": [
    "random.randint(1,5) # generates a random integer"
   ]
  },
  {
   "cell_type": "code",
   "execution_count": null,
   "metadata": {
    "collapsed": true
   },
   "outputs": [],
   "source": [
    "math.ceil(9.1)"
   ]
  },
  {
   "cell_type": "code",
   "execution_count": null,
   "metadata": {
    "collapsed": true
   },
   "outputs": [],
   "source": [
    "math.floor(9.9)"
   ]
  },
  {
   "cell_type": "code",
   "execution_count": null,
   "metadata": {
    "collapsed": true
   },
   "outputs": [],
   "source": [
    "# The input funtion allows you to have an interactive relationship with the notebook\n",
    "# input by default will be in string form\n",
    "# \\n allows us to go to the next line\n",
    "\n",
    "input('Enter your age \\n') "
   ]
  },
  {
   "cell_type": "code",
   "execution_count": null,
   "metadata": {
    "collapsed": true
   },
   "outputs": [],
   "source": [
    "#  It is set to be an integer\n",
    "\n",
    "int(input('Enter your age \\n'))    "
   ]
  },
  {
   "cell_type": "markdown",
   "metadata": {},
   "source": [
    "# Print\n",
    "\n",
    "A function to display the output of a program to the user.\n",
    "\n",
    "After displaying it, nothing will be stored"
   ]
  },
  {
   "cell_type": "code",
   "execution_count": null,
   "metadata": {
    "collapsed": true
   },
   "outputs": [],
   "source": [
    "print(2 + 3)"
   ]
  },
  {
   "cell_type": "code",
   "execution_count": null,
   "metadata": {
    "collapsed": true
   },
   "outputs": [],
   "source": [
    "# We can only see the last one -> 3\n",
    "\n",
    "1\n",
    "2\n",
    "3"
   ]
  },
  {
   "cell_type": "code",
   "execution_count": null,
   "metadata": {
    "collapsed": true
   },
   "outputs": [],
   "source": [
    "# We can see all three of the numbers\n",
    "\n",
    "print(1)\n",
    "print(2)\n",
    "print(3)"
   ]
  },
  {
   "cell_type": "code",
   "execution_count": null,
   "metadata": {
    "collapsed": true,
    "scrolled": true
   },
   "outputs": [],
   "source": [
    "print('My Name: ' + input(\"What is your name\\n\"))"
   ]
  },
  {
   "cell_type": "code",
   "execution_count": null,
   "metadata": {
    "collapsed": true,
    "scrolled": true
   },
   "outputs": [],
   "source": [
    "print('Remember', input('what is your favorite color\\n'), 'is my favorite color')"
   ]
  },
  {
   "cell_type": "markdown",
   "metadata": {},
   "source": [
    "# --------------------------------------------------------------------------------------------"
   ]
  },
  {
   "cell_type": "markdown",
   "metadata": {},
   "source": [
    "# Assignment of Variables\n",
    "\n",
    "#### - It can be everything, but should has its meaning\n",
    "\n",
    "\n",
    "#### - No Spaces, Digits or Special Characters\n",
    "\n",
    "\n",
    "#### - Camel Case is preferrable\n",
    "\n",
    "\n",
    "#### - Can use Underscore to replace Space\n",
    "\n",
    "## 1. Augmented Assignment\n",
    "\n",
    "##### a *= 2\n",
    "\n",
    "## 2. Chained Assignment\n",
    "\n",
    "##### a = b = c = 1\n",
    "\n",
    "## 3. Parallel Assignment\n",
    "\n",
    "##### name,  age =  'Martin', 24"
   ]
  },
  {
   "cell_type": "code",
   "execution_count": null,
   "metadata": {
    "collapsed": true,
    "scrolled": false
   },
   "outputs": [],
   "source": [
    "currentAge = int(input('How old are you?\\n'))"
   ]
  },
  {
   "cell_type": "markdown",
   "metadata": {},
   "source": [
    "### Augmented Assignment"
   ]
  },
  {
   "cell_type": "code",
   "execution_count": null,
   "metadata": {
    "collapsed": true
   },
   "outputs": [],
   "source": [
    "ageAfterTwoYear = currentAge + 2      # Augmented Assignment"
   ]
  },
  {
   "cell_type": "code",
   "execution_count": null,
   "metadata": {
    "collapsed": true
   },
   "outputs": [],
   "source": [
    "ageAfterTwoYear"
   ]
  },
  {
   "cell_type": "markdown",
   "metadata": {},
   "source": [
    "### Chained Assignment\n",
    "\n",
    "Assign a single value to several variables simultaneously"
   ]
  },
  {
   "cell_type": "code",
   "execution_count": null,
   "metadata": {
    "collapsed": true
   },
   "outputs": [],
   "source": [
    "myLastName = my_son_last_name = str(input('What is your last name?\\n'))      # Chained Assignment"
   ]
  },
  {
   "cell_type": "code",
   "execution_count": null,
   "metadata": {
    "collapsed": true
   },
   "outputs": [],
   "source": [
    "print('My last name', myLastName)\n",
    "print('My son last name ' + my_son_last_name)"
   ]
  },
  {
   "cell_type": "markdown",
   "metadata": {},
   "source": [
    "### Parallel Assignment\n",
    "\n",
    "Assign multiple objects to multiple variables."
   ]
  },
  {
   "cell_type": "code",
   "execution_count": null,
   "metadata": {
    "collapsed": true
   },
   "outputs": [],
   "source": [
    "# Chained Assignment -> an int & a float\n",
    "\n",
    "maximum, distance = 100, 1000.0        "
   ]
  },
  {
   "cell_type": "code",
   "execution_count": null,
   "metadata": {
    "collapsed": true
   },
   "outputs": [],
   "source": [
    "# Here, 100 and 1000.0 are the values assigned to maximum and distance. \n",
    "# respectively. This produces the result shown below  \n",
    "\n",
    "print(maximum)     \n",
    "print(distance)      "
   ]
  },
  {
   "cell_type": "code",
   "execution_count": null,
   "metadata": {
    "collapsed": true
   },
   "outputs": [],
   "source": [
    "import re\n",
    "a = 'sdfg1234'\n",
    "b = re.sub('\\D','', a)\n",
    "b"
   ]
  },
  {
   "cell_type": "markdown",
   "metadata": {},
   "source": [
    "# -------------------------------------------------------------------------------------------- \n",
    "\n",
    "# Mathematical Operators"
   ]
  },
  {
   "cell_type": "markdown",
   "metadata": {},
   "source": [
    "### Arithmetic"
   ]
  },
  {
   "cell_type": "code",
   "execution_count": null,
   "metadata": {
    "collapsed": true
   },
   "outputs": [],
   "source": [
    "10 + 10"
   ]
  },
  {
   "cell_type": "code",
   "execution_count": null,
   "metadata": {
    "collapsed": true
   },
   "outputs": [],
   "source": [
    "x = 1\n",
    "print('1st:',x)\n",
    "\n",
    "x = x + 3\n",
    "print('2nd:', x)\n",
    "\n",
    "x += 5\n",
    "print('3rd:', x)"
   ]
  },
  {
   "cell_type": "code",
   "execution_count": null,
   "metadata": {
    "collapsed": true
   },
   "outputs": [],
   "source": [
    "10 - 8"
   ]
  },
  {
   "cell_type": "code",
   "execution_count": null,
   "metadata": {
    "collapsed": true
   },
   "outputs": [],
   "source": [
    "x = 1\n",
    "print('1st:',x)\n",
    "\n",
    "x = x - 3\n",
    "print('2nd:', x)\n",
    "\n",
    "x -= 5\n",
    "print('3rd:', x)"
   ]
  },
  {
   "cell_type": "markdown",
   "metadata": {},
   "source": [
    "### Multiplication\n",
    "\n",
    "To multiply numbers or variables in Python, you can simply use this symbol: *"
   ]
  },
  {
   "cell_type": "code",
   "execution_count": null,
   "metadata": {
    "collapsed": true
   },
   "outputs": [],
   "source": [
    "x = 5\n",
    "print('1st:',x)\n",
    "\n",
    "x = x * 3\n",
    "print('2nd:', x)\n",
    "\n",
    "x *= 5\n",
    "print('3rd:', x)"
   ]
  },
  {
   "cell_type": "markdown",
   "metadata": {},
   "source": [
    "### Division\n",
    "\n",
    "For division, Python uses /"
   ]
  },
  {
   "cell_type": "code",
   "execution_count": null,
   "metadata": {
    "collapsed": true,
    "scrolled": true
   },
   "outputs": [],
   "source": [
    "x = 100\n",
    "print('1st:',x)\n",
    "\n",
    "x = x / 2\n",
    "print('2nd:', x)\n",
    "\n",
    "x /= 4\n",
    "print('3rd:', x)\n",
    "\n",
    "\n",
    "print('4th:', x // 2)"
   ]
  },
  {
   "cell_type": "code",
   "execution_count": null,
   "metadata": {
    "collapsed": true
   },
   "outputs": [],
   "source": [
    "x = 10\n",
    "print('1st:', x)\n",
    "\n",
    "a = x / 5\n",
    "print('2nd:', a)\n",
    "\n",
    "b = x // 5\n",
    "print('3rd:', b)"
   ]
  },
  {
   "cell_type": "code",
   "execution_count": null,
   "metadata": {
    "collapsed": true
   },
   "outputs": [],
   "source": [
    "# Note that Python will only give back floats unless otherwise specified.\n",
    "\n",
    "withoutInt = 10 / 5\n",
    "print(\"Without using 'int':\", withoutInt)\n",
    "\n",
    "withInt = int(10 / 5)\n",
    "print(\"Wiht 'int':\", withInt)"
   ]
  },
  {
   "cell_type": "code",
   "execution_count": null,
   "metadata": {
    "collapsed": true,
    "scrolled": true
   },
   "outputs": [],
   "source": [
    "# By default python will give you 64 bit results if you want to lower the bits you can use numpy.\n",
    "\n",
    "withoutInt = 10 / 3\n",
    "print(\"Without using 'int':\", withoutInt)\n",
    "\n",
    "withInt = int(10 / 3)\n",
    "print(\"Wiht 'int':\", withInt)"
   ]
  },
  {
   "cell_type": "code",
   "execution_count": null,
   "metadata": {
    "collapsed": true
   },
   "outputs": [],
   "source": [
    "x = 100\n",
    "print('1st:',x)\n",
    "\n",
    "x = x / 2\n",
    "print('2nd:', x)\n",
    "\n",
    "x /= 4\n",
    "print('3rd:', x)\n",
    "\n",
    "x //=2\n",
    "print('4th:', x)\n",
    "\n",
    "print('5th:', int(x))"
   ]
  },
  {
   "cell_type": "markdown",
   "metadata": {},
   "source": [
    "### Exponents\n"
   ]
  },
  {
   "cell_type": "markdown",
   "metadata": {},
   "source": [
    "Raising numbers to a power is easy in Python. Simply use the double asterix: **"
   ]
  },
  {
   "cell_type": "code",
   "execution_count": null,
   "metadata": {
    "collapsed": true
   },
   "outputs": [],
   "source": [
    "# 5^10(5x5x5x5x5x5x5x5x5x5)\n",
    "\n",
    "5**10   "
   ]
  },
  {
   "cell_type": "code",
   "execution_count": null,
   "metadata": {
    "collapsed": true
   },
   "outputs": [],
   "source": [
    "x = 2\n",
    "y = 8\n",
    "print(x**y)\n",
    "print(y**x)"
   ]
  },
  {
   "cell_type": "markdown",
   "metadata": {},
   "source": [
    "### Modulus %\n",
    "\n",
    "prints the remaider of the division"
   ]
  },
  {
   "cell_type": "code",
   "execution_count": null,
   "metadata": {
    "collapsed": true
   },
   "outputs": [],
   "source": [
    "print(5 % 2)\n",
    "\n",
    "print(4 % 2.0)\n",
    "\n",
    "print(4.0 % 2)"
   ]
  },
  {
   "cell_type": "code",
   "execution_count": null,
   "metadata": {
    "collapsed": true,
    "scrolled": true
   },
   "outputs": [],
   "source": [
    "withoutInt = 5%2\n",
    "print(\"Without using 'int':\", withoutInt)\n",
    "\n",
    "withInt = int(5%2)\n",
    "print(\"Wiht 'int':\", withInt)"
   ]
  },
  {
   "cell_type": "code",
   "execution_count": null,
   "metadata": {
    "collapsed": true
   },
   "outputs": [],
   "source": [
    "withoutInt = 5.0%2\n",
    "print(\"Without using 'int':\", withoutInt)\n",
    "\n",
    "withInt = int(5.0%2)\n",
    "print(\"Wiht 'int':\", withInt)"
   ]
  },
  {
   "cell_type": "code",
   "execution_count": null,
   "metadata": {
    "collapsed": true
   },
   "outputs": [],
   "source": [
    "withoutInt = 5.0%2.5\n",
    "print(\"Without using 'int':\", withoutInt)\n",
    "\n",
    "withInt = int(5.0%2.5)\n",
    "print(\"Wiht 'int':\", withInt)"
   ]
  },
  {
   "cell_type": "markdown",
   "metadata": {},
   "source": [
    "# --------------------------------------------------------------------------------------------\n",
    "\n",
    "# Python Strings\n",
    "\n",
    "Strings are immutable sequence of characters (text). They are inserted either in \"\" or ''. A double quote (\"\") can contain single quote(''),e.g.,\"'dog','cat'\" in a string\n",
    "\n",
    "Backslash '\\\\' character is used to escape characters that otherwise have a special meaning"
   ]
  },
  {
   "cell_type": "code",
   "execution_count": null,
   "metadata": {
    "collapsed": true,
    "scrolled": true
   },
   "outputs": [],
   "source": [
    "x = 'You are handsome'\n",
    "y = \"You are 'smart'\"\n",
    "print(x)\n",
    "print(y)"
   ]
  },
  {
   "cell_type": "code",
   "execution_count": null,
   "metadata": {
    "collapsed": true
   },
   "outputs": [],
   "source": [
    "# \\t is tab\n",
    "\n",
    "selfIntro = 'Hi I am \\tPaul'\n",
    "\n",
    "print(selfIntro) "
   ]
  },
  {
   "cell_type": "code",
   "execution_count": null,
   "metadata": {
    "collapsed": true
   },
   "outputs": [],
   "source": [
    "# \\n is a line breaker\n",
    "\n",
    "selfDescription = \"HI\\nI am handsome\"\n",
    "\n",
    "print(selfDescription) "
   ]
  },
  {
   "cell_type": "code",
   "execution_count": null,
   "metadata": {
    "collapsed": true,
    "scrolled": true
   },
   "outputs": [],
   "source": [
    "#n gives you a new line\n",
    "\n",
    "tictactoe = (\"X\\tO\\tX\\nX\\tX\\tX\\nX\\tO\\tX\") \n",
    "\n",
    "print(tictactoe)"
   ]
  },
  {
   "cell_type": "code",
   "execution_count": null,
   "metadata": {},
   "outputs": [],
   "source": [
    "# It is easy to concatenate (or combine) strings with each other\n",
    "# But you need to be aware of the data type\n",
    "# You will see an error on this\n",
    "\n",
    "firstWord = \"Hello\"\n",
    "secondWord = \"World\"\n",
    "num = 123\n",
    "helloworld = firstWord + \" \" + secondWord + \" \" + num\n",
    "print(helloworld)"
   ]
  },
  {
   "cell_type": "code",
   "execution_count": null,
   "metadata": {},
   "outputs": [],
   "source": [
    "# You have to change the data type of 'x' to str\n",
    "\n",
    "firstWord = \"Hello\"\n",
    "secondWord = \"World\"\n",
    "num = 123\n",
    "helloworld = firstWord + \" \" + secondWord + \" \" + str(num)\n",
    "print(helloworld)"
   ]
  },
  {
   "cell_type": "markdown",
   "metadata": {},
   "source": [
    "## The length is counted by how many items in a value\n",
    "\n",
    "Like the total number of letters and numbers in a string"
   ]
  },
  {
   "cell_type": "code",
   "execution_count": null,
   "metadata": {},
   "outputs": [],
   "source": [
    "# You can calculate the lenght of a string by calling \n",
    "\n",
    "len(secondWord)"
   ]
  },
  {
   "cell_type": "markdown",
   "metadata": {},
   "source": [
    "## Index of element in a string starts from 0\n",
    "\n",
    "<img style=\"max-width: 80%;\" src='https://i.stack.imgur.com/vIKaD.png'>\n",
    "\n",
    "\n",
    "\n",
    "'abcd' -> 'a' is in index 0, 'd' is in index 3"
   ]
  },
  {
   "cell_type": "code",
   "execution_count": null,
   "metadata": {},
   "outputs": [],
   "source": [
    "# you can use the find function to locate the index number\n",
    "# You can get the element in specific index by using\n",
    "\n",
    "secondWord[0]"
   ]
  },
  {
   "cell_type": "code",
   "execution_count": null,
   "metadata": {},
   "outputs": [],
   "source": [
    "secondWord[4]"
   ]
  },
  {
   "cell_type": "code",
   "execution_count": null,
   "metadata": {},
   "outputs": [],
   "source": [
    "# You will get an error because the index is out of range\n",
    "\n",
    "secondWord[10]"
   ]
  },
  {
   "cell_type": "code",
   "execution_count": null,
   "metadata": {
    "collapsed": true
   },
   "outputs": [],
   "source": [
    "# You can use the 'find' method to locate the index\n",
    "\n",
    "x = 'Hi today is the first python class. I hope you guys will enjoy!'"
   ]
  },
  {
   "cell_type": "code",
   "execution_count": null,
   "metadata": {},
   "outputs": [],
   "source": [
    "x.find('f')"
   ]
  },
  {
   "cell_type": "code",
   "execution_count": null,
   "metadata": {},
   "outputs": [],
   "source": [
    "# finding 'd' after index 4\n",
    "\n",
    "x.find(\"d\",4)"
   ]
  },
  {
   "cell_type": "code",
   "execution_count": null,
   "metadata": {},
   "outputs": [],
   "source": [
    "# find 'Hi' from the right side of the string\n",
    "# You can find more that a letter\n",
    "\n",
    "x.rfind('Hi')"
   ]
  },
  {
   "cell_type": "code",
   "execution_count": null,
   "metadata": {},
   "outputs": [],
   "source": [
    "# -1 will be return if nothing is found\n",
    "# Also upper case & lower case are two different letter for computer to read\n",
    "\n",
    "x.rfind('Z')"
   ]
  },
  {
   "cell_type": "code",
   "execution_count": null,
   "metadata": {
    "collapsed": true
   },
   "outputs": [],
   "source": [
    "# Use 'count' can help you count the number of a specific letter or number in a string\n",
    "\n",
    "x.count('c')"
   ]
  },
  {
   "cell_type": "code",
   "execution_count": null,
   "metadata": {
    "collapsed": true
   },
   "outputs": [],
   "source": [
    "# Use 'lower()' & 'upper()' can change the form of the letter\n",
    "\n",
    "x.upper()\n",
    "x.lower()"
   ]
  },
  {
   "cell_type": "markdown",
   "metadata": {},
   "source": [
    "## You can use replace to change the content of a string"
   ]
  },
  {
   "cell_type": "code",
   "execution_count": null,
   "metadata": {
    "collapsed": true
   },
   "outputs": [],
   "source": [
    "replaceExample =  \"Quick Quick brown fox and c\""
   ]
  },
  {
   "cell_type": "code",
   "execution_count": null,
   "metadata": {},
   "outputs": [],
   "source": [
    "# In the following,'Quick' is replaced with 'Lazy'\n",
    "# 3rd argument can be used to indicate how many 'Quick' you want to replace\n",
    "# If you use 1, only the first Quick will be replaced. \n",
    "# If you use 2, the second quick will also be replaced. \n",
    "\n",
    "replaceExample.replace('Quick','Lazy',2)"
   ]
  },
  {
   "cell_type": "code",
   "execution_count": null,
   "metadata": {},
   "outputs": [],
   "source": [
    "# What will I get from this?\n",
    "\n",
    "replaceExample"
   ]
  },
  {
   "cell_type": "code",
   "execution_count": null,
   "metadata": {
    "collapsed": true
   },
   "outputs": [],
   "source": [
    "# How to concatenate replaceExample and variable y\n",
    "\n",
    "replaceExample\n",
    "\n",
    "y=5"
   ]
  },
  {
   "cell_type": "markdown",
   "metadata": {},
   "source": [
    "## We can also use split() to split a string and put remaining items into a list"
   ]
  },
  {
   "cell_type": "code",
   "execution_count": null,
   "metadata": {},
   "outputs": [],
   "source": [
    "# It splits the string by the data passed in the parentheses, ()\n",
    "# Then puts the items left in the string into a list\n",
    "\n",
    "splitExample = 'abcdefg'\n",
    "\n",
    "splitExample.split(\"d\") "
   ]
  },
  {
   "cell_type": "markdown",
   "metadata": {},
   "source": [
    "### Value of firstWord remains unchanged!!!\n",
    "\n",
    "we only used the split function to get a new value but did not assign it or reassign the new value to a variable"
   ]
  },
  {
   "cell_type": "code",
   "execution_count": null,
   "metadata": {},
   "outputs": [],
   "source": [
    "# Since we haven't assigned hello.split to anything hello remains \"Hello\"\n",
    "\n",
    "splitExample"
   ]
  },
  {
   "cell_type": "code",
   "execution_count": null,
   "metadata": {
    "collapsed": true
   },
   "outputs": [],
   "source": [
    "# Now we assign the new value to a new varaivle\n",
    "\n",
    "newSplitExample = splitExample.split(\"d\")"
   ]
  },
  {
   "cell_type": "code",
   "execution_count": null,
   "metadata": {},
   "outputs": [],
   "source": [
    "# Value of firstWord changed\n",
    "\n",
    "newSplitExample"
   ]
  },
  {
   "cell_type": "code",
   "execution_count": null,
   "metadata": {
    "collapsed": true
   },
   "outputs": [],
   "source": [
    "# We can also reassign the new value to an already defined variable\n",
    "\n",
    "splitExample = splitExample.split(\"d\")"
   ]
  },
  {
   "cell_type": "code",
   "execution_count": null,
   "metadata": {},
   "outputs": [],
   "source": [
    "splitExample"
   ]
  },
  {
   "cell_type": "code",
   "execution_count": null,
   "metadata": {},
   "outputs": [],
   "source": [
    "# If no specific character is passed in the parentheses, python will split the string with ' ' by default\n",
    "\n",
    "anotherSplitExample = \"Quick brown fox\"\n",
    "\n",
    "anotherSplitExample.split()"
   ]
  },
  {
   "cell_type": "code",
   "execution_count": null,
   "metadata": {},
   "outputs": [],
   "source": [
    "#  You can calculate the lenght of a list using len()\n",
    "#  Since there are two strings in the list, it will return 2\n",
    "\n",
    "len(splitExample)"
   ]
  },
  {
   "cell_type": "markdown",
   "metadata": {},
   "source": [
    "## The join() can be used to join the elements in a list & convert it into a string"
   ]
  },
  {
   "cell_type": "code",
   "execution_count": null,
   "metadata": {},
   "outputs": [],
   "source": [
    "# Words are joined together with a ' '.\n",
    "\n",
    "\" \".join([\"quick\",\"brown\",\"fox\"])"
   ]
  },
  {
   "cell_type": "code",
   "execution_count": null,
   "metadata": {},
   "outputs": [],
   "source": [
    "# This time we use '3' to join the words\n",
    "\n",
    "'3'.join([\"quick\",\"brown\",\"fox\"])"
   ]
  },
  {
   "cell_type": "code",
   "execution_count": null,
   "metadata": {},
   "outputs": [],
   "source": [
    "joinExample = \"Quick brown fox\"\n",
    "x.split() # if we do not specify a specific character in the string it uses the space as default to split and create a list "
   ]
  },
  {
   "cell_type": "markdown",
   "metadata": {},
   "source": [
    "## Using strip() to remove unnecessary space in a string from both sides"
   ]
  },
  {
   "cell_type": "code",
   "execution_count": null,
   "metadata": {
    "collapsed": true
   },
   "outputs": [],
   "source": [
    "stripExample = \"  Quick brown  fox!  \""
   ]
  },
  {
   "cell_type": "code",
   "execution_count": null,
   "metadata": {},
   "outputs": [],
   "source": [
    "# Strips the white spaces from both ends\n",
    "\n",
    "stripExample.strip() "
   ]
  },
  {
   "cell_type": "code",
   "execution_count": null,
   "metadata": {},
   "outputs": [],
   "source": [
    "# Strips white space from right\n",
    "\n",
    "stripExample.rstrip() "
   ]
  },
  {
   "cell_type": "code",
   "execution_count": null,
   "metadata": {},
   "outputs": [],
   "source": [
    "# Strips white space from left\n",
    "\n",
    "stripExample.lstrip() "
   ]
  },
  {
   "cell_type": "markdown",
   "metadata": {},
   "source": [
    "# --------------------------------------------------------------------------------------------\n",
    "\n",
    "# Booleans\n",
    "\n",
    "By default True has a value of 1 & False has a value of 0"
   ]
  },
  {
   "cell_type": "code",
   "execution_count": null,
   "metadata": {},
   "outputs": [],
   "source": [
    "x = True\n",
    "print(x)"
   ]
  },
  {
   "cell_type": "code",
   "execution_count": null,
   "metadata": {},
   "outputs": [],
   "source": [
    "2 + x   # The True boolean has a value of 1"
   ]
  },
  {
   "cell_type": "code",
   "execution_count": null,
   "metadata": {},
   "outputs": [],
   "source": [
    "y = False\n",
    "print(y)\n"
   ]
  },
  {
   "cell_type": "code",
   "execution_count": null,
   "metadata": {},
   "outputs": [],
   "source": [
    "2 + y  # The False boolean has a value of 0"
   ]
  },
  {
   "cell_type": "code",
   "execution_count": null,
   "metadata": {},
   "outputs": [],
   "source": [
    "print(1 == True)\n",
    "print(0 == False)"
   ]
  },
  {
   "cell_type": "markdown",
   "metadata": {},
   "source": [
    "## Comparison Operator\n",
    "\n",
    "### 1. < less than\n",
    "\n",
    "### 2. <= less than or equal to\n",
    "\n",
    "### 3. == equal to\n",
    "\n",
    "### 4. >= greater than or equal to\n",
    "\n",
    "### 5. > greater than\n",
    "\n",
    "### 6. != not equal to"
   ]
  },
  {
   "cell_type": "code",
   "execution_count": null,
   "metadata": {
    "collapsed": true
   },
   "outputs": [],
   "source": [
    "x == 1"
   ]
  },
  {
   "cell_type": "code",
   "execution_count": null,
   "metadata": {
    "collapsed": true
   },
   "outputs": [],
   "source": [
    "y > 0"
   ]
  },
  {
   "cell_type": "code",
   "execution_count": null,
   "metadata": {
    "collapsed": true
   },
   "outputs": [],
   "source": [
    "x != y"
   ]
  },
  {
   "cell_type": "markdown",
   "metadata": {},
   "source": [
    "# --------------------------------------------------------------------------------------------\n",
    "\n",
    "\n",
    "# Lists"
   ]
  },
  {
   "cell_type": "code",
   "execution_count": null,
   "metadata": {
    "collapsed": true
   },
   "outputs": [],
   "source": [
    "# A list contains items separated by commas and enclosed within square brackets ([])\n",
    "# List is modifiable(mutable)\n",
    "# They can have elements of different types"
   ]
  },
  {
   "cell_type": "code",
   "execution_count": null,
   "metadata": {},
   "outputs": [],
   "source": [
    "# We added 6 numbers to the list\n",
    "\n",
    "list_a = [1,2,3,4,5,6]\n",
    "list_a"
   ]
  },
  {
   "cell_type": "code",
   "execution_count": null,
   "metadata": {},
   "outputs": [],
   "source": [
    " # We added three rivers to the list\n",
    "\n",
    "rivers = ['Missouri', 'Fox','Thames']\n",
    "rivers"
   ]
  },
  {
   "cell_type": "code",
   "execution_count": null,
   "metadata": {},
   "outputs": [],
   "source": [
    "# As mentioned, we can add different data into the list\n",
    "\n",
    "list_b = ['apple',  3, [4.0,5.0]]\n",
    "list_b"
   ]
  },
  {
   "cell_type": "markdown",
   "metadata": {},
   "source": [
    "## Slicing Through Lists\n",
    "\n",
    "We can slice a list to get a sublist\n",
    "\n",
    "Index starts from 0 as well for list\n",
    "##### - First element -> list[ 0 ]\n",
    "##### - Last element -> list[ len( list ) - 1 ] / list[ -1 ]"
   ]
  },
  {
   "cell_type": "code",
   "execution_count": null,
   "metadata": {
    "collapsed": true
   },
   "outputs": [],
   "source": [
    "list_a"
   ]
  },
  {
   "cell_type": "code",
   "execution_count": null,
   "metadata": {
    "collapsed": true
   },
   "outputs": [],
   "source": [
    "# Starts from the second index inclusive and Ends at the 5th index exclusive\n",
    "\n",
    "list_a[2:5]"
   ]
  },
  {
   "cell_type": "code",
   "execution_count": null,
   "metadata": {
    "collapsed": true
   },
   "outputs": [],
   "source": [
    "# By default the slice will start from the first index, ends at the last one inclusively\n",
    "# In this case, it starts from index 0 to second last index\n",
    "\n",
    "list_a[:-2]"
   ]
  },
  {
   "cell_type": "code",
   "execution_count": null,
   "metadata": {
    "collapsed": true
   },
   "outputs": [],
   "source": [
    "# In this case, it starts from second last index to the end\n",
    "\n",
    "list_a[-2:]"
   ]
  },
  {
   "cell_type": "code",
   "execution_count": null,
   "metadata": {
    "collapsed": true
   },
   "outputs": [],
   "source": [
    "rivers[:-1]"
   ]
  },
  {
   "cell_type": "code",
   "execution_count": null,
   "metadata": {
    "collapsed": true
   },
   "outputs": [],
   "source": [
    "# Index will plus two each time\n",
    "\n",
    "list_a[0:-1:2]"
   ]
  },
  {
   "cell_type": "code",
   "execution_count": null,
   "metadata": {
    "collapsed": true
   },
   "outputs": [],
   "source": [
    "# Here we have three numbers and a list in a list\n",
    "\n",
    "list_c=[1,2,3,[3,5]]"
   ]
  },
  {
   "cell_type": "code",
   "execution_count": null,
   "metadata": {
    "collapsed": true
   },
   "outputs": [],
   "source": [
    "print(len(list_c))\n",
    "print(len(list_c[3]))"
   ]
  },
  {
   "cell_type": "markdown",
   "metadata": {},
   "source": [
    "### Same idea applied to string as well"
   ]
  },
  {
   "cell_type": "code",
   "execution_count": null,
   "metadata": {},
   "outputs": [],
   "source": [
    "str = 'Hello World!'\n",
    "\n",
    "print (str)          # Prints complete string\n",
    "print (str[0])       # Prints first character of the string\n",
    "print (str[2:5])     # Prints characters starting from 3rd to 5th\n",
    "print (str[2:])      # Prints string starting from 3rd character\n",
    "print (str * 2)      # Prints string two times\n",
    "print (str + \"TEST\") # Prints concatenated string"
   ]
  },
  {
   "cell_type": "code",
   "execution_count": null,
   "metadata": {},
   "outputs": [],
   "source": [
    "list = [ 'abcd', 786 , 2.23, 'john', 70.2 ]\n",
    "tinylist = [123, 'john']\n",
    "\n",
    "print (list)         # Prints complete list\n",
    "print (list[0])      # Prints first element of the list\n",
    "print (list[1:3])     # Prints elements starting from 2nd till 3rd \n",
    "print (list[2:])      # Prints elements starting from 3rd element\n",
    "print (tinylist * 2)  # Prints list two times\n",
    "print (list + tinylist) # Prints concatenated lists"
   ]
  },
  {
   "cell_type": "code",
   "execution_count": null,
   "metadata": {},
   "outputs": [],
   "source": [
    "# Lists have an index that can be used to get items from it. Note you can also slice things out of a list by using the index\n",
    "# as follows.\n",
    "\n",
    "x=[3,4,5,6]\n",
    " \n",
    "x[0:2] # Note that the first element is not at index 1, but at index 0. In Python, indexes go from 0 -->(n-1)\n",
    "       # When creating a slice, as in [1:4], the first index number is where the slice starts (inclusive), and \n",
    "       # the second index number is where the slice ends (exclusive), which is why in our example above the item \n",
    "       # at position 1 prints out 4. We start locating index 1, which is 4, and this is inclusive. Then we start locating  \n",
    "       # index location 2 which is 3, but remember! its exclusive. So between these two numbers, we can only consider 4 \n",
    "       # Let's try with bigger list to understand. It's tricky and not as simple as you may think."
   ]
  },
  {
   "cell_type": "code",
   "execution_count": null,
   "metadata": {
    "collapsed": true
   },
   "outputs": [],
   "source": [
    "x=[3,2,6,-1,7,9,3]"
   ]
  },
  {
   "cell_type": "code",
   "execution_count": null,
   "metadata": {},
   "outputs": [],
   "source": [
    "x[1:4] # We start counting from index location 1. The output is 4(its inclusive). Anything behind index location 1 becomes,\n",
    "       # irrelevent. Then we start counting again, from the beggining till index location 4: 3,4,3,5,7. So its end at 7, remember\n",
    "       # its exclusive. So what is the range we can consider.(4,3,5)."
   ]
  },
  {
   "cell_type": "markdown",
   "metadata": {},
   "source": [
    "## We can change the value of the elements in a list"
   ]
  },
  {
   "cell_type": "code",
   "execution_count": null,
   "metadata": {},
   "outputs": [],
   "source": [
    "#Items in a list can also be changed. For example, if you want to change the second element in the list x to 4:\n",
    "\n",
    "refList=[3,2,6,-1,7,9,3]\n",
    "\n",
    "print('original:', refList)\n",
    "\n",
    "refList[1]=6\n",
    "\n",
    "\n",
    "print('After modified:', refList)"
   ]
  },
  {
   "cell_type": "markdown",
   "metadata": {},
   "source": [
    "## We can append new elements into a defined list / empty list"
   ]
  },
  {
   "cell_type": "code",
   "execution_count": null,
   "metadata": {},
   "outputs": [],
   "source": [
    "appendList = []\n",
    "appendList.append(1)\n",
    "appendList"
   ]
  },
  {
   "cell_type": "code",
   "execution_count": null,
   "metadata": {},
   "outputs": [],
   "source": [
    "#You can also add to lists by using the .append() function\n",
    "\n",
    "appendList.append(5)\n",
    "appendList"
   ]
  },
  {
   "cell_type": "markdown",
   "metadata": {},
   "source": [
    "## We can also remove the value of a element in a list"
   ]
  },
  {
   "cell_type": "code",
   "execution_count": null,
   "metadata": {},
   "outputs": [],
   "source": [
    "#Removing items is simple! You have two ways of acheiving that. \n",
    "\n",
    "removeItemList = ['a','b','c', 'd']\n",
    "\n",
    "del removeItemList[1] #Removes the item at the 1st index\n",
    "removeItemList"
   ]
  },
  {
   "cell_type": "markdown",
   "metadata": {},
   "source": [
    "### Using pop() to delete the last element in a list\n",
    "\n",
    "But only apply to a list with the length larger than 1"
   ]
  },
  {
   "cell_type": "code",
   "execution_count": null,
   "metadata": {},
   "outputs": [],
   "source": [
    "# pop() shows the item has been deleted\n",
    "\n",
    "removeItemList.pop(1) "
   ]
  },
  {
   "cell_type": "code",
   "execution_count": null,
   "metadata": {},
   "outputs": [],
   "source": [
    "removeItemList"
   ]
  },
  {
   "cell_type": "markdown",
   "metadata": {},
   "source": [
    "### Using remove() to delete the last element in a list\n",
    "\n",
    "Need to pass the exact value in the parentheses"
   ]
  },
  {
   "cell_type": "code",
   "execution_count": null,
   "metadata": {
    "collapsed": true
   },
   "outputs": [],
   "source": [
    "# remove() will not show the item being deleted as pop() does\n",
    "\n",
    "removeItemList.remove('a')"
   ]
  },
  {
   "cell_type": "code",
   "execution_count": null,
   "metadata": {},
   "outputs": [],
   "source": [
    "removeItemList"
   ]
  },
  {
   "cell_type": "markdown",
   "metadata": {},
   "source": [
    "## We can use index() to find the index of a element in a list\n",
    "\n",
    "It will give you the index of the nearest item from the left\n",
    "\n",
    "It is similar to find() in string "
   ]
  },
  {
   "cell_type": "code",
   "execution_count": null,
   "metadata": {},
   "outputs": [],
   "source": [
    "list = [1,2,3,4,5,6]\n",
    "print(list[2])"
   ]
  },
  {
   "cell_type": "markdown",
   "metadata": {},
   "source": [
    "## Some other built-in functions for List"
   ]
  },
  {
   "cell_type": "code",
   "execution_count": null,
   "metadata": {
    "collapsed": true
   },
   "outputs": [],
   "source": [
    "# append() appends an item at the end of the list\n",
    "\n",
    "exampleList = ['John', 5, 'Lion', 6, 'Key']\n",
    "exampleList.append('Map')"
   ]
  },
  {
   "cell_type": "code",
   "execution_count": null,
   "metadata": {},
   "outputs": [],
   "source": [
    "exampleList"
   ]
  },
  {
   "cell_type": "code",
   "execution_count": null,
   "metadata": {
    "collapsed": true
   },
   "outputs": [],
   "source": [
    "sublist = ['Stan', 3, 'Horse',6,'Golf']"
   ]
  },
  {
   "cell_type": "code",
   "execution_count": null,
   "metadata": {},
   "outputs": [],
   "source": [
    "# extend() extends the list with a new list added to the end\n",
    "\n",
    "exampleList.extend(sublist) \n",
    "exampleList"
   ]
  },
  {
   "cell_type": "code",
   "execution_count": null,
   "metadata": {
    "collapsed": true
   },
   "outputs": [],
   "source": [
    "exampleList.append(sublist)"
   ]
  },
  {
   "cell_type": "code",
   "execution_count": null,
   "metadata": {},
   "outputs": [],
   "source": [
    "exampleList"
   ]
  },
  {
   "cell_type": "code",
   "execution_count": null,
   "metadata": {
    "collapsed": true
   },
   "outputs": [],
   "source": [
    "# insert() puts a new item in the given index\n",
    "\n",
    "exampleList.insert(3,'HIIII')"
   ]
  },
  {
   "cell_type": "code",
   "execution_count": null,
   "metadata": {},
   "outputs": [],
   "source": [
    "exampleList"
   ]
  },
  {
   "cell_type": "code",
   "execution_count": null,
   "metadata": {
    "collapsed": true
   },
   "outputs": [],
   "source": [
    "exampleList.remove('John')"
   ]
  },
  {
   "cell_type": "code",
   "execution_count": null,
   "metadata": {},
   "outputs": [],
   "source": [
    "exampleList"
   ]
  },
  {
   "cell_type": "code",
   "execution_count": null,
   "metadata": {
    "collapsed": true
   },
   "outputs": [],
   "source": [
    "# reverse() reverses the whole list\n",
    "\n",
    "exampleList.reverse()"
   ]
  },
  {
   "cell_type": "code",
   "execution_count": null,
   "metadata": {},
   "outputs": [],
   "source": [
    "x = [2,4,1,13,6]\n",
    "x.sort(reverse=True)\n",
    "x"
   ]
  },
  {
   "cell_type": "code",
   "execution_count": null,
   "metadata": {
    "scrolled": true
   },
   "outputs": [],
   "source": [
    "exampleList"
   ]
  },
  {
   "cell_type": "code",
   "execution_count": null,
   "metadata": {
    "collapsed": true
   },
   "outputs": [],
   "source": [
    "# sort() will \n",
    "# deliberate error to show we cannot sort with different types\n",
    "\n",
    "exampleList.sort()"
   ]
  },
  {
   "cell_type": "code",
   "execution_count": null,
   "metadata": {
    "collapsed": true
   },
   "outputs": [],
   "source": [
    "# We have to clean the data first before we use sort()\n",
    "\n",
    "exampleList.remove(['Stan', 3, 'Horse', 6, 'Golf'])\n",
    "exampleList.remove(3)\n",
    "exampleList.remove(6)\n",
    "exampleList.remove(5)\n",
    "exampleList.remove(6)"
   ]
  },
  {
   "cell_type": "code",
   "execution_count": null,
   "metadata": {},
   "outputs": [],
   "source": [
    "# Now exampleList becomes\n",
    "\n",
    "exampleList"
   ]
  },
  {
   "cell_type": "code",
   "execution_count": null,
   "metadata": {
    "collapsed": true
   },
   "outputs": [],
   "source": [
    "# Now we can use sort()\n",
    "\n",
    "exampleList.sort()"
   ]
  },
  {
   "cell_type": "code",
   "execution_count": null,
   "metadata": {},
   "outputs": [],
   "source": [
    "# By default sort() will sort in ascending order\n",
    "\n",
    "exampleList"
   ]
  },
  {
   "cell_type": "code",
   "execution_count": null,
   "metadata": {},
   "outputs": [],
   "source": [
    "# So if we want another way around\n",
    "\n",
    "exampleList.sort(reverse=True)\n",
    "\n",
    "exampleList"
   ]
  },
  {
   "cell_type": "code",
   "execution_count": null,
   "metadata": {},
   "outputs": [],
   "source": [
    "min(exampleList)"
   ]
  },
  {
   "cell_type": "code",
   "execution_count": null,
   "metadata": {},
   "outputs": [],
   "source": [
    "max(exampleList)"
   ]
  },
  {
   "cell_type": "code",
   "execution_count": null,
   "metadata": {},
   "outputs": [],
   "source": [
    "numList = [22,431,132,134,1,3,0]\n",
    "numList.sort()\n",
    "print(numList)\n",
    "numList.sort(reverse=True)\n",
    "print(numList)\n",
    "print('Max', min(numList))\n",
    "print('Min', max(numList))"
   ]
  },
  {
   "cell_type": "code",
   "execution_count": null,
   "metadata": {},
   "outputs": [],
   "source": [
    "exampleList.index('Key')    # returns the index at Key"
   ]
  },
  {
   "cell_type": "code",
   "execution_count": null,
   "metadata": {},
   "outputs": [],
   "source": [
    "exampleList.index('Map')    # returns the index at Map"
   ]
  },
  {
   "cell_type": "code",
   "execution_count": null,
   "metadata": {},
   "outputs": [],
   "source": [
    "# count() gives you total number of elements appear in a list\n",
    "\n",
    "y=[1,1,2,3,3,3,4,1]\n",
    "x = y.count(3),y.count(1)\n",
    "x"
   ]
  },
  {
   "cell_type": "markdown",
   "metadata": {},
   "source": [
    "# --------------------------------------------------------------------------------------------\n",
    "\n",
    "# Tuples"
   ]
  },
  {
   "cell_type": "code",
   "execution_count": null,
   "metadata": {},
   "outputs": [],
   "source": [
    "#Tuples on the other hand are immutable. They are immutable lists declared using ()\n",
    "# Tuple has a constant dimension. Once you define it you cannot change it later\n",
    "\n",
    "x = (2,3,4) \n",
    "x"
   ]
  },
  {
   "cell_type": "markdown",
   "metadata": {},
   "source": [
    "Many of the functions and operators that work with lists also work for tuples\n",
    "\n",
    "for e.g. len(),min(),max() + and * operands etc\n",
    "\n",
    "But some build in list function are not workable for tuple, like"
   ]
  },
  {
   "cell_type": "code",
   "execution_count": null,
   "metadata": {},
   "outputs": [],
   "source": [
    "# What happens when you append a tuple?\n",
    "\n",
    "print(x.append(4))"
   ]
  },
  {
   "cell_type": "markdown",
   "metadata": {},
   "source": [
    "### Dictionaries"
   ]
  },
  {
   "cell_type": "code",
   "execution_count": 8,
   "metadata": {},
   "outputs": [],
   "source": [
    "fosh  = {\"hh\":\"skdfh\"}"
   ]
  },
  {
   "cell_type": "code",
   "execution_count": null,
   "metadata": {},
   "outputs": [],
   "source": [
    "# Dictionaries are key value pair stores, Key & Value. These are declared using {}\n",
    "\n",
    "fruits = {'Bananas':10, 'Strawberries':5, 'Pineapple':20}\n",
    "fruits"
   ]
  },
  {
   "cell_type": "code",
   "execution_count": null,
   "metadata": {},
   "outputs": [],
   "source": [
    "# Add a dictionary entry very simply\n",
    "# 'Apples' is the key, 8 is the value\n",
    "\n",
    "fruits['Apples'] = 8\n",
    "fruits"
   ]
  },
  {
   "cell_type": "code",
   "execution_count": null,
   "metadata": {},
   "outputs": [],
   "source": [
    "# Access the value of a specific key\n",
    "\n",
    "print(fruits['Pineapple'])"
   ]
  },
  {
   "cell_type": "code",
   "execution_count": null,
   "metadata": {},
   "outputs": [],
   "source": [
    "## read interactive input \n",
    "a=int(input(\"enter the first number: \" ))\n",
    "b=int(input(\"enter the second number: \"))\n",
    "\n",
    "fruits['Oranges'] = a-b\n",
    "print(fruits)"
   ]
  },
  {
   "cell_type": "markdown",
   "metadata": {},
   "source": [
    "# --------------------------------------------------------------------------------------------\n",
    "\n",
    "\n",
    "# Exercise\n",
    "\n",
    "## 1. Work out your full name\n",
    "\n",
    "1) Try input your first name and last name using <font color=red>interactive input</font>, and work out your full name\n",
    "\n",
    "2) Type in your age using <font color=red>interactive input</font>, and assign it as integer to the age variable\n",
    "\n",
    "3) Complete the code so it prints out <font color=red>\"[Yourname] is now [age] years old\".</font>  e.g Cristiano Ronadlo is now 32 years old\n"
   ]
  },
  {
   "cell_type": "code",
   "execution_count": null,
   "metadata": {
    "collapsed": true
   },
   "outputs": [],
   "source": []
  },
  {
   "cell_type": "markdown",
   "metadata": {
    "collapsed": true
   },
   "source": [
    "## 1.2 Lists\n",
    "\n",
    "1) Creat a list of <font color=red>5 random numbers</font>\n",
    "\n",
    "2) Use slicing to call out number from 1st to 3rd index inclusive\n",
    "\n",
    "3) Creat another list of <font color=red>4 random numbers</font> and connect it with the previous list\n",
    "\n",
    "4) Reverse the list and then sort the list"
   ]
  },
  {
   "cell_type": "code",
   "execution_count": null,
   "metadata": {
    "collapsed": true
   },
   "outputs": [],
   "source": []
  },
  {
   "cell_type": "markdown",
   "metadata": {
    "collapsed": true
   },
   "source": [
    "##  1.3 Count\n",
    "\n",
    "Count how many 'a' in this string -> 'bacbAcbcsabcacbAbcAbwacbacwab'\n",
    "\n",
    "ps: case insensitive"
   ]
  },
  {
   "cell_type": "code",
   "execution_count": 17,
   "metadata": {},
   "outputs": [
    {
     "data": {
      "text/plain": [
       "'ksdas'"
      ]
     },
     "execution_count": 17,
     "metadata": {},
     "output_type": "execute_result"
    }
   ],
   "source": [
    "\"aklsjdfalsjdfhkaslj\"[1:10:2]"
   ]
  },
  {
   "cell_type": "code",
   "execution_count": null,
   "metadata": {
    "collapsed": true
   },
   "outputs": [],
   "source": []
  },
  {
   "cell_type": "code",
   "execution_count": 16,
   "metadata": {},
   "outputs": [
    {
     "data": {
      "text/plain": [
       "[1, 3, 5, 7, 9]"
      ]
     },
     "execution_count": 16,
     "metadata": {},
     "output_type": "execute_result"
    }
   ],
   "source": [
    "list(range(1,10,2))"
   ]
  },
  {
   "cell_type": "markdown",
   "metadata": {},
   "source": [
    "Count how many 'a' in odd index in the string this time\n",
    "\n",
    "ps: case sensitive\n",
    "\n",
    "hints: slicing works the same in string"
   ]
  },
  {
   "cell_type": "code",
   "execution_count": 18,
   "metadata": {},
   "outputs": [
    {
     "data": {
      "text/plain": [
       "'ksfasdka'"
      ]
     },
     "execution_count": 18,
     "metadata": {},
     "output_type": "execute_result"
    }
   ],
   "source": [
    "\"akjsdfkajshdfkjas\"[1::2]"
   ]
  },
  {
   "cell_type": "markdown",
   "metadata": {},
   "source": [
    "## 1.4 Dictionary\n",
    "\n",
    "Create a dictionary show how many times each number (1,2,3,4,5) appear in this string ->\n",
    "'A1f1f4d2s4g3a4s5d1f1df3s4dfg5a4d5f2s4d1f2f2g3s4d1g4'"
   ]
  },
  {
   "cell_type": "code",
   "execution_count": null,
   "metadata": {
    "collapsed": true
   },
   "outputs": [],
   "source": []
  }
 ],
 "metadata": {
  "kernelspec": {
   "display_name": "Python 3",
   "language": "python",
   "name": "python3"
  },
  "language_info": {
   "codemirror_mode": {
    "name": "ipython",
    "version": 3
   },
   "file_extension": ".py",
   "mimetype": "text/x-python",
   "name": "python",
   "nbconvert_exporter": "python",
   "pygments_lexer": "ipython3",
   "version": "3.6.3"
  }
 },
 "nbformat": 4,
 "nbformat_minor": 2
}
