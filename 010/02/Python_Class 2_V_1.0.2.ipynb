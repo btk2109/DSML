{
 "cells": [
  {
   "cell_type": "markdown",
   "metadata": {},
   "source": [
    "![Image of Yaktocat](https://pbs.twimg.com/profile_images/811501827363520512/zhuGojAu_400x400.jpg)"
   ]
  },
  {
   "cell_type": "markdown",
   "metadata": {},
   "source": [
    "### 2.0.0"
   ]
  },
  {
   "cell_type": "markdown",
   "metadata": {},
   "source": [
    "## Hw Solution 1"
   ]
  },
  {
   "cell_type": "code",
   "execution_count": 1,
   "metadata": {},
   "outputs": [
    {
     "name": "stdout",
     "output_type": "stream",
     "text": [
      "Enter your name:Bilal\n"
     ]
    }
   ],
   "source": [
    "Name = input(\"Enter your name:\")"
   ]
  },
  {
   "cell_type": "code",
   "execution_count": 2,
   "metadata": {},
   "outputs": [
    {
     "name": "stdout",
     "output_type": "stream",
     "text": [
      "Enter your age:32\n"
     ]
    }
   ],
   "source": [
    "Age = int(input((\"Enter your age:\")))"
   ]
  },
  {
   "cell_type": "code",
   "execution_count": 3,
   "metadata": {},
   "outputs": [
    {
     "name": "stdout",
     "output_type": "stream",
     "text": [
      "Bilal is now 32\n"
     ]
    }
   ],
   "source": [
    "print(Name + \" is now \" + str(Age))"
   ]
  },
  {
   "cell_type": "markdown",
   "metadata": {},
   "source": [
    "## HW Solution 2"
   ]
  },
  {
   "cell_type": "code",
   "execution_count": 4,
   "metadata": {},
   "outputs": [],
   "source": [
    "x = [44,33,22,26,56]"
   ]
  },
  {
   "cell_type": "code",
   "execution_count": 5,
   "metadata": {},
   "outputs": [
    {
     "data": {
      "text/plain": [
       "[33, 22, 26]"
      ]
     },
     "execution_count": 5,
     "metadata": {},
     "output_type": "execute_result"
    }
   ],
   "source": [
    "x[1:4]"
   ]
  },
  {
   "cell_type": "code",
   "execution_count": null,
   "metadata": {},
   "outputs": [],
   "source": [
    "y = [21,16,17,34]"
   ]
  },
  {
   "cell_type": "code",
   "execution_count": null,
   "metadata": {},
   "outputs": [],
   "source": [
    "x.extend(y)"
   ]
  },
  {
   "cell_type": "code",
   "execution_count": null,
   "metadata": {},
   "outputs": [],
   "source": [
    "x"
   ]
  },
  {
   "cell_type": "code",
   "execution_count": null,
   "metadata": {},
   "outputs": [],
   "source": [
    "x.reverse()"
   ]
  },
  {
   "cell_type": "code",
   "execution_count": null,
   "metadata": {},
   "outputs": [],
   "source": [
    "x"
   ]
  },
  {
   "cell_type": "code",
   "execution_count": null,
   "metadata": {},
   "outputs": [],
   "source": [
    "x.sort()"
   ]
  },
  {
   "cell_type": "code",
   "execution_count": null,
   "metadata": {},
   "outputs": [],
   "source": [
    "x"
   ]
  },
  {
   "cell_type": "markdown",
   "metadata": {
    "collapsed": true
   },
   "source": [
    "## Booleans & Conditionals\n",
    "\n",
    "Booleans are an important part of coding. They are like a switch and can only have two values: True or False. They are very useful in conditional statements that we will be discussing next. But first, \n"
   ]
  },
  {
   "cell_type": "code",
   "execution_count": 2,
   "metadata": {},
   "outputs": [
    {
     "data": {
      "text/plain": [
       "False"
      ]
     },
     "execution_count": 2,
     "metadata": {},
     "output_type": "execute_result"
    }
   ],
   "source": [
    "x = 11 #Assignment is not the same as the equal to sign in Python\n",
    "x == 6 # As explianed before == is a comparison operator. In this e.g. its comparing whether x equals 6, which is not true so it\n",
    "       # will give a false statement"
   ]
  },
  {
   "cell_type": "code",
   "execution_count": 3,
   "metadata": {},
   "outputs": [
    {
     "data": {
      "text/plain": [
       "True"
      ]
     },
     "execution_count": 3,
     "metadata": {},
     "output_type": "execute_result"
    }
   ],
   "source": [
    "x/5 != 2 # Recall your math class from highschool. != is simply stating that x/5 in not equal to 2, which in this case is false,\n",
    "         # it does equal 2"
   ]
  },
  {
   "attachments": {
    "image.png": {
     "image/png": "[encoded data removed]"
    }
   },
   "cell_type": "markdown",
   "metadata": {},
   "source": [
    "![image.png](attachment:image.png)"
   ]
  },
  {
   "cell_type": "code",
   "execution_count": 4,
   "metadata": {},
   "outputs": [
    {
     "name": "stdout",
     "output_type": "stream",
     "text": [
      "13\n"
     ]
    }
   ],
   "source": [
    "#If statements are very useful ways to fork the code. If x is true then you do something, otherwise, \n",
    "#do something else.\n",
    "\n",
    "if x <= 20:\n",
    "    x += 2\n",
    "    print (x)\n",
    "else:\n",
    "    print (x)"
   ]
  },
  {
   "cell_type": "code",
   "execution_count": 5,
   "metadata": {},
   "outputs": [
    {
     "name": "stdout",
     "output_type": "stream",
     "text": [
      "x is neither 1 nor 2\n"
     ]
    }
   ],
   "source": [
    "# You can also combine if statements in the following ways:\n",
    "x = 3\n",
    "if x == 1 or x == 2:\n",
    "    print (\"x is 1 or 2\")\n",
    "else: \n",
    "    print (\"x is neither 1 nor 2\")"
   ]
  },
  {
   "cell_type": "code",
   "execution_count": 32,
   "metadata": {},
   "outputs": [
    {
     "name": "stdout",
     "output_type": "stream",
     "text": [
      "x is not 1, 2 or 3\n"
     ]
    }
   ],
   "source": [
    "#Another way to use if statements are by adding more clauses using the elif statement. (elif = else-if)\n",
    "\n",
    "x = 5\n",
    "if x == 1:\n",
    "    print (\"x is 1\")\n",
    "elif x == 2:\n",
    "    print (\"x is 2\")\n",
    "elif x == 3:\n",
    "    print (\"x is 3\")\n",
    "else:\n",
    "    print (\"x is not 1, 2 or 3\")"
   ]
  },
  {
   "cell_type": "markdown",
   "metadata": {},
   "source": [
    "### 2.0.1\n",
    "### In Class Exercise\n",
    "\n",
    "Write a set of conditional statements that check to see if n is divisible whole by 2. If it is, then print \"n is even\". Otherwise, print \"n is odd\". I've started off the code for you below!\n",
    "\n",
    "\n",
    "Hint: % is the modulo operator\n",
    "\n",
    "\n",
    "Before you begin understanding the % is important. Modulus operator, it is used for remainder division on integers, typically, but in Python can be used for floating point numbers. http://docs.python.org/reference/expressions.html. The % (modulo) operator yields the remainder from the division of the first argument by the second\n",
    "\n",
    "\n",
    "Example 1: 6%2 evaluates to 0 because there's no remainder if 6 is divided by 2 ( 3 times ).\n",
    "\n",
    "\n",
    "Example 2: 7%2 evaluates to 1 because there's a remainder of 1 when 7 is divided by 2 ( 3 times ).\n",
    "\n",
    "Now Let's begin:"
   ]
  },
  {
   "cell_type": "code",
   "execution_count": 6,
   "metadata": {},
   "outputs": [
    {
     "name": "stdout",
     "output_type": "stream",
     "text": [
      "Enter a number: 10\n",
      "N is even\n"
     ]
    }
   ],
   "source": [
    "n = int(input(\"Enter a number: \")) # This command simply asks the user to enter an integer value first \n",
    "\n",
    "x = n\n",
    "\n",
    "if x%2 == 0.0:\n",
    "    print (\"N is even\")\n",
    "else:\n",
    "    print (\"N is odd\")"
   ]
  },
  {
   "cell_type": "markdown",
   "metadata": {},
   "source": [
    "### 2.0.2\n",
    "### Loops: for and while\n",
    "\n",
    "Loops are a very useful way of repeating something over and over again, with some conditionals on when to break them.There are two kinds of loops: for and while. For loops are usually used for iterating through lists and doing something with every iteration. While loops are often used to accumulate additions in a variable."
   ]
  },
  {
   "cell_type": "code",
   "execution_count": 2,
   "metadata": {},
   "outputs": [
    {
     "name": "stdout",
     "output_type": "stream",
     "text": [
      "2\n",
      "4\n",
      "6\n",
      "8\n",
      "10\n"
     ]
    }
   ],
   "source": [
    "# An example of the for-loop. Iterate through the numbers 1-11. What do you think this function does?\n",
    "x = [1,2,3,4,5,6,7,8,9,10]\n",
    "\n",
    "for i in x:\n",
    "    if i % 2 == 0: \n",
    "        print (i)"
   ]
  },
  {
   "cell_type": "code",
   "execution_count": 36,
   "metadata": {},
   "outputs": [
    {
     "name": "stdout",
     "output_type": "stream",
     "text": [
      "The count is:  0\n",
      "The count is:  1\n",
      "The count is:  2\n",
      "The count is:  3\n",
      "The count is:  4\n",
      "The count is:  5\n",
      "The count is:  6\n",
      "The count is:  7\n",
      "The count is:  8\n",
      "The count is:  9\n"
     ]
    }
   ],
   "source": [
    "count = 0 # While loops are different! You need to make sure that you break them. \n",
    "\n",
    "while count < 10:\n",
    "    print (\"The count is: \",count)\n",
    "    count += 1"
   ]
  },
  {
   "cell_type": "code",
   "execution_count": 40,
   "metadata": {},
   "outputs": [
    {
     "data": {
      "text/plain": [
       "range(0, 10)"
      ]
     },
     "execution_count": 40,
     "metadata": {},
     "output_type": "execute_result"
    }
   ],
   "source": [
    "range(len(x)) #Generates a list of numbers, which is generally used to iterate over with for loops"
   ]
  },
  {
   "cell_type": "code",
   "execution_count": 2,
   "metadata": {},
   "outputs": [],
   "source": [
    "range?"
   ]
  },
  {
   "cell_type": "markdown",
   "metadata": {},
   "source": [
    "### 2.0.3\n",
    "### Exercise- Use a for loop and range function to print all the numbers in the range and add it to a list. Show the list in the end.\n"
   ]
  },
  {
   "cell_type": "code",
   "execution_count": 7,
   "metadata": {},
   "outputs": [
    {
     "name": "stdout",
     "output_type": "stream",
     "text": [
      "1\n",
      "2\n",
      "3\n",
      "4\n",
      "5\n",
      "6\n",
      "7\n",
      "8\n",
      "9\n",
      "10\n"
     ]
    },
    {
     "data": {
      "text/plain": [
       "[1, 2, 3, 4, 5, 6, 7, 8, 9, 10]"
      ]
     },
     "execution_count": 7,
     "metadata": {},
     "output_type": "execute_result"
    }
   ],
   "source": [
    "x=[]\n",
    "for i in range(1,11):\n",
    "    print(i)\n",
    "    x.append(i)\n",
    "x"
   ]
  },
  {
   "cell_type": "code",
   "execution_count": 8,
   "metadata": {},
   "outputs": [
    {
     "name": "stdout",
     "output_type": "stream",
     "text": [
      "today I purchased some bananas\n",
      "today I purchased some chocolate\n",
      "today I purchased some carrots\n"
     ]
    }
   ],
   "source": [
    "shopping_list=[\"bananas\", \"chocolate\", \"carrots\"]\n",
    "## We can automatically loop through list elements without using indexes\n",
    "for thing in shopping_list:\n",
    "    print(\"today I purchased some \" + thing)"
   ]
  },
  {
   "cell_type": "markdown",
   "metadata": {},
   "source": [
    "Using \"for loops \" and \"if statements \" answer the following questions :\n",
    "\n",
    "1) Given the names below who has the longest First name? and how long is it?\n",
    "2) And what about the shortest name?\n",
    "3) These are \"probably\" our names :\n",
    "\n",
    "Xiaoyan , Maitreya , Jason , Qihui , Chuck , Jeremy , Mihwa , Lina , Huijun , Raul , Warintra , Abhay"
   ]
  },
  {
   "cell_type": "code",
   "execution_count": 10,
   "metadata": {},
   "outputs": [
    {
     "name": "stdout",
     "output_type": "stream",
     "text": [
      "[7, 8, 5, 5, 5, 6, 5, 4, 6, 4, 8, 5]\n"
     ]
    }
   ],
   "source": [
    "names = ['Xiaoyan','Maitreya','Jason' ,'Qihui','Chuck', \n",
    "'Jeremy','Mihwa','Lina','Huijun','Raul','Warintra','Abhay']\n",
    "\n",
    "maxi = []            # Creating a list\n",
    "for i in names:      # A for loop where i iterates through the list called names:\n",
    "    u = len(i)       # Assigning u to length of i\n",
    "    maxi.append(u)   # Appending u to the empty list maxi\n",
    "print(maxi)\n"
   ]
  },
  {
   "cell_type": "code",
   "execution_count": 11,
   "metadata": {},
   "outputs": [
    {
     "data": {
      "text/plain": [
       "12"
      ]
     },
     "execution_count": 11,
     "metadata": {},
     "output_type": "execute_result"
    }
   ],
   "source": [
    "len(maxi)"
   ]
  },
  {
   "cell_type": "markdown",
   "metadata": {},
   "source": [
    "To iterate through lists we use the range function:\n",
    "http://interactivepython.org/runestone/static/thinkcspy/PythonTurtle/TherangeFunction.html"
   ]
  },
  {
   "cell_type": "code",
   "execution_count": 15,
   "metadata": {},
   "outputs": [
    {
     "name": "stdout",
     "output_type": "stream",
     "text": [
      "Maitreya\n",
      "Warintra\n"
     ]
    }
   ],
   "source": [
    "for i in range(len(maxi)):    \n",
    "        if max(maxi) == len(names[i]):\n",
    "               print(names[i])"
   ]
  },
  {
   "cell_type": "code",
   "execution_count": 8,
   "metadata": {},
   "outputs": [
    {
     "name": "stdout",
     "output_type": "stream",
     "text": [
      "Lina\n",
      "Raul\n"
     ]
    }
   ],
   "source": [
    "for i in range(len(maxi)):       \n",
    "        if min(maxi) == len(names[i]):\n",
    "            print(names[i])"
   ]
  },
  {
   "cell_type": "markdown",
   "metadata": {},
   "source": [
    "### 2.0.4\n",
    "### Functions\n",
    "\n",
    "Functions are an integral part of Python where you can make seperate modules, and call them whenever they are needed. Let's go through the syntax first, and then step-by-step, make a function for finding if a number is a whole square"
   ]
  },
  {
   "cell_type": "code",
   "execution_count": 12,
   "metadata": {},
   "outputs": [
    {
     "name": "stdout",
     "output_type": "stream",
     "text": [
      "n is a whole square, and its square root is 10.0\n"
     ]
    }
   ],
   "source": [
    "from math import sqrt       # we are importing the math library here. \n",
    "\n",
    "def whole_square_checker(n): #sqrt is the name, and it takes an argument, n\n",
    "    if sqrt(n).is_integer()==True: #Line checks whether sqrt(n) is an integer by calling the built in is_integer func\n",
    "        print (\"n is a whole square, and its square root is\",sqrt(n))\n",
    "    else:\n",
    "        print (\"n is not a whole square\")\n",
    "        \n",
    "whole_square_checker(100)"
   ]
  },
  {
   "cell_type": "markdown",
   "metadata": {},
   "source": [
    "The return command is also very important to use with functions. It can be passed into other functions to solve more complicated issues.\n",
    "Below, let's make a function that will return the number of whole squares between any 1, and a number the user provides. This will use our whole_square_checker function, though we will have to modify it first."
   ]
  },
  {
   "cell_type": "code",
   "execution_count": 14,
   "metadata": {},
   "outputs": [
    {
     "name": "stdout",
     "output_type": "stream",
     "text": [
      "Enter the end of your range: 100\n",
      "[1, 4, 9, 16, 25, 36, 49, 64, 81, 100]\n"
     ]
    }
   ],
   "source": [
    "def whole_square_check(n): # Changed the name from the function above a little\n",
    "    if sqrt(n).is_integer() == True: \n",
    "        return True\n",
    "    else:\n",
    "        return False\n",
    "    \n",
    "l = []                    # creating an empty list here\n",
    "def whole_squares_in(x):  # def, code to define a function. whole_squares_in, is just a variable\n",
    "    for i in range(1,x+1):  # i is a variable, in range(1,x): is calling for a range 1 to x. \n",
    "        if whole_square_check(i) == True: # if statement to check if i is true. Several iterations will be run here to check\n",
    "           l.append(i)                    # and if it is true and the integer at index i will be appended to the list.\n",
    "    return (l)                             # Returns us the list l\n",
    "\n",
    "x = int(input(\"Enter the end of your range: \"))   # this function in python asks the user to input a raw number\n",
    "\n",
    "\n",
    "print (whole_squares_in(x))                       # prints the output of the function, which in this case is the list l"
   ]
  },
  {
   "cell_type": "markdown",
   "metadata": {},
   "source": [
    "### 2.0.5\n",
    "### In Class Exercise:\n",
    "\n",
    "a. Construct a function that returns all the divisors of the number the user inputs as a list."
   ]
  },
  {
   "cell_type": "code",
   "execution_count": 15,
   "metadata": {},
   "outputs": [
    {
     "name": "stdout",
     "output_type": "stream",
     "text": [
      "Enter your number: 10\n",
      "[1, 2, 5, 10]\n"
     ]
    }
   ],
   "source": [
    "n = []\n",
    "def divisor(x):\n",
    "    for i in range(1,x+1):\n",
    "        if x%i == 0:\n",
    "           n.append(i)   \n",
    "    return n\n",
    "x=int(input(\"Enter your number: \"))\n",
    "\n",
    "print(divisor(x))"
   ]
  },
  {
   "cell_type": "markdown",
   "metadata": {},
   "source": [
    "### In Class Exercise:\n",
    "\n",
    "b. Write a function for finding out the factorial of a number that the user inputs\n",
    "\n",
    "The factorial of 4, mathematically, for e.g. would equal the result 4!= 4 X 3 x 2 X 1 = 24"
   ]
  },
  {
   "cell_type": "code",
   "execution_count": 16,
   "metadata": {},
   "outputs": [
    {
     "name": "stdout",
     "output_type": "stream",
     "text": [
      "Enter the end of your range: 10\n",
      "3628800\n"
     ]
    }
   ],
   "source": [
    "def factorial(p):\n",
    "    a = p\n",
    "    while p > 1:\n",
    "        p = p-1\n",
    "        a = a * p\n",
    "    return a\n",
    "p = int(input(\"Enter the end of your range: \"))\n",
    "print(factorial(p))"
   ]
  },
  {
   "cell_type": "markdown",
   "metadata": {},
   "source": [
    "### HW Exercises"
   ]
  },
  {
   "cell_type": "markdown",
   "metadata": {},
   "source": [
    "### Find the maximum, minimum and mean of the list of numbers provided below without using max and min funtions"
   ]
  },
  {
   "cell_type": "code",
   "execution_count": 5,
   "metadata": {},
   "outputs": [],
   "source": [
    "x = [1,55,3,64,6,4,32,15]"
   ]
  }
 ],
 "metadata": {
  "kernelspec": {
   "display_name": "Python 3",
   "language": "python",
   "name": "python3"
  },
  "language_info": {
   "codemirror_mode": {
    "name": "ipython",
    "version": 3
   },
   "file_extension": ".py",
   "mimetype": "text/x-python",
   "name": "python",
   "nbconvert_exporter": "python",
   "pygments_lexer": "ipython3",
   "version": "3.6.3"
  }
 },
 "nbformat": 4,
 "nbformat_minor": 2
}
