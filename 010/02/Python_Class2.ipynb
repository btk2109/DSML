{
 "cells": [
  {
   "cell_type": "markdown",
   "metadata": {},
   "source": [
    "![Image of Yaktocat](https://pbs.twimg.com/profile_images/811501827363520512/zhuGojAu_400x400.jpg)"
   ]
  },
  {
   "cell_type": "markdown",
   "metadata": {},
   "source": [
    "# 010 - Python intense course\n",
    "\n",
    "### 3 weeks\n",
    "\n",
    "### OVERVIEW\n",
    "\n",
    "Python intense course is designed to provide participants with the minimum Python skill level required to attend our  series of data science and machine learning courses.\n",
    "\n",
    "### GOALS\n",
    "\n",
    "It is intended for participants without any background in Python or any other programming languages\n",
    "\n",
    "Intense, affordable and short in duration, it is based on practical exercises with varying levels of complexity.\n",
    "\n",
    "### Code Quizzes by chapter to measure student level\n",
    "\n",
    "### SPECIFICATIONS\n",
    "\n",
    "Python course teaches you the knowledge and skills to write basic python program. It covers knowledge of python installation, data types, data stuctures, functions, python built-in function and python built-in library. It also provides basic idea of doing data analysis and data visualization. We will start from basic explanation and in-class exercise to workshop for handling more advanced code challenges. Python course prepares you for higher level course like data science, machine learning and AI.\n",
    "\n",
    "\n",
    "## Today Lesson\n",
    "\n",
    "### 1a. Preparation Work\n",
    "\n",
    "a) Install Python\n",
    "\n",
    "b) Install Jupyter Notebook\n",
    "\t\n",
    "### 1b. Python Basic Knowledge\n",
    "\n",
    "a) Why Python\n",
    "\n",
    "b) Python Data Types & Data Structures\n",
    "\n",
    "c) Python Basic Built-In Function\n",
    "\n",
    "d) Python Method\n",
    "\n",
    "e) Python Basic Built-In Libraries\n",
    "\n",
    "f) In-Class Exercise\n",
    "\n",
    "g) Homework"
   ]
  },
  {
   "cell_type": "markdown",
   "metadata": {},
   "source": [
    "## 1.0.0"
   ]
  },
  {
   "cell_type": "markdown",
   "metadata": {},
   "source": [
    "![Image of Yaktocat](https://udemy-images.udemy.com/course/750x422/692642_a75c.jpg)"
   ]
  },
  {
   "cell_type": "markdown",
   "metadata": {},
   "source": [
    "## 1.0.1 Why Python?"
   ]
  },
  {
   "cell_type": "markdown",
   "metadata": {},
   "source": [
    "Why Python? So many computer languages, Java, C+++. Some even more suitable than Python."
   ]
  },
  {
   "cell_type": "markdown",
   "metadata": {},
   "source": [
    "- Python is an open-source computer language and is gaining in acceptance from the global community as illustrated below"
   ]
  },
  {
   "cell_type": "markdown",
   "metadata": {},
   "source": [
    "![Image of Yaktocat](https://storage.googleapis.com/bwdb/acceleratehk_DSML/class_1/ds16.PNG)"
   ]
  },
  {
   "cell_type": "markdown",
   "metadata": {},
   "source": [
    "Python, being open-source, has many powerful libraries that coders can share and use, hence making it a top choice. Users can solve complex problems with only a few lines of code. \n",
    "\n",
    "It has a simple and easy-to-use syntax, making it the perfect language for someone trying to learn computer programming for the first time.\n",
    "\n",
    "Simple Elegant Syntax. Programming in Python is fun. It's easier to understand and write Python code. Why? The syntax feels natural. Take this source code for an example: \n",
    "\n",
    "\n",
    "```python\n",
    "\n",
    "a = 2 \n",
    "\n",
    "b = 3 \n",
    "\n",
    "sum = a + b\n",
    "\n",
    "result = a + b * sum\n",
    "\n",
    "```\n",
    "\n",
    "Great Community and Support. Python has a large supporting community. There are numerous active forums online which can be handy if you are stuck. Stackoverflow is a great example of one these forums."
   ]
  },
  {
   "cell_type": "markdown",
   "metadata": {},
   "source": [
    "![Image of Yaktocat](https://storage.googleapis.com/bwdb/acceleratehk_DSML/class_1/ds17.PNG)"
   ]
  },
  {
   "cell_type": "markdown",
   "metadata": {},
   "source": [
    "# Datatypes and Variables "
   ]
  },
  {
   "cell_type": "markdown",
   "metadata": {},
   "source": [
    "![Image of Yaktocat](https://storage.googleapis.com/bwdb/acceleratehk_DSML/class_1/ds21.PNG)"
   ]
  },
  {
   "cell_type": "markdown",
   "metadata": {},
   "source": [
    "## Variable"
   ]
  },
  {
   "cell_type": "markdown",
   "metadata": {},
   "source": [
    "A variable is something that holds a value that may change. In simplest terms, a variable is just a box that you can put stuff in.\n",
    "\n",
    "Variables reserve memory locations to store values. This means that when you create a variable, you reserve some space in memory.\n",
    "\n",
    "Based on the variable data type, the interpreter allocates memory and decides what can be stored in the reserved memory. Therefore, by assigning different data types to variables, you can store integers, decimals or characters in these variables."
   ]
  },
  {
   "cell_type": "markdown",
   "metadata": {},
   "source": [
    "## Python Data Types"
   ]
  },
  {
   "cell_type": "markdown",
   "metadata": {},
   "source": [
    "The data stored in memory can be of different types. For example, a person's age is stored as a numeric value and his or her address is stored as alphanumeric characters. Python has various standard data types that are used to define the operations possible on them and the storage method for each of them.\n",
    "\n",
    "### Python has 4 standard data types −\n",
    "\n",
    "#### 1) Integers\n",
    "\n",
    "##### Eg 1, 2, 100, 10000\n",
    "\n",
    "#### 2) Float\n",
    "\n",
    "##### Eg 1.0, 2.0, 100.0, 10000.0\n",
    "\n",
    "#### 3) String\n",
    "\n",
    "##### Eg 'HI', \"HELLO WORLD\"\n",
    "\n",
    "#### 4) Boolean\n",
    "\n",
    "##### TRUE / FALSE\n",
    "\n",
    "## Data Structures\n",
    "\n",
    "#### 1) List\n",
    "\n",
    "#### 2) Tuple\n",
    "\n",
    "#### 3) Dictionary"
   ]
  },
  {
   "cell_type": "markdown",
   "metadata": {},
   "source": [
    "### Python Numbers"
   ]
  },
  {
   "cell_type": "markdown",
   "metadata": {},
   "source": [
    "# Different Variable Type\n",
    "\n",
    "## Let's try the different data types together!"
   ]
  },
  {
   "cell_type": "code",
   "execution_count": null,
   "metadata": {
    "collapsed": true
   },
   "outputs": [],
   "source": [
    "# Integer\n",
    "\n",
    "print(123)"
   ]
  },
  {
   "cell_type": "code",
   "execution_count": null,
   "metadata": {
    "collapsed": true
   },
   "outputs": [],
   "source": [
    "# Float\n",
    "\n",
    "print(1.0)"
   ]
  },
  {
   "cell_type": "code",
   "execution_count": null,
   "metadata": {
    "collapsed": true
   },
   "outputs": [],
   "source": [
    "# String\n",
    "\n",
    "print(\"Hello\")"
   ]
  },
  {
   "cell_type": "code",
   "execution_count": null,
   "metadata": {
    "collapsed": true
   },
   "outputs": [],
   "source": [
    "# Boolean\n",
    "\n",
    "print(False)"
   ]
  },
  {
   "cell_type": "markdown",
   "metadata": {},
   "source": [
    "## Now that you understand data types, let's try different data structures"
   ]
  },
  {
   "cell_type": "code",
   "execution_count": null,
   "metadata": {
    "collapsed": true
   },
   "outputs": [],
   "source": [
    "# List\n",
    "# A List offers a range of compound datatypes often referred to as sequences, comma-separated values (items) between square brackets. \n",
    "# Important note: Every item in a list can be in different type\n",
    "\n",
    "print(['Hello', 12, True])"
   ]
  },
  {
   "cell_type": "code",
   "execution_count": null,
   "metadata": {
    "collapsed": true
   },
   "outputs": [],
   "source": [
    "# Now a list of int for me please\n",
    "\n",
    "print([1,2,3])"
   ]
  },
  {
   "cell_type": "code",
   "execution_count": null,
   "metadata": {
    "collapsed": true
   },
   "outputs": [],
   "source": [
    "# Tuple\n",
    "# A tuple is similar to a list\n",
    "# But once data is set, it cannot change\n",
    "\n",
    "print((1,2,3,4))"
   ]
  },
  {
   "cell_type": "code",
   "execution_count": null,
   "metadata": {
    "collapsed": true
   },
   "outputs": [],
   "source": [
    "# Now a tuple consists of list, string & float please\n",
    "\n",
    "print(([1,2,3], 'Hi', 9.0))"
   ]
  },
  {
   "cell_type": "code",
   "execution_count": null,
   "metadata": {
    "collapsed": true
   },
   "outputs": [],
   "source": [
    "# Dictionary\n",
    "# Dictionary is an unordered collection of items\n",
    "# \"Key:Value\" pair instead of just a value\n",
    "# Dictionaries are optimized to retrieve values when the key is known\n",
    "\n",
    "{'a': 123}"
   ]
  },
  {
   "cell_type": "code",
   "execution_count": null,
   "metadata": {
    "collapsed": true
   },
   "outputs": [],
   "source": [
    "# Now, let's create a dictionary with three keys\n",
    "# 1.Your Name 2.Your age 3.Your favorite color\n",
    "\n",
    "print({'name': 'Martin', 'age' : 23, 'color': 'red'})"
   ]
  },
  {
   "cell_type": "markdown",
   "metadata": {},
   "source": [
    "# Mathematical Operators"
   ]
  },
  {
   "cell_type": "code",
   "execution_count": null,
   "metadata": {
    "collapsed": true
   },
   "outputs": [],
   "source": [
    "# Addition\n",
    "\n",
    "print(2 + 3)"
   ]
  },
  {
   "cell_type": "code",
   "execution_count": null,
   "metadata": {
    "collapsed": true
   },
   "outputs": [],
   "source": [
    "# Subtraction\n",
    "\n",
    "print(10 - 2)"
   ]
  },
  {
   "cell_type": "code",
   "execution_count": null,
   "metadata": {
    "collapsed": true
   },
   "outputs": [],
   "source": [
    "# Multiplication\n",
    "\n",
    "print(10 * 10)"
   ]
  },
  {
   "cell_type": "code",
   "execution_count": null,
   "metadata": {
    "collapsed": true
   },
   "outputs": [],
   "source": [
    "# Floating Point Division\n",
    "# By default, a \n",
    "\n",
    "print(4 / 1.3)"
   ]
  },
  {
   "cell_type": "code",
   "execution_count": null,
   "metadata": {
    "collapsed": true
   },
   "outputs": [],
   "source": [
    "# Floor Division\n",
    "\n",
    "print(4 // 1.3)"
   ]
  },
  {
   "cell_type": "code",
   "execution_count": null,
   "metadata": {
    "collapsed": true
   },
   "outputs": [],
   "source": [
    "# Negation\n",
    "\n",
    "print(-1 - -10)"
   ]
  },
  {
   "cell_type": "code",
   "execution_count": null,
   "metadata": {
    "collapsed": true
   },
   "outputs": [],
   "source": [
    "# Exponents\n",
    "# 5^10(5x5x5x5x5x5x5x5x5x5)\n",
    "\n",
    "print(5**10)"
   ]
  },
  {
   "cell_type": "code",
   "execution_count": null,
   "metadata": {
    "collapsed": true
   },
   "outputs": [],
   "source": [
    "#Modulus %\n",
    "#prints the remaider of the division\n",
    "\n",
    "print(5 % 2)\n",
    "print(4 % 2.0)\n",
    "print(4.0 % 2)\n",
    "print(4.0 % 2.0)"
   ]
  },
  {
   "cell_type": "markdown",
   "metadata": {},
   "source": [
    "## Exercise\n",
    "\n",
    "#### 1. Use 1,2,3 to get the largest number\n",
    "\n",
    "#### 2. How to get a 2 in 5/2"
   ]
  },
  {
   "cell_type": "code",
   "execution_count": null,
   "metadata": {
    "collapsed": true
   },
   "outputs": [],
   "source": [
    "# Question 1\n",
    "\n",
    "print(3**(1+2))"
   ]
  },
  {
   "cell_type": "code",
   "execution_count": null,
   "metadata": {
    "collapsed": true
   },
   "outputs": [],
   "source": [
    "# Question 2\n",
    "\n",
    "print(5 // 2)"
   ]
  },
  {
   "cell_type": "markdown",
   "metadata": {},
   "source": [
    "# Python built in Functions"
   ]
  },
  {
   "cell_type": "code",
   "execution_count": null,
   "metadata": {
    "collapsed": true
   },
   "outputs": [],
   "source": [
    "# round() will round up x > .5\n",
    "\n",
    "round(8.51)"
   ]
  },
  {
   "cell_type": "code",
   "execution_count": null,
   "metadata": {
    "collapsed": true
   },
   "outputs": [],
   "source": [
    "# round() will round down x <= .5\n",
    "\n",
    "round(8.50000)"
   ]
  },
  {
   "cell_type": "code",
   "execution_count": null,
   "metadata": {
    "collapsed": true
   },
   "outputs": [],
   "source": [
    "# type() will check the data type of the data passed in the beacket\n",
    "\n",
    "type('HI')"
   ]
  },
  {
   "cell_type": "code",
   "execution_count": null,
   "metadata": {
    "collapsed": true
   },
   "outputs": [],
   "source": [
    "# int() will turn the data passed in the bracket to a int\n",
    "\n",
    "int(230.0)"
   ]
  },
  {
   "cell_type": "code",
   "execution_count": null,
   "metadata": {
    "collapsed": true
   },
   "outputs": [],
   "source": [
    "# len() gives you the length of a string or a list\n",
    "\n",
    "len('Hello World')"
   ]
  },
  {
   "cell_type": "code",
   "execution_count": null,
   "metadata": {
    "collapsed": true
   },
   "outputs": [],
   "source": [
    "# help() is a good helper for learning Python\n",
    "\n",
    "help('string')"
   ]
  },
  {
   "cell_type": "code",
   "execution_count": null,
   "metadata": {
    "collapsed": true
   },
   "outputs": [],
   "source": [
    "# Input() allows user to provide an input \n",
    "# The function will convert the input to a string\n",
    "\n",
    "input('How are you today? ')"
   ]
  },
  {
   "cell_type": "code",
   "execution_count": null,
   "metadata": {
    "collapsed": true
   },
   "outputs": [],
   "source": [
    "float(213)"
   ]
  },
  {
   "cell_type": "code",
   "execution_count": null,
   "metadata": {
    "collapsed": true
   },
   "outputs": [],
   "source": [
    "# min() will find you minimum number or letter with the lowerest order of an argument\n",
    "\n",
    "print(min('vb'))\n",
    "print(min('a', 'q' ,'y'))\n",
    "print(min(['e', 'p', 'z']))\n",
    "print(min([1,2,3]))"
   ]
  },
  {
   "cell_type": "code",
   "execution_count": null,
   "metadata": {
    "collapsed": true
   },
   "outputs": [],
   "source": [
    "# max() will find you maximum number or letter with the highest order of an argument\n",
    "\n",
    "print(max('vb'))\n",
    "print(max('a', 'q' ,'y', 'r'))\n",
    "print(max(['e', 'p', 'z']))\n",
    "print(max(1,2,3))"
   ]
  },
  {
   "cell_type": "markdown",
   "metadata": {},
   "source": [
    "## Exercise\n",
    "\n",
    "#### 1. Print the data type of each data in one cell\n",
    "    A. 1    B. \"Hello World'    C. True    D. [1, 'Hello World', True]\n",
    "\n",
    "#### 2. Change the data type and print the result\n",
    "    A. 123 -> '123'    B. '321' -> 321    C. 213.5 -> 213\n",
    "    \n",
    "#### 3. Use input() to get a numeric input from user & change it into int. Print the result\n",
    "\n",
    "#### 4. find the length of the list of ['AbCd', 123, True, 321.0]"
   ]
  },
  {
   "cell_type": "code",
   "execution_count": null,
   "metadata": {
    "collapsed": true
   },
   "outputs": [],
   "source": [
    "# Question 1\n",
    "\n",
    "print(type(1))\n",
    "print(type('Hello World'))\n",
    "print(type(True))\n",
    "print(type([1, 'Hello World', True]))"
   ]
  },
  {
   "cell_type": "code",
   "execution_count": null,
   "metadata": {
    "collapsed": true
   },
   "outputs": [],
   "source": [
    "# Question 2\n",
    "\n",
    "print(str(123))\n",
    "print(int('123'))\n",
    "print(int(213.5))"
   ]
  },
  {
   "cell_type": "code",
   "execution_count": null,
   "metadata": {
    "collapsed": true
   },
   "outputs": [],
   "source": [
    "# Question 3\n",
    "\n",
    "print(int(input('A number please ')))\n",
    "print(int(float(input('A number with decimal please '))))"
   ]
  },
  {
   "cell_type": "code",
   "execution_count": null,
   "metadata": {
    "collapsed": true
   },
   "outputs": [],
   "source": [
    "# Question 4\n",
    "\n",
    "len(['AbCd', 123, True, 321.0])"
   ]
  },
  {
   "cell_type": "markdown",
   "metadata": {},
   "source": [
    "# Print\n",
    "\n",
    "You can see that even if I don't use the print() function, the notebook will still show me the result.\n",
    "\n",
    "Without using print(), the notebook will only print the last printable data\n",
    "\n",
    "A function to display the output of a program to the user.\n",
    "\n",
    "After displaying the output, the output will be stored"
   ]
  },
  {
   "cell_type": "code",
   "execution_count": null,
   "metadata": {
    "collapsed": true
   },
   "outputs": [],
   "source": [
    "# We can only see the last one -> 3\n",
    "\n",
    "1\n",
    "2\n",
    "3"
   ]
  },
  {
   "cell_type": "code",
   "execution_count": null,
   "metadata": {
    "collapsed": true
   },
   "outputs": [],
   "source": [
    "# We can see all three of the numbers\n",
    "\n",
    "print(1)\n",
    "print(2)\n",
    "print(3)"
   ]
  },
  {
   "cell_type": "code",
   "execution_count": null,
   "metadata": {
    "collapsed": true,
    "scrolled": true
   },
   "outputs": [],
   "source": [
    "# Concatenation\n",
    "\n",
    "print('My Name: ' + input(\"What is your name\\n\"))"
   ]
  },
  {
   "cell_type": "code",
   "execution_count": null,
   "metadata": {
    "collapsed": true,
    "scrolled": true
   },
   "outputs": [],
   "source": [
    "# Another example of concatenation\n",
    "\n",
    "print('Remember', input('what is your favorite color\\n'), 'is my favorite color')"
   ]
  },
  {
   "cell_type": "code",
   "execution_count": null,
   "metadata": {
    "collapsed": true
   },
   "outputs": [],
   "source": [
    "print('Hello', 1, 2)"
   ]
  },
  {
   "cell_type": "markdown",
   "metadata": {},
   "source": [
    "# --------------------------------------------------------------------------------------------"
   ]
  },
  {
   "cell_type": "markdown",
   "metadata": {},
   "source": [
    "# Assignment of Variables\n",
    "\n",
    "#### - It can be anything, but should be unique and meaningful\n",
    "\n",
    "\n",
    "#### - No Spaces, Digits or Special Characters\n",
    "\n",
    "\n",
    "#### - We can either use an underscore '_' to replace the Space, or we can use Camel Case (eg. camelCase)\n",
    "\n",
    "\n",
    "## 1. Augmented Assignment\n",
    "\n",
    "##### a *= 2\n",
    "\n",
    "## 2. Chained Assignment\n",
    "\n",
    "##### a = b = c = 1\n",
    "\n",
    "## 3. Parallel Assignment\n",
    "\n",
    "##### name,  age =  'Martin', 24"
   ]
  },
  {
   "cell_type": "markdown",
   "metadata": {},
   "source": [
    "## Normal Assignment"
   ]
  },
  {
   "cell_type": "code",
   "execution_count": null,
   "metadata": {
    "collapsed": true,
    "scrolled": false
   },
   "outputs": [],
   "source": [
    "age = int(input('How old are you?\\n'))\n",
    "print(age)"
   ]
  },
  {
   "cell_type": "code",
   "execution_count": null,
   "metadata": {
    "collapsed": true
   },
   "outputs": [],
   "source": [
    "greet = 'Hello ' + 'World'\n",
    "print(greet)"
   ]
  },
  {
   "cell_type": "code",
   "execution_count": null,
   "metadata": {
    "collapsed": true
   },
   "outputs": [],
   "source": [
    "# Error! Make sure they are of the same data type (ie, you cannot concatenate a string with a number)\n",
    "\n",
    "x = '123' + 1"
   ]
  },
  {
   "cell_type": "markdown",
   "metadata": {},
   "source": [
    "### Augmented Assignment"
   ]
  },
  {
   "cell_type": "code",
   "execution_count": null,
   "metadata": {
    "collapsed": true
   },
   "outputs": [],
   "source": [
    "# Augmented Assignment\n",
    "\n",
    "ageAfterTwoYear = age + 2      "
   ]
  },
  {
   "cell_type": "code",
   "execution_count": null,
   "metadata": {
    "collapsed": true
   },
   "outputs": [],
   "source": [
    "print(ageAfterTwoYear)"
   ]
  },
  {
   "cell_type": "markdown",
   "metadata": {},
   "source": [
    "### Chained Assignment\n",
    "\n",
    "Assign a single value to several variables simultaneously"
   ]
  },
  {
   "cell_type": "code",
   "execution_count": null,
   "metadata": {
    "collapsed": true
   },
   "outputs": [],
   "source": [
    "# Chained Assignment\n",
    "\n",
    "my_last_name = my_son_last_name = str(input('What is your last name?\\n'))      "
   ]
  },
  {
   "cell_type": "code",
   "execution_count": null,
   "metadata": {
    "collapsed": true
   },
   "outputs": [],
   "source": [
    "print('My last name', my_last_name)\n",
    "print(\"My son's last name \" + my_son_last_name)"
   ]
  },
  {
   "cell_type": "markdown",
   "metadata": {},
   "source": [
    "### Parallel Assignment\n",
    "\n",
    "Assign multiple objects to multiple variables"
   ]
  },
  {
   "cell_type": "code",
   "execution_count": null,
   "metadata": {
    "collapsed": true
   },
   "outputs": [],
   "source": [
    "# Chained Assignment -> an int & a float\n",
    "\n",
    "maximum, distance = 100, 1000.0        "
   ]
  },
  {
   "cell_type": "code",
   "execution_count": null,
   "metadata": {
    "collapsed": true
   },
   "outputs": [],
   "source": [
    "# Here, 100 and 1000.0 are the values assigned to maximum and distance. \n",
    "# respectively. This produces the result shown below  \n",
    "\n",
    "print(maximum)     \n",
    "print(distance)      "
   ]
  },
  {
   "cell_type": "markdown",
   "metadata": {},
   "source": [
    "### We can reassign a variable as well"
   ]
  },
  {
   "cell_type": "code",
   "execution_count": null,
   "metadata": {
    "collapsed": true
   },
   "outputs": [],
   "source": [
    "num = int(input('Enter a random number '))\n",
    "num = num + 2\n",
    "print(num)"
   ]
  },
  {
   "cell_type": "markdown",
   "metadata": {},
   "source": [
    "## Exercise\n",
    "\n",
    "#### 1. Do the following and print the result\n",
    "    A. Ask user to input a number\n",
    "    B. Multiply the number by itself three times and assign it to a variable\n",
    "    C. Print out the remainder of the number dividing by 4, must be an int instead of float\n",
    "    \n",
    "#### 2. Do the following and print the result\n",
    "    A. Ask user to input his/her name and assign it to a variable\n",
    "    B. Ask user to input his/her age and assign it to a variable\n",
    "    C. Concatenate two variable and print the result -> Variable(Name) is Variable(Age) year old now!\n",
    "    Reminder: You can use parallel assignment to assign two or more variables at the same time"
   ]
  },
  {
   "cell_type": "code",
   "execution_count": null,
   "metadata": {
    "collapsed": true
   },
   "outputs": [],
   "source": [
    "# Question 1\n",
    "\n",
    "# Part A & Part B\n",
    "num = int(input('A number please\\n')) ** 3\n",
    "\n",
    "# Part C\n",
    "print(num % 4)"
   ]
  },
  {
   "cell_type": "code",
   "execution_count": null,
   "metadata": {
    "collapsed": true
   },
   "outputs": [],
   "source": [
    "# Question 2\n",
    "\n",
    "# Part A & Part B\n",
    "name, age = input('Name Please\\n'), input('Age Please\\n')\n",
    "\n",
    "# Part C\n",
    "print(name, 'is', age, 'year old now!')\n",
    "\n",
    "# Or you can assign the concatenation to a new variable\n",
    "intro = name + ' is ' + age + ' year old now!'sss\n",
    "print(intro)"
   ]
  },
  {
   "cell_type": "markdown",
   "metadata": {},
   "source": [
    "# --------------------------------------------------------------------------------------------\n",
    "\n",
    "# Data Type Method\n",
    "\n",
    "A method is a way for you to modify data into something useful for your program/code\n",
    "\n",
    "We usually write in this form: 'data'.'method'('argument')\n",
    "\n",
    "The item (variable or data) we put inside the bracket is called the argument\n",
    "\n",
    "## String & String Method\n",
    "\n",
    "Strings are immutable sequence of characters (text). They are inserted either in \"\" or ''. A double quote (\"\") can contain single quote(''),e.g.,\"'dog','cat'\" in a string\n",
    "\n",
    "A single quote cannot contain a double quote\n",
    "\n",
    "Backslash '\\' character is used to insert escape characters that otherwise have a predefined special meaning"
   ]
  },
  {
   "cell_type": "code",
   "execution_count": null,
   "metadata": {
    "collapsed": true,
    "scrolled": true
   },
   "outputs": [],
   "source": [
    "x = 'You are handsome'\n",
    "y = \"You are 'smart'\"\n",
    "print(x)\n",
    "print(y)"
   ]
  },
  {
   "cell_type": "code",
   "execution_count": null,
   "metadata": {
    "collapsed": true
   },
   "outputs": [],
   "source": [
    "# \\t is tab\n",
    "\n",
    "selfIntro = 'Hi I am \\tPaul'\n",
    "\n",
    "print(selfIntro) "
   ]
  },
  {
   "cell_type": "code",
   "execution_count": null,
   "metadata": {
    "collapsed": true
   },
   "outputs": [],
   "source": [
    "# \\n is a line breaker\n",
    "\n",
    "selfDescription = \"HI\\nI am handsome\"\n",
    "\n",
    "print(selfDescription) "
   ]
  },
  {
   "cell_type": "code",
   "execution_count": null,
   "metadata": {
    "collapsed": true,
    "scrolled": true
   },
   "outputs": [],
   "source": [
    "#n gives you a new line\n",
    "\n",
    "tictactoe = (\"X\\tO\\tX\\nX\\tX\\tX\\nX\\tO\\tX\") \n",
    "\n",
    "print(tictactoe)"
   ]
  },
  {
   "cell_type": "code",
   "execution_count": null,
   "metadata": {
    "collapsed": true
   },
   "outputs": [],
   "source": [
    "# It is easy to concatenate (or combine) strings with each other\n",
    "# But you need to be aware of the data type\n",
    "# You have to change the data type of 'num' to str\n",
    "\n",
    "firstWord = \"Hello\"\n",
    "secondWord = \"World\"\n",
    "num = 123\n",
    "helloworld = firstWord + \" \" + secondWord + \" \" + num\n",
    "print(helloworld)"
   ]
  },
  {
   "cell_type": "markdown",
   "metadata": {},
   "source": [
    "## Index of element in a string starts from 0\n",
    "\n",
    "<img style=\"max-width: 80%;\" src='https://i.stack.imgur.com/vIKaD.png'>\n",
    "\n",
    "\n",
    "\n",
    "'abcd' -> 'a' is in index 0, 'd' is in index 3\n",
    "A string is essentially a character array"
   ]
  },
  {
   "cell_type": "code",
   "execution_count": null,
   "metadata": {
    "collapsed": true
   },
   "outputs": [],
   "source": [
    "# Define variable word here, choose a random word you want to use\n",
    "\n",
    "word= 'It is 8/1/2018 today'"
   ]
  },
  {
   "cell_type": "code",
   "execution_count": null,
   "metadata": {
    "collapsed": true
   },
   "outputs": [],
   "source": [
    "# you can use the find function to locate the index number\n",
    "# You can get the element in specific index by using\n",
    "\n",
    "print(word[0])"
   ]
  },
  {
   "cell_type": "code",
   "execution_count": null,
   "metadata": {
    "collapsed": true
   },
   "outputs": [],
   "source": [
    "# Get the element in the 4th index\n",
    "\n"
   ]
  },
  {
   "cell_type": "code",
   "execution_count": null,
   "metadata": {
    "collapsed": true
   },
   "outputs": [],
   "source": [
    "# You will get an error because the index is out of range\n",
    "\n",
    "print(word[100])"
   ]
  },
  {
   "cell_type": "markdown",
   "metadata": {},
   "source": [
    "## [ ] can also use to slice a string\n",
    "\n",
    "First argument is where to start\n",
    "\n",
    "Second argument is where to stop before, n - 1\n",
    "\n",
    "(Optional) Third argument is the step\n",
    "\n",
    "ATTENTION: Arguments are separated by a colon in slice method, not a comma\n",
    "\n",
    "By default if nothing passed in the 1st argument or 2nd element, slicing will starts at 1st index or ends at the last one inclusively"
   ]
  },
  {
   "cell_type": "code",
   "execution_count": null,
   "metadata": {
    "collapsed": true
   },
   "outputs": [],
   "source": [
    "# Slice the string from index 2 to index 9\n",
    "\n",
    "print(word[2:10])"
   ]
  },
  {
   "cell_type": "code",
   "execution_count": null,
   "metadata": {
    "collapsed": true
   },
   "outputs": [],
   "source": [
    "# Slice the string from index 0 to index 10 with a step of 2\n",
    "\n",
    "print(word[0:11:2]) "
   ]
  },
  {
   "cell_type": "code",
   "execution_count": null,
   "metadata": {
    "collapsed": true
   },
   "outputs": [],
   "source": [
    "# Use slice method without passing anything in 1st arguement and 2ng argument\n",
    "\n"
   ]
  },
  {
   "cell_type": "code",
   "execution_count": null,
   "metadata": {
    "collapsed": true
   },
   "outputs": [],
   "source": [
    "# Use slice method to get all the elements in the odd index\n",
    "\n"
   ]
  },
  {
   "cell_type": "markdown",
   "metadata": {},
   "source": [
    "## .find() shows the first index of the number you want to know\n",
    "\n",
    "You can pass in a letter or a word, even a phase you want to find\n",
    "\n",
    "By default, .find() starts from the start of the string (the left hand side) and returns a int\n",
    "\n",
    "-1 will be printed or showed if the argument is not found in the string"
   ]
  },
  {
   "cell_type": "code",
   "execution_count": null,
   "metadata": {
    "collapsed": true
   },
   "outputs": [],
   "source": [
    "# You can use .find() to locate the first index of the number you want to know\n",
    "\n",
    "x = 'Hi today is the first python class. I hope you guys enjoy it!, 123456789'"
   ]
  },
  {
   "cell_type": "code",
   "execution_count": null,
   "metadata": {
    "collapsed": true
   },
   "outputs": [],
   "source": [
    "# .find() showss the first index of 'f'\n",
    "\n",
    "print(x.find('f'))"
   ]
  },
  {
   "cell_type": "code",
   "execution_count": null,
   "metadata": {
    "collapsed": true
   },
   "outputs": [],
   "source": [
    "# Print the first index of 'hope'\n",
    "\n"
   ]
  },
  {
   "cell_type": "code",
   "execution_count": null,
   "metadata": {
    "collapsed": true
   },
   "outputs": [],
   "source": [
    "# Now we are finding the first index of 'd' after index 4\n",
    "\n",
    "print(x.find(\"d\",4))"
   ]
  },
  {
   "cell_type": "code",
   "execution_count": null,
   "metadata": {
    "collapsed": true
   },
   "outputs": [],
   "source": [
    "# Print the first index of 'enjoy' after index 10\n",
    "\n"
   ]
  },
  {
   "cell_type": "markdown",
   "metadata": {},
   "source": [
    "## .rfind() finds the index of an argument starting from the end"
   ]
  },
  {
   "cell_type": "code",
   "execution_count": null,
   "metadata": {
    "collapsed": true
   },
   "outputs": [],
   "source": [
    "# .rfind() shows the argument from the right side of the string\n",
    "\n",
    "print(x.rfind('Hi'))"
   ]
  },
  {
   "cell_type": "code",
   "execution_count": null,
   "metadata": {
    "collapsed": true
   },
   "outputs": [],
   "source": [
    "# In this case, the character 'P' is not found in the string\n",
    "# The computer is case sensitive\n",
    "# Uppercase & lowercase are considered to be two different letters for computer\n",
    "\n",
    "print(x.rfind('P'))"
   ]
  },
  {
   "cell_type": "code",
   "execution_count": null,
   "metadata": {
    "collapsed": true
   },
   "outputs": [],
   "source": [
    "# Print the first index of 's' starting from the end of the string\n"
   ]
  },
  {
   "cell_type": "markdown",
   "metadata": {},
   "source": [
    "## .lower() & .upper() can help you to change the letter case of the string\n",
    "\n",
    ".lower() changes the whole string to lowercase\n",
    "\n",
    ".upper() changes the whole string to uppercase"
   ]
  },
  {
   "cell_type": "code",
   "execution_count": null,
   "metadata": {
    "collapsed": true,
    "scrolled": true
   },
   "outputs": [],
   "source": [
    "# Use .lower()' & '.upper()' to change letter case of variable 'x', print the result\n",
    "\n",
    "print(x.lower())\n",
    "print(x.upper())"
   ]
  },
  {
   "cell_type": "markdown",
   "metadata": {},
   "source": [
    "## .count() shows the total number of appearance of an argument in a string"
   ]
  },
  {
   "cell_type": "code",
   "execution_count": null,
   "metadata": {
    "collapsed": true
   },
   "outputs": [],
   "source": [
    "## .count() can help you count the number of a specified letter or number in a string\n",
    "\n",
    "print(x.count('c'))"
   ]
  },
  {
   "cell_type": "markdown",
   "metadata": {},
   "source": [
    "## Exercise\n",
    "\n",
    "str = 'Lorem ipsum dolor sit Amet, consectetur adipiscing elit. Pellentesque sit amet augue in tellus congue blandit. Aliquam ultrices tincidunt odio in convallis. Orci varius nAtoque penAtibus et magnis dis parturient montes, nascetur ridiculus mus. Fusce ut risus laoreet mi tempus.'\n",
    "\n",
    "#### 1. Use .find() & .rfind() to the following steps and print the result\n",
    "    A. Find the first index of 'l' in the string and assign it to a variable\n",
    "    B. Find the last index of 'l' in the string and assign it to a variable\n",
    "    C. Calculate the difference and print out the difference\n",
    "    Reminder: Case Sensitive\n",
    "    \n",
    "#### 2. Use .count(), .lower() & .upper() to do the following steps and print the result\n",
    "    A. Count the total number of 'p' in the string\n",
    "    B. Count the total number of 'a' in the sting\n",
    "    C. Find the product of two numbers and print it out\n",
    "    Reminder: Case Insensitive"
   ]
  },
  {
   "cell_type": "code",
   "execution_count": 5,
   "metadata": {},
   "outputs": [
    {
     "ename": "NameError",
     "evalue": "name 'l' is not defined",
     "output_type": "error",
     "traceback": [
      "\u001b[0;31m---------------------------------------------------------------------------\u001b[0m",
      "\u001b[0;31mNameError\u001b[0m                                 Traceback (most recent call last)",
      "\u001b[0;32m<ipython-input-5-51d251232839>\u001b[0m in \u001b[0;36m<module>\u001b[0;34m()\u001b[0m\n\u001b[1;32m      1\u001b[0m \u001b[0mstr_a\u001b[0m \u001b[0;34m=\u001b[0m \u001b[0;34m'Lorem ipsum dolor sit Amet, consectetur adipiscing elit. Pellentesque sit amet augue in tellus congue blandit. Aliquam ultrices tincidunt odio in convallis. Orci varius nAtoque penAtibus et magnis dis parturient montes, nascetur ridiculus mus. Fusce ut risus laoreet mi tempus.'\u001b[0m\u001b[0;34m\u001b[0m\u001b[0m\n\u001b[0;32m----> 2\u001b[0;31m \u001b[0mstr_a\u001b[0m\u001b[0;34m.\u001b[0m\u001b[0mfind\u001b[0m\u001b[0;34m(\u001b[0m\u001b[0ml\u001b[0m\u001b[0;34m)\u001b[0m\u001b[0;34m\u001b[0m\u001b[0m\n\u001b[0m",
      "\u001b[0;31mNameError\u001b[0m: name 'l' is not defined"
     ]
    }
   ],
   "source": [
    "str_a = 'Lorem ipsum dolor sit Amet, consectetur adipiscing elit. Pellentesque sit amet augue in tellus congue blandit. Aliquam ultrices tincidunt odio in convallis. Orci varius nAtoque penAtibus et magnis dis parturient montes, nascetur ridiculus mus. Fusce ut risus laoreet mi tempus.'\n",
    "str_a.find(l)"
   ]
  },
  {
   "cell_type": "code",
   "execution_count": null,
   "metadata": {
    "collapsed": true
   },
   "outputs": [],
   "source": [
    "# Question 2"
   ]
  },
  {
   "cell_type": "markdown",
   "metadata": {},
   "source": [
    "## .replace() replaces the 1st argument with the 2nd argument in a string\n",
    "\n",
    "By default it will replace everything in the string that is equal to the 1st argument with the 2nd argument\n",
    "\n",
    "If the 1st argument cannot be found in the string, it will simply do nothing instead of showing error\n",
    "\n",
    "It can also help you to remove element in a string"
   ]
  },
  {
   "cell_type": "code",
   "execution_count": 7,
   "metadata": {
    "collapsed": true
   },
   "outputs": [],
   "source": [
    "replaceExample =  \"Quick Quick Quick brown fox brown fox brown fox and c c\""
   ]
  },
  {
   "cell_type": "code",
   "execution_count": null,
   "metadata": {
    "collapsed": true
   },
   "outputs": [],
   "source": [
    "# In the following,'Quick' is replaced with 'Lazy'\n",
    "\n",
    "print(replaceExample.replace('Quick','Lazy'))"
   ]
  },
  {
   "cell_type": "code",
   "execution_count": 18,
   "metadata": {
    "collapsed": true
   },
   "outputs": [
    {
     "name": "stdout",
     "output_type": "stream",
     "text": [
      "Lazy Lazy Lazy brown fox brown fox brown fox and c c\n",
      "Lazy Lazy Lazy brown fox brown fox brown fox and c c\n",
      " L a z y   L a z y   L a z y   b r o w n   f o x   b r o w n   f o x   b r o w n   f o x   a n d   c   c \n"
     ]
    }
   ],
   "source": [
    "# An optional 3rd argument can be passed, it has to be an int\n",
    "# It represents the number of the items you want to replace\n",
    "# If you use 1, only the first Quick will be replaced. \n",
    "# If you use 2, the second quick will also be replaced.\n",
    "\n",
    "print(replaceExample.replace('Quick','Lazy', 1))\n",
    "print(replaceExample.replace('Quick','Lazy', 2))\n",
    "replaceExample=(replaceExample.replace('Quick','Lazy', 2))\n",
    "print(replaceExample.replace('',' '))"
   ]
  },
  {
   "cell_type": "code",
   "execution_count": null,
   "metadata": {
    "collapsed": true,
    "scrolled": true
   },
   "outputs": [],
   "source": [
    "# What will I get from this?\n",
    "\n",
    "print(replaceExample)"
   ]
  },
  {
   "cell_type": "code",
   "execution_count": null,
   "metadata": {
    "collapsed": true
   },
   "outputs": [],
   "source": [
    "# We have to assign the new data after using .replace() to a new variable or reassign it to the original variable\n",
    "\n",
    "newReplaceExample = replaceExample.replace('Quick','Lazy', 2)\n",
    "\n",
    "print('1st:', replaceExample)\n",
    "print('2nd:', newReplaceExample)\n",
    "\n",
    "replaceExample = replaceExample.replace('Quick','Lazy')\n",
    "\n",
    "print('3rd:', replaceExample)\n",
    "print('4th:', newReplaceExample)"
   ]
  },
  {
   "cell_type": "code",
   "execution_count": null,
   "metadata": {
    "collapsed": true
   },
   "outputs": [],
   "source": [
    "# .replace() can also help you to remove the thing you don't need in a string\n",
    "# '' represents nothing\n",
    "\n",
    "print(newReplaceExample.replace(' ', ''))"
   ]
  },
  {
   "cell_type": "markdown",
   "metadata": {},
   "source": [
    "## .split()  splits a string with the argument passed, and store the remaining items in the form of a list\n",
    "\n",
    "By default, if no argument is passed in the bracket, .split() will split the string with a space (' ')\n",
    "\n",
    "If the arugment could not be found in the string, .split() will put the whole string in to a list"
   ]
  },
  {
   "cell_type": "code",
   "execution_count": 30,
   "metadata": {
    "collapsed": true
   },
   "outputs": [
    {
     "name": "stdout",
     "output_type": "stream",
     "text": [
      "['a', 'cdefg']\n"
     ]
    }
   ],
   "source": [
    "# .split() now splits the string with space\n",
    "\n",
    "splitExample = 'abcdefg'\n",
    "\n",
    "splitExample = splitExample.split('b') \n",
    "\n",
    "print(splitExample)"
   ]
  },
  {
   "cell_type": "code",
   "execution_count": null,
   "metadata": {
    "collapsed": true
   },
   "outputs": [],
   "source": [
    "# Now split the string with the letter 'd', assign it into a new variable\n",
    "\n"
   ]
  },
  {
   "cell_type": "markdown",
   "metadata": {},
   "source": [
    "## .join() joins all the elements in a list & convert it into a string\n",
    "\n",
    "Before the .join(), we declare the string argument that we want to use to join the elements in the list\n",
    "\n",
    "Then we put a list variable or a list as an argument in the bracket"
   ]
  },
  {
   "cell_type": "code",
   "execution_count": 31,
   "metadata": {
    "collapsed": true
   },
   "outputs": [
    {
     "name": "stdout",
     "output_type": "stream",
     "text": [
      "quick brown fox\n"
     ]
    }
   ],
   "source": [
    "# Elements in the list are joined together with a space ->.\n",
    "\n",
    "print(\" \".join([\"quick\", \"brown\", \"fox\"]))"
   ]
  },
  {
   "cell_type": "code",
   "execution_count": 32,
   "metadata": {
    "collapsed": true
   },
   "outputs": [
    {
     "name": "stdout",
     "output_type": "stream",
     "text": [
      "quick,brown,abs\n"
     ]
    }
   ],
   "source": [
    "# This time we use ',' to join the elements\n",
    "\n",
    "exampleList = [\"quick\", \"brown\", \"abs\"]\n",
    "\n",
    "print(','.join(exampleList))"
   ]
  },
  {
   "cell_type": "code",
   "execution_count": null,
   "metadata": {
    "collapsed": true
   },
   "outputs": [],
   "source": [
    "# If the list has a numeric element, it cannot be joined\n",
    "# Or you cannot pass a number to a .join() method\n",
    "\n",
    "print(\" \".join([\"quick\", \"brown\", \"fox\", 1]))"
   ]
  },
  {
   "cell_type": "code",
   "execution_count": null,
   "metadata": {
    "collapsed": true
   },
   "outputs": [],
   "source": []
  },
  {
   "cell_type": "markdown",
   "metadata": {},
   "source": [
    "## .strip() to remove unnecessary space in a string from both ends"
   ]
  },
  {
   "cell_type": "code",
   "execution_count": null,
   "metadata": {
    "collapsed": true
   },
   "outputs": [],
   "source": [
    "stripExample = \"  Quick brown  fox!  \""
   ]
  },
  {
   "cell_type": "code",
   "execution_count": null,
   "metadata": {
    "collapsed": true
   },
   "outputs": [],
   "source": [
    "# Strips the white spaces from both ends\n",
    "\n",
    "stripExample.strip() "
   ]
  },
  {
   "cell_type": "code",
   "execution_count": null,
   "metadata": {
    "collapsed": true
   },
   "outputs": [],
   "source": [
    "# Strips white space from right\n",
    "\n",
    "stripExample.rstrip() "
   ]
  },
  {
   "cell_type": "code",
   "execution_count": null,
   "metadata": {
    "collapsed": true
   },
   "outputs": [],
   "source": [
    "# Strips white space from left\n",
    "\n",
    "stripExample.lstrip() "
   ]
  },
  {
   "cell_type": "markdown",
   "metadata": {},
   "source": [
    "## Exericse\n",
    "\n",
    "str = \"Lorem ipsum dolor sit amet, consectetur adipiscing elit. Donec dignissim rutrum semper. Integer et mi egestas, pretium nisl sed, ullamcorper metus. In consectetur dolor sit amet tellus ornare blandit. Nulla vel purus sollicitudin\"\n",
    "\n",
    "#### 1. Do the following steps and print the result\n",
    "    A. Replace all the 'm', 's' and 'd' in the string and assign the result to a variable\n",
    "    B. Slice the new value from index 2 to index 35 with a step of 3 and reassign it to the original variable\n",
    "    C. Split the value with 'a' and reassign it to the original variable\n",
    "    D. Join the value with a line break and print the result\n",
    "    Hint: '\\n' is the line break special character"
   ]
  },
  {
   "cell_type": "code",
   "execution_count": 42,
   "metadata": {
    "collapsed": true
   },
   "outputs": [
    {
     "name": "stdout",
     "output_type": "stream",
     "text": [
      "Lore0 ipsu0 dolor sit a0et, consectetur adipiscing elit. Donec dignissi0 rutru0 se0per. Integer et 0i egestas, pretiu0 nisl sed, ulla0corper 0etus. In consectetur dolor sit a0et tellus ornare blandit. Nulla vel purus sollicitudin\n"
     ]
    }
   ],
   "source": [
    "a = \"Lorem ipsum dolor sit amet, consectetur adipiscing elit. Donec dignissim rutrum semper. Integer et mi egestas, pretium nisl sed, ullamcorper metus. In consectetur dolor sit amet tellus ornare blandit. Nulla vel purus sollicitudin\"\n",
    "new_a=a.replace('m','0')\n",
    "print(new_a)"
   ]
  },
  {
   "cell_type": "markdown",
   "metadata": {},
   "source": [
    "# --------------------------------------------------------------------------------------------\n",
    "\n",
    "# Boolean\n",
    "\n",
    "By default True has a value of 1 & False has a value of 0"
   ]
  },
  {
   "cell_type": "code",
   "execution_count": 43,
   "metadata": {
    "collapsed": true
   },
   "outputs": [
    {
     "name": "stdout",
     "output_type": "stream",
     "text": [
      "True\n",
      "2\n"
     ]
    }
   ],
   "source": [
    "# The True boolean has a value of 1\n",
    "\n",
    "x = True\n",
    "print(x)\n",
    "print(x + 1)"
   ]
  },
  {
   "cell_type": "code",
   "execution_count": 44,
   "metadata": {
    "collapsed": true
   },
   "outputs": [
    {
     "name": "stdout",
     "output_type": "stream",
     "text": [
      "False\n",
      "-2\n"
     ]
    }
   ],
   "source": [
    "# The False boolean has a value of 0\n",
    "\n",
    "y = False\n",
    "print(y)\n",
    "print(y - 2)"
   ]
  },
  {
   "cell_type": "markdown",
   "metadata": {},
   "source": [
    "## Comparison Operator\n",
    "\n",
    "### 1. < less than\n",
    "\n",
    "### 2. <= less than or equal to\n",
    "\n",
    "### 3. == equal to\n",
    "\n",
    "### 4. >= greater than or equal to\n",
    "\n",
    "### 5. > greater than\n",
    "\n",
    "### 6. != not equal to"
   ]
  },
  {
   "cell_type": "code",
   "execution_count": 45,
   "metadata": {
    "collapsed": true
   },
   "outputs": [
    {
     "name": "stdout",
     "output_type": "stream",
     "text": [
      "True\n"
     ]
    }
   ],
   "source": [
    "print(True == 1)"
   ]
  },
  {
   "cell_type": "code",
   "execution_count": 46,
   "metadata": {
    "collapsed": true
   },
   "outputs": [
    {
     "name": "stdout",
     "output_type": "stream",
     "text": [
      "True\n"
     ]
    }
   ],
   "source": [
    "print(False == 0)"
   ]
  },
  {
   "cell_type": "code",
   "execution_count": 47,
   "metadata": {
    "collapsed": true
   },
   "outputs": [
    {
     "name": "stdout",
     "output_type": "stream",
     "text": [
      "True\n"
     ]
    }
   ],
   "source": [
    "print(False >= 0)"
   ]
  },
  {
   "cell_type": "code",
   "execution_count": null,
   "metadata": {
    "collapsed": true
   },
   "outputs": [],
   "source": [
    "print(True > 0)"
   ]
  },
  {
   "cell_type": "markdown",
   "metadata": {},
   "source": [
    "## Exercise\n",
    "\n",
    "#### 1. Ask user to input his/her age and assign it to a variable. Then check if he/she is legal to drink"
   ]
  },
  {
   "cell_type": "code",
   "execution_count": null,
   "metadata": {
    "collapsed": true
   },
   "outputs": [],
   "source": []
  },
  {
   "cell_type": "markdown",
   "metadata": {},
   "source": [
    "# --------------------------------------------------------------------------------------------\n",
    "\n",
    "\n",
    "# List & List Method\n",
    "\n",
    "A list contains items separated by commas and enclosed within square brackets ([ ])\n",
    "\n",
    "List is modifiable (mutable)\n",
    "\n",
    "They can have elements of different data types\n",
    "\n",
    "List is declare with [ ]"
   ]
  },
  {
   "cell_type": "code",
   "execution_count": 48,
   "metadata": {
    "collapsed": true
   },
   "outputs": [
    {
     "name": "stdout",
     "output_type": "stream",
     "text": [
      "[1, 2, 3, 4, 5, 6]\n"
     ]
    }
   ],
   "source": [
    "# This is a list with 6 elements, both are int\n",
    "\n",
    "list_a = [1,2,3,4,5,6]\n",
    "\n",
    "print(list_a)"
   ]
  },
  {
   "cell_type": "code",
   "execution_count": 49,
   "metadata": {
    "collapsed": true
   },
   "outputs": [
    {
     "data": {
      "text/plain": [
       "['Missouri', 'Fox', 'Thames', 'Akhurian']"
      ]
     },
     "execution_count": 49,
     "metadata": {},
     "output_type": "execute_result"
    }
   ],
   "source": [
    " # This is a list of rivers, both three rivers are in string form\n",
    "\n",
    "rivers = ['Missouri', 'Fox','Thames', 'Akhurian']\n",
    "rivers"
   ]
  },
  {
   "cell_type": "code",
   "execution_count": 50,
   "metadata": {
    "collapsed": true
   },
   "outputs": [
    {
     "data": {
      "text/plain": [
       "['apple', 3, [4.0, 5.0]]"
      ]
     },
     "execution_count": 50,
     "metadata": {},
     "output_type": "execute_result"
    }
   ],
   "source": [
    "# As mentioned, a list can consist of different data type of elements\n",
    "\n",
    "list_b = ['apple',  3, [4.0,5.0]]\n",
    "list_b"
   ]
  },
  {
   "cell_type": "markdown",
   "metadata": {},
   "source": [
    "## Index and Slice are the same in a list\n",
    "\n",
    "We can slice a list to get a sublist\n",
    "\n",
    "First arguement is where to start\n",
    "\n",
    "Second arguemnt is where to stop before, n - 1\n",
    "\n",
    "(Optional) Third argument is the step\n",
    "\n",
    "ATTENTION: Arguments are separated by a colon in the slice method (:), not a comma (,)\n",
    "\n",
    "By default, if nothing is passed in the 1st argument or 2nd argument, slicing will start at 1st index or ends at the last one inclusively"
   ]
  },
  {
   "cell_type": "code",
   "execution_count": 51,
   "metadata": {
    "collapsed": true
   },
   "outputs": [
    {
     "data": {
      "text/plain": [
       "[1, 2, 3, 4, 5, 6]"
      ]
     },
     "execution_count": 51,
     "metadata": {},
     "output_type": "execute_result"
    }
   ],
   "source": [
    "list_a"
   ]
  },
  {
   "cell_type": "code",
   "execution_count": 52,
   "metadata": {
    "collapsed": true
   },
   "outputs": [
    {
     "name": "stdout",
     "output_type": "stream",
     "text": [
      "[3, 4, 5]\n"
     ]
    }
   ],
   "source": [
    "# Starts from the second index inclusive and Ends before the 5th index\n",
    "\n",
    "print(list_a[2:5])"
   ]
  },
  {
   "cell_type": "code",
   "execution_count": 53,
   "metadata": {
    "collapsed": true
   },
   "outputs": [
    {
     "name": "stdout",
     "output_type": "stream",
     "text": [
      "[1, 2, 3, 4, 5, 6]\n"
     ]
    }
   ],
   "source": [
    "# By default the slice will start from the first index, ends at the last one inclusively\n",
    "\n",
    "print(list_a[:])"
   ]
  },
  {
   "cell_type": "code",
   "execution_count": 54,
   "metadata": {
    "collapsed": true
   },
   "outputs": [
    {
     "name": "stdout",
     "output_type": "stream",
     "text": [
      "[5, 6]\n"
     ]
    }
   ],
   "source": [
    "# In this case, it starts from second last index to the end\n",
    "\n",
    "print(list_a[-2:])"
   ]
  },
  {
   "cell_type": "code",
   "execution_count": 55,
   "metadata": {
    "collapsed": true
   },
   "outputs": [
    {
     "name": "stdout",
     "output_type": "stream",
     "text": [
      "['Missouri', 'Fox', 'Thames']\n"
     ]
    }
   ],
   "source": [
    "# Sice the list of rivers from index 0 to the second last index\n",
    "\n",
    "print(rivers[:-1])"
   ]
  },
  {
   "cell_type": "code",
   "execution_count": null,
   "metadata": {
    "collapsed": true
   },
   "outputs": [],
   "source": [
    "# Slice the rivers from the beginning to the end with a step of 2\n",
    "\n"
   ]
  },
  {
   "cell_type": "code",
   "execution_count": null,
   "metadata": {
    "collapsed": true
   },
   "outputs": [],
   "source": [
    "# Get the first element of the list of rivers\n",
    "\n",
    "print(rivers[0])"
   ]
  },
  {
   "cell_type": "code",
   "execution_count": null,
   "metadata": {
    "collapsed": true
   },
   "outputs": [],
   "source": [
    "# Get the last element of the list of rivers\n",
    "\n"
   ]
  },
  {
   "cell_type": "markdown",
   "metadata": {},
   "source": [
    "## We can change the value of the elements in a list\n",
    "\n",
    "We first use index to select the element and then reassign the variable with a new value"
   ]
  },
  {
   "cell_type": "code",
   "execution_count": null,
   "metadata": {
    "collapsed": true
   },
   "outputs": [],
   "source": [
    "#Items in a list can also be changed. For example, if you want to change the second element in the list x to 4:\n",
    "\n",
    "numList=[3,2,6,-1,7,9,3]\n",
    "\n",
    "print('original:', numList)\n",
    "\n",
    "# Selet the first index of the list\n",
    "\n",
    "numList[1]=6\n",
    "\n",
    "\n",
    "print('After modified:', numList)"
   ]
  },
  {
   "cell_type": "markdown",
   "metadata": {},
   "source": [
    "## Exercise\n",
    "\n",
    "elementList = [1,2,3,4,5,6,7,8,9, 'abc']\n",
    "\n",
    "#### 1. Do the following steps and print the result\n",
    "    A. Slice from index 3 to index 8 to get a sublist and assign to a new variable.\n",
    "    B. Change the 2nd element of the list to 'HI' and reassign the variable\n",
    "    C. Print the value of the variable\n",
    "\n",
    "#### 2. Print the data type of the last element in the list"
   ]
  },
  {
   "cell_type": "code",
   "execution_count": 60,
   "metadata": {
    "collapsed": true
   },
   "outputs": [
    {
     "name": "stdout",
     "output_type": "stream",
     "text": [
      "[4, 5, 6, 7, 8, 9]\n"
     ]
    },
    {
     "ename": "AttributeError",
     "evalue": "'list' object has no attribute 'replace'",
     "output_type": "error",
     "traceback": [
      "\u001b[0;31m---------------------------------------------------------------------------\u001b[0m",
      "\u001b[0;31mAttributeError\u001b[0m                            Traceback (most recent call last)",
      "\u001b[0;32m<ipython-input-60-31185579cd55>\u001b[0m in \u001b[0;36m<module>\u001b[0;34m()\u001b[0m\n\u001b[1;32m      2\u001b[0m \u001b[0msublist\u001b[0m\u001b[0;34m=\u001b[0m\u001b[0melementList\u001b[0m\u001b[0;34m[\u001b[0m\u001b[0;36m3\u001b[0m\u001b[0;34m:\u001b[0m\u001b[0;36m9\u001b[0m\u001b[0;34m]\u001b[0m\u001b[0;34m\u001b[0m\u001b[0m\n\u001b[1;32m      3\u001b[0m \u001b[0mprint\u001b[0m\u001b[0;34m(\u001b[0m\u001b[0msublist\u001b[0m\u001b[0;34m)\u001b[0m\u001b[0;34m\u001b[0m\u001b[0m\n\u001b[0;32m----> 4\u001b[0;31m \u001b[0msublist\u001b[0m\u001b[0;34m.\u001b[0m\u001b[0mreplace\u001b[0m\u001b[0;34m.\u001b[0m\u001b[0msublist\u001b[0m\u001b[0;34m(\u001b[0m\u001b[0;34m'hi'\u001b[0m\u001b[0;34m)\u001b[0m\u001b[0;34m\u001b[0m\u001b[0m\n\u001b[0m",
      "\u001b[0;31mAttributeError\u001b[0m: 'list' object has no attribute 'replace'"
     ]
    }
   ],
   "source": [
    "elementList=[1,2,3,4,5,6,7,8,9,'abc']\n",
    "sublist=elementList[3:9]\n",
    "print(sublist)\n",
    "sublist.replace.sublist('hi')"
   ]
  },
  {
   "cell_type": "code",
   "execution_count": null,
   "metadata": {
    "collapsed": true
   },
   "outputs": [],
   "source": [
    "# Question 2"
   ]
  },
  {
   "cell_type": "markdown",
   "metadata": {},
   "source": [
    "## .append( ) appends new element to a list\n",
    "\n",
    "Argument passed in the bracket is the item you want to append to the list\n",
    "\n",
    "You don't need to reassign the new value as you are adding new element to the list"
   ]
  },
  {
   "cell_type": "code",
   "execution_count": 61,
   "metadata": {
    "collapsed": true
   },
   "outputs": [
    {
     "name": "stdout",
     "output_type": "stream",
     "text": [
      "[1]\n"
     ]
    }
   ],
   "source": [
    "appendList = []\n",
    "appendList.append(1)\n",
    "print(appendList)"
   ]
  },
  {
   "cell_type": "code",
   "execution_count": 62,
   "metadata": {
    "collapsed": true
   },
   "outputs": [
    {
     "name": "stdout",
     "output_type": "stream",
     "text": [
      "[1, 5]\n"
     ]
    }
   ],
   "source": [
    "appendList.append(5)\n",
    "print(appendList)"
   ]
  },
  {
   "cell_type": "markdown",
   "metadata": {},
   "source": [
    "## .extend( ) concantenate the elements of two list\n",
    "\n",
    ".extend() will break down the elements in the argument then append to the list"
   ]
  },
  {
   "cell_type": "code",
   "execution_count": null,
   "metadata": {
    "collapsed": true
   },
   "outputs": [],
   "source": [
    "x = [1,2,3,4]\n",
    "y = 'abc'\n",
    "x.extend(y)\n",
    "print(x)"
   ]
  },
  {
   "cell_type": "markdown",
   "metadata": {},
   "source": [
    "## Difference between .append( ) & .extend( )"
   ]
  },
  {
   "cell_type": "code",
   "execution_count": 64,
   "metadata": {
    "collapsed": true
   },
   "outputs": [
    {
     "ename": "NameError",
     "evalue": "name 'List' is not defined",
     "output_type": "error",
     "traceback": [
      "\u001b[0;31m---------------------------------------------------------------------------\u001b[0m",
      "\u001b[0;31mNameError\u001b[0m                                 Traceback (most recent call last)",
      "\u001b[0;32m<ipython-input-64-36e8b721c0aa>\u001b[0m in \u001b[0;36m<module>\u001b[0;34m()\u001b[0m\n\u001b[1;32m      1\u001b[0m \u001b[0mstrList\u001b[0m \u001b[0;34m=\u001b[0m \u001b[0;34m[\u001b[0m\u001b[0;34m'Hello'\u001b[0m\u001b[0;34m,\u001b[0m \u001b[0;34m'Today'\u001b[0m\u001b[0;34m,\u001b[0m \u001b[0;34m'Is'\u001b[0m\u001b[0;34m,\u001b[0m \u001b[0;34m'Cold'\u001b[0m\u001b[0;34m]\u001b[0m\u001b[0;34m\u001b[0m\u001b[0m\n\u001b[1;32m      2\u001b[0m \u001b[0mcombinedList\u001b[0m \u001b[0;34m=\u001b[0m \u001b[0;34m[\u001b[0m\u001b[0;36m1\u001b[0m\u001b[0;34m,\u001b[0m \u001b[0;36m2\u001b[0m\u001b[0;34m,\u001b[0m \u001b[0;36m3\u001b[0m\u001b[0;34m,\u001b[0m \u001b[0;36m5\u001b[0m\u001b[0;34m,\u001b[0m \u001b[0;34m'Hello'\u001b[0m\u001b[0;34m]\u001b[0m\u001b[0;34m\u001b[0m\u001b[0m\n\u001b[0;32m----> 3\u001b[0;31m \u001b[0mprint\u001b[0m\u001b[0;34m(\u001b[0m\u001b[0mList\u001b[0m\u001b[0;34m)\u001b[0m\u001b[0;34m\u001b[0m\u001b[0m\n\u001b[0m",
      "\u001b[0;31mNameError\u001b[0m: name 'List' is not defined"
     ]
    }
   ],
   "source": [
    "strList = ['Hello', 'Today', 'Is', 'Cold']\n",
    "combinedList = [1, 2, 3, 5, 'Hello']\n",
    "print(List)"
   ]
  },
  {
   "cell_type": "code",
   "execution_count": null,
   "metadata": {
    "collapsed": true
   },
   "outputs": [],
   "source": [
    "# Using .extend()\n",
    "\n",
    "strList.extend(combinedList)\n",
    "print(strList)"
   ]
  },
  {
   "cell_type": "code",
   "execution_count": null,
   "metadata": {
    "collapsed": true
   },
   "outputs": [],
   "source": [
    "# Using .append()\n",
    "\n",
    "strList.append(combinedList)\n",
    "print(strList)"
   ]
  },
  {
   "cell_type": "markdown",
   "metadata": {},
   "source": [
    "## .insert( ) inserts an element in the list at a specific index\n",
    "\n",
    "1st argument is the index you want to insert the element in\n",
    "\n",
    "2nd argument is the element you want to insert in the list"
   ]
  },
  {
   "cell_type": "code",
   "execution_count": 76,
   "metadata": {
    "collapsed": true
   },
   "outputs": [
    {
     "name": "stdout",
     "output_type": "stream",
     "text": [
      "['HI', 'HI', 'HI', 'HI', 'HI', 'HI', 'HI', 'HI', 'Hello', 'Bye', 'Bye', 'Bye', 'Bye', 'Today', 'Is', 'Cold']\n"
     ]
    }
   ],
   "source": [
    "# Insert a 'HI' in the 0 index\n",
    "\n",
    "strList.insert(0, 'HI')\n",
    "print(strList)"
   ]
  },
  {
   "cell_type": "code",
   "execution_count": 82,
   "metadata": {
    "collapsed": true
   },
   "outputs": [
    {
     "name": "stdout",
     "output_type": "stream",
     "text": [
      "['HI', 'HI', 'HI', 'Bye', 'Bye', 'Bye', 'Bye', 'Bye', 'Bye', 'HI', 'HI', 'HI', 'HI', 'HI', 'Hello', 'Bye', 'Bye', 'Bye', 'Bye', 'Today', 'Is', 'Cold']\n"
     ]
    }
   ],
   "source": [
    "# Insert a 'Bye' in the 3 index\n",
    "strList.insert(3,'Bye')\n",
    "print(strList)\n"
   ]
  },
  {
   "cell_type": "markdown",
   "metadata": {},
   "source": [
    "## del removes the value of a element in a list\n",
    "\n",
    "del is not a method, it does not have a dot before it and a ( ) after it"
   ]
  },
  {
   "cell_type": "code",
   "execution_count": 84,
   "metadata": {
    "collapsed": true
   },
   "outputs": [
    {
     "name": "stdout",
     "output_type": "stream",
     "text": [
      "['a', 'c', 'd']\n"
     ]
    }
   ],
   "source": [
    "#Removing items is simple! You have two ways of acheiving that. \n",
    "\n",
    "List = ['a','b','c', 'd']\n",
    "\n",
    "#Removes the item at the 1st index\n",
    "\n",
    "del List[1] \n",
    "\n",
    "print(List)"
   ]
  },
  {
   "cell_type": "markdown",
   "metadata": {},
   "source": [
    "### .pop( ) deletes a selected element in a list\n",
    "\n",
    "By default it deletes the last element\n",
    "\n",
    "A integer could be passed as an argument, it refers to the index of the element you want to delete\n",
    "\n",
    "But this only applies to a list with length larger than 1"
   ]
  },
  {
   "cell_type": "code",
   "execution_count": 85,
   "metadata": {
    "collapsed": true
   },
   "outputs": [
    {
     "data": {
      "text/plain": [
       "6"
      ]
     },
     "execution_count": 85,
     "metadata": {},
     "output_type": "execute_result"
    }
   ],
   "source": [
    "# pop() shows the item has been deleted\n",
    "\n",
    "aList = [1,2,3,4,5,6,7]\n",
    "\n",
    "aList.pop(5) "
   ]
  },
  {
   "cell_type": "code",
   "execution_count": null,
   "metadata": {
    "collapsed": true
   },
   "outputs": [],
   "source": [
    "print(aList)"
   ]
  },
  {
   "cell_type": "markdown",
   "metadata": {},
   "source": [
    "## .remove( ) to delete a selected element in a list\n",
    "\n",
    "An element has to be passed in the bracket as argument\n",
    "\n",
    "If the element could not be found in the list, an error messsage is shown"
   ]
  },
  {
   "cell_type": "code",
   "execution_count": null,
   "metadata": {
    "collapsed": true
   },
   "outputs": [],
   "source": [
    "# remove() will not show the item being deleted as pop() does\n",
    "\n",
    "aList.remove(3)"
   ]
  },
  {
   "cell_type": "code",
   "execution_count": null,
   "metadata": {
    "collapsed": true
   },
   "outputs": [],
   "source": [
    "print(aList)"
   ]
  },
  {
   "cell_type": "markdown",
   "metadata": {},
   "source": [
    "## Exercise\n",
    "\n",
    "refList = ['My', 'Favorite', 'Color', 'Is']\n",
    "\n",
    "#### 1. Add your favorite color to the end and a greeting word to the start of the list. Print the result\n",
    "\n",
    "#### 2. Change the 'My' in the list with your name. Print the result"
   ]
  },
  {
   "cell_type": "code",
   "execution_count": 89,
   "metadata": {
    "collapsed": true
   },
   "outputs": [
    {
     "ename": "TypeError",
     "evalue": "'str' object cannot be interpreted as an integer",
     "output_type": "error",
     "traceback": [
      "\u001b[0;31m---------------------------------------------------------------------------\u001b[0m",
      "\u001b[0;31mTypeError\u001b[0m                                 Traceback (most recent call last)",
      "\u001b[0;32m<ipython-input-89-f214c3010918>\u001b[0m in \u001b[0;36m<module>\u001b[0;34m()\u001b[0m\n\u001b[1;32m      1\u001b[0m \u001b[0mrefList\u001b[0m \u001b[0;34m=\u001b[0m \u001b[0;34m[\u001b[0m\u001b[0;34m'My'\u001b[0m\u001b[0;34m,\u001b[0m\u001b[0;34m'Favorite'\u001b[0m\u001b[0;34m,\u001b[0m\u001b[0;34m'Color'\u001b[0m\u001b[0;34m,\u001b[0m\u001b[0;34m'Is'\u001b[0m\u001b[0;34m]\u001b[0m\u001b[0;34m\u001b[0m\u001b[0m\n\u001b[0;32m----> 2\u001b[0;31m \u001b[0mrefList\u001b[0m\u001b[0;34m.\u001b[0m\u001b[0minsert\u001b[0m\u001b[0;34m(\u001b[0m\u001b[0;34m'0'\u001b[0m\u001b[0;34m,\u001b[0m\u001b[0;34m'hi'\u001b[0m\u001b[0;34m)\u001b[0m\u001b[0;34m\u001b[0m\u001b[0m\n\u001b[0m\u001b[1;32m      3\u001b[0m \u001b[0mprint\u001b[0m\u001b[0;34m(\u001b[0m\u001b[0;34m'refList'\u001b[0m\u001b[0;34m)\u001b[0m\u001b[0;34m\u001b[0m\u001b[0m\n",
      "\u001b[0;31mTypeError\u001b[0m: 'str' object cannot be interpreted as an integer"
     ]
    }
   ],
   "source": [
    "refList = ['My','Favorite','Color','Is']\n",
    "refList.insert('0','hi')\n",
    "print('refList')"
   ]
  },
  {
   "cell_type": "code",
   "execution_count": null,
   "metadata": {
    "collapsed": true
   },
   "outputs": [],
   "source": [
    "# Question 2"
   ]
  },
  {
   "cell_type": "markdown",
   "metadata": {},
   "source": [
    "## .reverse( ) reverses the whole list"
   ]
  },
  {
   "cell_type": "code",
   "execution_count": null,
   "metadata": {
    "collapsed": true
   },
   "outputs": [],
   "source": [
    "# reverse() reverses the whole list\n",
    "# It will not print out the result after calling the .reverse() method\n",
    "\n",
    "exampleList = [0, 10, 20, 30, 40, 50, 60, 70, 80, 90, 100]\n",
    "exampleList.reverse()\n",
    "print(exampleList)"
   ]
  },
  {
   "cell_type": "markdown",
   "metadata": {},
   "source": [
    "## .sort( ) sorts the value of a list\n",
    "\n",
    "The data type of the elements within the list which you want to sort needs to be the same, otherwise an error message is shown\n",
    "\n",
    "By default, the sorting is done in ascending order\n",
    "\n",
    ".sort( ) will not show you the result after calling it"
   ]
  },
  {
   "cell_type": "code",
   "execution_count": null,
   "metadata": {
    "collapsed": true
   },
   "outputs": [],
   "source": [
    "sortList = [2,4,1,13,6]\n",
    "sortList.sort()\n",
    "print(sortList)"
   ]
  },
  {
   "cell_type": "code",
   "execution_count": null,
   "metadata": {
    "collapsed": true
   },
   "outputs": [],
   "source": [
    "# Passing 'reverse=True' as an argument will sort() the list in a descending order\n",
    "\n",
    "sortList.sort(reverse=True)\n",
    "print(sortList)"
   ]
  },
  {
   "cell_type": "code",
   "execution_count": null,
   "metadata": {
    "collapsed": true
   },
   "outputs": [],
   "source": [
    "# sort() will show an error message as we cannot sort a list with different data types\n",
    "\n",
    "exampleList = [1, 2, 34, 'Zoe','James', 'Ken', 'Peter', ['Hello', 'World']]\n",
    "\n",
    "exampleList.sort()"
   ]
  },
  {
   "cell_type": "code",
   "execution_count": null,
   "metadata": {
    "collapsed": true
   },
   "outputs": [],
   "source": [
    "# We have to clean the data first before we use sort()\n",
    "\n",
    "exampleList.remove(['Hello', 'World'])\n",
    "exampleList.remove(1)\n",
    "exampleList.remove(2)\n",
    "exampleList.remove(34)"
   ]
  },
  {
   "cell_type": "code",
   "execution_count": null,
   "metadata": {
    "collapsed": true
   },
   "outputs": [],
   "source": [
    "# Now exampleList becomes\n",
    "\n",
    "print(exampleList)"
   ]
  },
  {
   "cell_type": "code",
   "execution_count": null,
   "metadata": {
    "collapsed": true
   },
   "outputs": [],
   "source": [
    "# Now we can use sort()\n",
    "\n",
    "exampleList.sort()"
   ]
  },
  {
   "cell_type": "code",
   "execution_count": null,
   "metadata": {
    "collapsed": true
   },
   "outputs": [],
   "source": [
    "# By default sort() will sort in ascending order\n",
    "\n",
    "print(exampleList)"
   ]
  },
  {
   "cell_type": "code",
   "execution_count": null,
   "metadata": {
    "collapsed": true
   },
   "outputs": [],
   "source": [
    "# So if we want to sort in a desending order\n",
    "\n",
    "exampleList.sort(reverse=True)\n",
    "\n",
    "print(exampleList)"
   ]
  },
  {
   "cell_type": "markdown",
   "metadata": {},
   "source": [
    "## .count( ) gives you the number of times an element appears in a list\n",
    "\n",
    "Argument passed in the bracket is the element you want to know the number of times it appears with the list"
   ]
  },
  {
   "cell_type": "code",
   "execution_count": null,
   "metadata": {
    "collapsed": true
   },
   "outputs": [],
   "source": [
    "# count() gives you total number of an element specified as argument appearing in a list\n",
    "\n",
    "countList = [1, 1, 2, 3, 3, 3, 4, 1]\n",
    "times = countList.count(3)\n",
    "print(times)"
   ]
  },
  {
   "cell_type": "markdown",
   "metadata": {},
   "source": [
    "## Exercise\n",
    "\n",
    "refList = [100, 200, 300, 'List', 'Is, 'Interesting', 100, 200, 300, 400, 500]\n",
    "\n",
    "#### 1. Reverse the list and print the result\n",
    "\n",
    "#### 2. Remove all the words and sort the list in descending order. Assign it to a new variable and print the result\n",
    "\n",
    "#### 3. Count the how many times 200 appears in the list"
   ]
  },
  {
   "cell_type": "code",
   "execution_count": null,
   "metadata": {
    "collapsed": true
   },
   "outputs": [],
   "source": [
    "# Question 1"
   ]
  },
  {
   "cell_type": "code",
   "execution_count": null,
   "metadata": {
    "collapsed": true
   },
   "outputs": [],
   "source": [
    "# Question 2"
   ]
  },
  {
   "cell_type": "code",
   "execution_count": null,
   "metadata": {
    "collapsed": true
   },
   "outputs": [],
   "source": [
    "# Question 3"
   ]
  },
  {
   "cell_type": "markdown",
   "metadata": {},
   "source": [
    "# --------------------------------------------------------------------------------------------\n",
    "\n",
    "# Tuples\n",
    "\n",
    "Tuple is similar to a list, but an immutable data structure\n",
    "\n",
    "Tuple is declared using ( ) instead of [ ]\n",
    "\n",
    "Tuple has a constant dimension. It cannot be modified once you define it"
   ]
  },
  {
   "cell_type": "code",
   "execution_count": 90,
   "metadata": {
    "collapsed": true
   },
   "outputs": [
    {
     "name": "stdout",
     "output_type": "stream",
     "text": [
      "(2, 3, 4)\n"
     ]
    }
   ],
   "source": [
    "x = (2,3,4) \n",
    "print(x)"
   ]
  },
  {
   "cell_type": "markdown",
   "metadata": {},
   "source": [
    "Some of the methods and operators that work with lists also work for tuples\n",
    "\n",
    "e.g. len(), min(), max() + and * operands etc\n",
    "\n",
    "However, some list method are not workable for tuple, like .append( )"
   ]
  },
  {
   "cell_type": "code",
   "execution_count": null,
   "metadata": {
    "collapsed": true
   },
   "outputs": [],
   "source": [
    "# What happens when you append a tuple?\n",
    "\n",
    "print(x.append(4))"
   ]
  },
  {
   "cell_type": "markdown",
   "metadata": {},
   "source": [
    "## Exercise\n",
    "\n",
    "refTuple = (1, 123, 431, 1435, 135, 134)\n",
    "\n",
    "#### 1. Find the maximum number and minimum number in the refTuple"
   ]
  },
  {
   "cell_type": "code",
   "execution_count": null,
   "metadata": {
    "collapsed": true
   },
   "outputs": [],
   "source": [
    "# Question 1"
   ]
  },
  {
   "cell_type": "markdown",
   "metadata": {},
   "source": [
    "# Dictionaries\n",
    "\n",
    "Dictionaries are key:value pair stores, Key & Value.\n",
    "\n",
    "Dictionaries are declared using { }"
   ]
  },
  {
   "cell_type": "code",
   "execution_count": null,
   "metadata": {
    "collapsed": true
   },
   "outputs": [],
   "source": [
    "# Dictionaries are key:value pair stores, Key & Value. These are declared using {}\n",
    "\n",
    "fruits = {'Bananas':10, 'Strawberries':5, 'Pineapple':20}\n",
    "print(fruits)"
   ]
  },
  {
   "cell_type": "code",
   "execution_count": null,
   "metadata": {
    "collapsed": true
   },
   "outputs": [],
   "source": [
    "# Adding a dictionary entry is very simple\n",
    "# 'Apples' is the key while 8 is the value\n",
    "\n",
    "fruits['Apples'] = 8\n",
    "print(fruits)"
   ]
  },
  {
   "cell_type": "code",
   "execution_count": null,
   "metadata": {
    "collapsed": true
   },
   "outputs": [],
   "source": [
    "# Access the value of a specific key\n",
    "\n",
    "print(fruits['Pineapple'])"
   ]
  },
  {
   "cell_type": "code",
   "execution_count": null,
   "metadata": {
    "collapsed": true
   },
   "outputs": [],
   "source": [
    "## read interactive input \n",
    "\n",
    "a= int(input(\"enter the first number: \" ))\n",
    "b= int(input(\"enter the second number: \"))\n",
    "\n",
    "fruits['Oranges'] = a-b\n",
    "print(fruits)"
   ]
  },
  {
   "cell_type": "markdown",
   "metadata": {},
   "source": [
    "## .pop( ) deletes a key & value\n",
    "\n",
    "Argument passed in the bracket is the key you want to delete\n",
    "\n",
    "The value of the key will be printed out after the method called"
   ]
  },
  {
   "cell_type": "code",
   "execution_count": null,
   "metadata": {
    "collapsed": true
   },
   "outputs": [],
   "source": [
    "fruits.pop('Apples')"
   ]
  },
  {
   "cell_type": "code",
   "execution_count": null,
   "metadata": {
    "collapsed": true
   },
   "outputs": [],
   "source": [
    "print(fruits)"
   ]
  },
  {
   "cell_type": "markdown",
   "metadata": {},
   "source": [
    "## Exercise\n",
    "\n",
    "#### 1. Create a empty dictionary\n",
    "\n",
    "#### 2. Put in the value for the following keys and Print the dictionary\n",
    "    A. Your First Name\n",
    "    B. Your Last Name\n",
    "    C. Your Favorite Singer\n",
    "    D. Your Favorite Song"
   ]
  },
  {
   "cell_type": "code",
   "execution_count": null,
   "metadata": {
    "collapsed": true
   },
   "outputs": [],
   "source": [
    "# Question 1"
   ]
  },
  {
   "cell_type": "code",
   "execution_count": null,
   "metadata": {
    "collapsed": true
   },
   "outputs": [],
   "source": [
    "# Question 2"
   ]
  },
  {
   "cell_type": "markdown",
   "metadata": {},
   "source": [
    "# --------------------------------------------------------------------------------------------\n",
    "\n",
    "# Python built-in library module\n",
    "\n",
    "math - The math module implements many of the IEEE functions that would normally be found in the native platform C libraries for complex mathematical operations using floating point values, including logarithms and trigonometric operations.\n",
    "\n",
    "random - The random module provides a fast pseudorandom number generator based on the Mersenne Twister algorithm. Originally developed to produce inputs for Monte Carlo simulations, Mersenne Twister generates numbers with nearly uniform distribution and a large period, making it suited for a wide range of applications."
   ]
  },
  {
   "cell_type": "code",
   "execution_count": null,
   "metadata": {
    "collapsed": true
   },
   "outputs": [],
   "source": [
    "import math\n",
    "import random"
   ]
  },
  {
   "cell_type": "code",
   "execution_count": null,
   "metadata": {
    "collapsed": true
   },
   "outputs": [],
   "source": [
    "# Get the value of pi\n",
    "jupyter notebook\n",
    "print(math.pi)"
   ]
  },
  {
   "cell_type": "code",
   "execution_count": null,
   "metadata": {
    "collapsed": true
   },
   "outputs": [],
   "source": [
    "# Get the squareroot of 16\n",
    "\n",
    "math.sqrt(16) "
   ]
  },
  {
   "cell_type": "code",
   "execution_count": 91,
   "metadata": {
    "collapsed": true
   },
   "outputs": [],
   "source": [
    "# Get the squareroot of 100\n",
    "x = \"ksajdhgfkaj\""
   ]
  },
  {
   "cell_type": "code",
   "execution_count": null,
   "metadata": {
    "collapsed": true
   },
   "outputs": [],
   "source": [
    "# Round up 9.1\n",
    "\n",
    "print(math.ceil(9.1))"
   ]
  },
  {
   "cell_type": "code",
   "execution_count": null,
   "metadata": {
    "collapsed": true
   },
   "outputs": [],
   "source": [
    "# Round down 9.9\n",
    "\n",
    "print(math.floor(9.9))"
   ]
  },
  {
   "cell_type": "code",
   "execution_count": null,
   "metadata": {
    "collapsed": true
   },
   "outputs": [],
   "source": [
    "# Generate a random floating point number from 1 to 5\n",
    "\n",
    "random.uniform(1,5)"
   ]
  },
  {
   "cell_type": "code",
   "execution_count": null,
   "metadata": {
    "collapsed": true
   },
   "outputs": [],
   "source": [
    "# Generate a random float from 100 - 200\n",
    "\n"
   ]
  },
  {
   "cell_type": "code",
   "execution_count": null,
   "metadata": {
    "collapsed": true
   },
   "outputs": [],
   "source": [
    "# Generate a random integer from 1 to 5\n",
    "\n",
    "random.randint(1,5)"
   ]
  },
  {
   "cell_type": "code",
   "execution_count": null,
   "metadata": {
    "collapsed": true
   },
   "outputs": [],
   "source": [
    "# Generate a random integer from 10 - 200\n",
    "\n"
   ]
  },
  {
   "cell_type": "code",
   "execution_count": null,
   "metadata": {
    "collapsed": true
   },
   "outputs": [],
   "source": [
    "# Generate a random choice in a list\n",
    "\n",
    "refList = [1,2,3,'Hello', 'World']\n",
    "print(random.choice(refList))"
   ]
  },
  {
   "cell_type": "markdown",
   "metadata": {},
   "source": [
    "# -------------------------------------------------------------------------------------------\n",
    "\n",
    "\n",
    "# Homework\n",
    "\n",
    "## 1. Do the following and print your self introduction\n",
    "\n",
    "1) Try inputing your first name (firstName/first_name) and last name (lastName/last_name) using <font color=red>interactive input</font>, assigning them to a separate variables\n",
    "\n",
    "2) Concatenate the two variables into a string and assign it to yet another variable (fullName/full_name)\n",
    "\n",
    "3) Input your age using <font color=red>interactive input</font>, and assign it to a variable (age)\n",
    "\n",
    "4) Concatenate all the variables and print out <font color=red>\"[Yourfullname] is now [age] years old\".</font>  \n",
    "\n",
    "e.g Cristiano Ronadlo is now 32 years old\n"
   ]
  },
  {
   "cell_type": "code",
   "execution_count": null,
   "metadata": {
    "collapsed": true
   },
   "outputs": [],
   "source": []
  },
  {
   "cell_type": "markdown",
   "metadata": {},
   "source": [
    "## 1.2 Lists\n",
    "\n",
    "1) Creat a list of <font color=red>5 numbers</font>\n",
    "\n",
    "2) Create a sublist of 1st to 3rd index inclusive using the .slice( ) and assign it to a variable\n",
    "\n",
    "3) Create another list of <font color=red>4 numbers</font> and combine it with the sublist created in step (2)\n",
    "\n",
    "4) Reverse the list and then sort the list\n",
    "\n",
    "5) Print the result, the maximum number in the list and the minimum number in the list"
   ]
  },
  {
   "cell_type": "code",
   "execution_count": null,
   "metadata": {
    "collapsed": true
   },
   "outputs": [],
   "source": []
  },
  {
   "cell_type": "markdown",
   "metadata": {},
   "source": [
    "##  1.3 Count\n",
    "\n",
    "Count how many 'a' in this string -> 'bacbAcbcsabcacbAbcAbwacbacwab'\n",
    "\n",
    "Reminder: case insensitive"
   ]
  },
  {
   "cell_type": "code",
   "execution_count": null,
   "metadata": {
    "collapsed": true
   },
   "outputs": [],
   "source": []
  },
  {
   "cell_type": "code",
   "execution_count": null,
   "metadata": {
    "collapsed": true
   },
   "outputs": [],
   "source": []
  },
  {
   "cell_type": "markdown",
   "metadata": {},
   "source": [
    "Count how many 'a' in even index in the string this time\n",
    "\n",
    "ps: case sensitive\n",
    "\n",
    "hints: slicing works the same in string"
   ]
  },
  {
   "cell_type": "code",
   "execution_count": null,
   "metadata": {
    "collapsed": true
   },
   "outputs": [],
   "source": []
  },
  {
   "cell_type": "markdown",
   "metadata": {},
   "source": [
    "## 1.4 Dictionary\n",
    "\n",
    "Create a dictionary show how many times each number (1,2,3,4,5) appear in this string ->\n",
    "'A1f1f4d2s4g3a4s5d1f1df3s4dfg5a4d5f2s4d1f2f2g3s4d1g4'\n",
    "\n",
    "Hint: {1: value, 2: value, 3: value, 4: value, 5: value}"
   ]
  },
  {
   "cell_type": "code",
   "execution_count": null,
   "metadata": {
    "collapsed": true
   },
   "outputs": [],
   "source": []
  }
 ],
 "metadata": {
  "kernelspec": {
   "display_name": "Python 3",
   "language": "python",
   "name": "python3"
  },
  "language_info": {
   "codemirror_mode": {
    "name": "ipython",
    "version": 3
   },
   "file_extension": ".py",
   "mimetype": "text/x-python",
   "name": "python",
   "nbconvert_exporter": "python",
   "pygments_lexer": "ipython3",
   "version": "3.6.3"
  }
 },
 "nbformat": 4,
 "nbformat_minor": 2
}
