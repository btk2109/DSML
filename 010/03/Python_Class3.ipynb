{
 "cells": [
  {
   "cell_type": "markdown",
   "metadata": {},
   "source": [
    "![Image of Yaktocat](https://pbs.twimg.com/profile_images/811501827363520512/zhuGojAu_400x400.jpg)"
   ]
  },
  {
   "cell_type": "markdown",
   "metadata": {},
   "source": [
    "# Solution of Homework"
   ]
  },
  {
   "cell_type": "markdown",
   "metadata": {},
   "source": [
    "## 1. Do the following and print your self introduction\n",
    "\n",
    "1) Try inputing your first name (firstName/first_name) and last name (lastName/last_name) using <font color=red>interactive input</font>, assigning them to a separate variables\n",
    "\n",
    "2) Concatenate the two variables into a string and assign it to yet another variable (fullName/full_name)\n",
    "\n",
    "3) Input your age using <font color=red>interactive input</font>, and assign it to a variable (age)\n",
    "\n",
    "4) Concatenate all the variables and print out <font color=red>\"[Yourfullname] is now [age] years old\".</font>  \n",
    "\n",
    "e.g Cristiano Ronadlo is now 32 years old\n"
   ]
  },
  {
   "cell_type": "code",
   "execution_count": null,
   "metadata": {
    "collapsed": true
   },
   "outputs": [],
   "source": []
  },
  {
   "cell_type": "markdown",
   "metadata": {},
   "source": [
    "## 1.2 Lists\n",
    "\n",
    "1) Creat a list of <font color=red>5 numbers</font>\n",
    "\n",
    "2) Create a sublist of 1st to 3rd index inclusive using the .slice( ) and assign it to a variable\n",
    "\n",
    "3) Create another list of <font color=red>4 numbers</font> and combine it with the sublist created in step (2)\n",
    "\n",
    "4) Reverse the list and then sort the list\n",
    "\n",
    "5) Print the result, the maximum number in the list and the minimum number in the list"
   ]
  },
  {
   "cell_type": "code",
   "execution_count": null,
   "metadata": {
    "collapsed": true
   },
   "outputs": [],
   "source": []
  },
  {
   "cell_type": "markdown",
   "metadata": {},
   "source": [
    "##  1.3 Count\n",
    "\n",
    "Count how many 'a' in this string -> 'bacbAcbcsabcacbAbcAbwacbacwab'\n",
    "\n",
    "Reminder: case insensitive"
   ]
  },
  {
   "cell_type": "code",
   "execution_count": null,
   "metadata": {
    "collapsed": true
   },
   "outputs": [],
   "source": []
  },
  {
   "cell_type": "markdown",
   "metadata": {},
   "source": [
    "Count how many 'a' in even index in the string this time\n",
    "\n",
    "ps: case sensitive\n",
    "\n",
    "hints: slicing works the same in string"
   ]
  },
  {
   "cell_type": "code",
   "execution_count": null,
   "metadata": {
    "collapsed": true
   },
   "outputs": [],
   "source": []
  },
  {
   "cell_type": "markdown",
   "metadata": {},
   "source": [
    "## 1.4 Dictionary\n",
    "\n",
    "Create a dictionary show how many times each number (1,2,3,4,5) appear in this string ->\n",
    "'A1f1f4d2s4g3a4s5d1f1df3s4dfg5a4d5f2s4d1f2f2g3s4d1g4'\n",
    "\n",
    "Hint: {1: value, 2: value, 3: value, 4: value, 5: value}"
   ]
  },
  {
   "cell_type": "code",
   "execution_count": null,
   "metadata": {
    "collapsed": true
   },
   "outputs": [],
   "source": []
  },
  {
   "cell_type": "markdown",
   "metadata": {},
   "source": [
    "# Lesson 3\n",
    "\n",
    "\n",
    "## Today Lesson\n",
    "\n",
    "### 1a. Function\n",
    "\n",
    "a) Understand the syntax of Python Function\n",
    "\n",
    "b) Write your own function\n",
    "\t\n",
    "### 1b. Loop\n",
    "\n",
    "a) Understand for loop & while loop\n",
    "\n",
    "b) Understand using range() in loop\n",
    "\n",
    "### 1c. Conditional\n",
    "\n",
    "a) Undetstand if, elif & else\n",
    "\n",
    "### 1d. Homework\n",
    "\n",
    "a) Paper Scissor Stone"
   ]
  },
  {
   "cell_type": "markdown",
   "metadata": {},
   "source": [
    "# ----------------------------------------------------------------------------------------\n",
    "\n",
    "# Indentation\n",
    "\n",
    "Python programs get structured through indentation, \n",
    "i.e. code blocks are defined by their indentation. \n",
    "\n",
    "This principle makes it easier to read and understand other people's Python code.\n",
    "how does it work? \n",
    "\n",
    "All statements with the same distance to the right belong to the same block of code, \n",
    "i.e. the statements within a block line up vertically. The block ends at a line less indented or the end of the file. \n",
    "If a block has to be more deeply nested, it is simply indented further to the right"
   ]
  },
  {
   "cell_type": "markdown",
   "metadata": {},
   "source": [
    "<img style='max-width: 80%' src='https://storage.googleapis.com/bwdb/acceleratehk_DSML/class_1/ds18.PNG'>"
   ]
  },
  {
   "cell_type": "markdown",
   "metadata": {},
   "source": [
    "<img style='max-width: 80%' src='https://storage.googleapis.com/bwdb/acceleratehk_DSML/class_1/ds19.PNG'>"
   ]
  },
  {
   "cell_type": "markdown",
   "metadata": {},
   "source": [
    "# ----------------------------------------------------------------------------------------\n",
    "\n",
    "\n",
    "\n",
    "# Function\n",
    "\n",
    "<img style='max-width: 80%' src='https://www.safaribooksonline.com/library/view/head-first-python/9781449397524/httpatomoreillycomsourceoreillyimages1368386.png.jpg'>\n",
    "\n",
    "\n",
    "Functions are an integral part of Python where you can make seperate modules, and call them whenever they are needed. Let's go through the syntax first, and then step-by-step, make a function for finding if a number is a whole square"
   ]
  },
  {
   "cell_type": "markdown",
   "metadata": {},
   "source": [
    "## Try to write your own functions\n",
    "\n",
    "### I want to calculate the difference between the smallest number in list 1 and the largest number in list 2\n",
    "\n",
    "##### List 1: [2, 12, 43, 9, 98]\n",
    "\n",
    "##### List 2: [12, 224, 223, 24, 0]"
   ]
  },
  {
   "cell_type": "markdown",
   "metadata": {},
   "source": [
    "# Step One\n",
    "\n",
    "### A function that takes 1 argument (A List / A Tuple) and find the smallest number in it\n"
   ]
  },
  {
   "cell_type": "code",
   "execution_count": null,
   "metadata": {
    "collapsed": true
   },
   "outputs": [],
   "source": [
    "def min_function(list_input):\n",
    "    list_input.sort()\n",
    "    return list_input[0]\n",
    "\n",
    "list_a_smallest = min_function([2, 12, 43, 9, 98])\n",
    "print(list_a_smallest)"
   ]
  },
  {
   "cell_type": "markdown",
   "metadata": {},
   "source": [
    "# Step Two\n",
    "\n",
    "### A function that takes 1 argument (A List / A Tuple) and find the largest number in it"
   ]
  },
  {
   "cell_type": "code",
   "execution_count": 3,
   "metadata": {
    "collapsed": true
   },
   "outputs": [
    {
     "name": "stdout",
     "output_type": "stream",
     "text": [
      "528 ns ± 7.31 ns per loop (mean ± std. dev. of 7 runs, 1000000 loops each)\n"
     ]
    }
   ],
   "source": [
    "%%timeit\n",
    "def max_function1(list_input):\n",
    "    list_input.sort()\n",
    "    return list_input[-1]\n",
    "    \n",
    "list_b_largest = max_function1([12, 224, 223, 24, 0])\n",
    "# print(list_b_largest)"
   ]
  },
  {
   "cell_type": "code",
   "execution_count": 4,
   "metadata": {},
   "outputs": [
    {
     "name": "stdout",
     "output_type": "stream",
     "text": [
      "473 ns ± 10.6 ns per loop (mean ± std. dev. of 7 runs, 1000000 loops each)\n"
     ]
    }
   ],
   "source": [
    "%%timeit\n",
    "def max_function2(list_input):\n",
    "    n = list_input[0]\n",
    "    for x in list_input:\n",
    "        if x < n:\n",
    "            n =x\n",
    "    return n\n",
    "    \n",
    "list_b_largest = max_function2([12, 224, 223, 24, 0])"
   ]
  },
  {
   "cell_type": "markdown",
   "metadata": {},
   "source": [
    "## Final Step\n",
    "\n",
    "### A function that takes two arguments and find the difference"
   ]
  },
  {
   "cell_type": "code",
   "execution_count": null,
   "metadata": {},
   "outputs": [],
   "source": [
    "nakedStudent \n",
    "n/\\kednaked"
   ]
  },
  {
   "cell_type": "code",
   "execution_count": null,
   "metadata": {
    "collapsed": true
   },
   "outputs": [],
   "source": [
    "def find_the_difference(smallest, largest):\n",
    "    return largest - smallest\n",
    "\n",
    "difference = find_the_difference(list_a_smallest, list_b_largest)\n",
    "print(difference)"
   ]
  },
  {
   "cell_type": "code",
   "execution_count": 5,
   "metadata": {},
   "outputs": [
    {
     "data": {
      "text/plain": [
       "'ff'"
      ]
     },
     "execution_count": 5,
     "metadata": {},
     "output_type": "execute_result"
    }
   ],
   "source": [
    "input (\"gooo\")"
   ]
  },
  {
   "cell_type": "markdown",
   "metadata": {},
   "source": [
    "## Or We can do it in one function"
   ]
  },
  {
   "cell_type": "code",
   "execution_count": null,
   "metadata": {
    "collapsed": true
   },
   "outputs": [],
   "source": [
    "# We can call other defined functions in a function\n",
    "\n"
   ]
  },
  {
   "cell_type": "markdown",
   "metadata": {},
   "source": [
    "## What is return?\n",
    "\n",
    "##### A function can take some input (usually one or more variables or values) and return some output (usually a single value).\n",
    "\n",
    "##### Arguments are the input & Return is the output \n",
    "\n",
    "##### Return ends a function\n",
    "\n",
    "<img src='http://i.imgur.com/UaM7EoK.png' style='text-align: center;'>\n",
    "\n",
    "\n",
    "### Difference between <font color='Navy'>Return</font> & <font color='Navy'>Print</font>:\n",
    "\n",
    "##### Print is for people. Print has no effect on the ongoing execution of a program. It doesn’t assign a value to a variable. It doesn’t return a value from a function call.\n",
    "\n",
    "##### What does Return do:\n",
    "\n",
    "#### 1. Save it for later. The returned value may be:\n",
    "\n",
    "    A) Assigned to a variable. For example, w = square(3)\n",
    "\n",
    "    B) Put in a list. For example, L.append(square(3))\n",
    "\n",
    "    C) Put in a dictionary. For example, d[3] = square(3)\n",
    "    \n",
    "    \n",
    "\n",
    "#### 2. Use it in a more complex expression.\n",
    "\n",
    "    In that case, think of the return value as replacing the entire text of the function invocation. For example, if there is a line of code w = square(square(3) + 7) - 5, think of the return value 9 replacing the text square(3) in that invocation, so it becomes square(9 + 7) -5.\n",
    "\n",
    "##### 4. Print it for human consumption.\n",
    "    For example, print square(3) outputs 9 to the output area. Note that, unless the return value is first saved as in possibility 1, it will be available only to the humans watching the output area, not to the program as it continues executing.\n",
    "\n",
    "http://interactivepython.org/runestone/static/pip2/Functions/Returningavaluefromafunction.html\n",
    "\n",
    "http://interactivepython.org/runestone/static/pip2/Functions/Printvs.return.html"
   ]
  },
  {
   "cell_type": "markdown",
   "metadata": {},
   "source": [
    "## Exercise\n",
    "\n",
    "##### 1. Please write a function to calculate the sum of the numbers in the following list\n",
    "\n",
    "list = [10, 20, 50, 60]"
   ]
  },
  {
   "cell_type": "code",
   "execution_count": null,
   "metadata": {
    "collapsed": true,
    "scrolled": true
   },
   "outputs": [],
   "source": [
    "# Question 1"
   ]
  },
  {
   "cell_type": "markdown",
   "metadata": {},
   "source": [
    "# ----------------------------------------------------------------------------------------\n",
    "\n",
    "# Conditional\n",
    "\n",
    "### If statements are very useful ways to fork the code. If x is true then you do something, otherwise,  do something else.\n",
    "\n",
    "<img style='max-width: 80%' src='https://www.tutorialspoint.com/python/images/if_else_statement.jpg'>\n",
    "\n",
    "##### Following function checks if a user is legal to drink"
   ]
  },
  {
   "cell_type": "code",
   "execution_count": null,
   "metadata": {
    "collapsed": true
   },
   "outputs": [],
   "source": [
    "# Write a function & the argument uses an input() to ask for user's age\n",
    "\n",
    "def legal_to_drink(input):\n",
    "    if input >= 18:\n",
    "        return 'You can drink legally'\n",
    "    else:\n",
    "        return 'You have not passed the legal drinking age'\n",
    "\n",
    "print(legal_to_drink(int(input('How old are you? '))))"
   ]
  },
  {
   "cell_type": "markdown",
   "metadata": {},
   "source": [
    "## Another way to use if statements are by adding more clauses using the elif statement. (elif = else-if)\n",
    "\n",
    "<img style='max-width: 60%' src='http://www.softqe.com/wp-content/uploads/2016/12/python-if-else-elif-1024x550.png'>\n",
    "\n",
    "##### Following function checks the grade a user gets"
   ]
  },
  {
   "cell_type": "code",
   "execution_count": null,
   "metadata": {
    "collapsed": true
   },
   "outputs": [],
   "source": [
    "def exam_grade(score):\n",
    "    if score >= 90:\n",
    "        letter = 'A'\n",
    "    elif score >= 80:\n",
    "        letter = 'B'\n",
    "    elif score >= 70:\n",
    "        letter = 'C'\n",
    "    elif score >= 60:\n",
    "        letter = 'D'\n",
    "    else:\n",
    "        letter = 'F'\n",
    "    return 'You get a ' + letter\n",
    "\n",
    "print(exam_grade(int(input('Whats the marks of your exam? '))))"
   ]
  },
  {
   "cell_type": "markdown",
   "metadata": {},
   "source": [
    "## Exercise\n",
    "\n",
    "##### 1. Write a function to check if the input to the power six can be divided by 3. If so, return 'Yes, 3 is a factor', otherwise return '3 is not a factor'"
   ]
  },
  {
   "cell_type": "code",
   "execution_count": null,
   "metadata": {
    "collapsed": true
   },
   "outputs": [],
   "source": [
    "# Question 1"
   ]
  },
  {
   "cell_type": "markdown",
   "metadata": {},
   "source": [
    "## Combining conditionals with or / and\n",
    "\n",
    "### 1. or -> Either one is True\n",
    "\n",
    "### 2. and -> Both correct \n",
    "\n",
    "##### Following function checks what alcohol  a user can buy"
   ]
  },
  {
   "cell_type": "code",
   "execution_count": null,
   "metadata": {
    "collapsed": true
   },
   "outputs": [],
   "source": [
    "# Write a function & the argument uses an input() to ask for user's budget\n",
    "\n",
    "def what_to_drink(input):\n",
    "    if input > 50 and input < 80:\n",
    "        return 'Maybe have some beer'\n",
    "    elif input >= 80 and input < 150:\n",
    "        return 'Maybe a glass of wine'\n",
    "    elif input > 150 and input < 300:\n",
    "        return 'Maybe some whiskey'\n",
    "    elif input >= 300:\n",
    "        return 'Maybe a bottle of wine'\n",
    "    else:\n",
    "        return 'Maybe it is time for you to sleep'\n",
    "\n",
    "what_to_drink(int(input('How much is your budget? ')))"
   ]
  },
  {
   "cell_type": "markdown",
   "metadata": {},
   "source": [
    "## Exercise \n",
    "\n",
    "##### 1. Write a function to check if the input is a leap year. If so,  return 'LEAP YEAR', otherwise, return 'Noooooooo'\n",
    "    on every year that is evenly divisible by 4\n",
    "    except every year that is evenly divisible by 100\n",
    "    unless the year is also evenly divisible by 400"
   ]
  },
  {
   "cell_type": "code",
   "execution_count": null,
   "metadata": {
    "collapsed": true
   },
   "outputs": [],
   "source": [
    "# Question 1"
   ]
  },
  {
   "cell_type": "markdown",
   "metadata": {},
   "source": [
    "# ----------------------------------------------------------------------------------------\n",
    "\n",
    "# Loop\n",
    "\n",
    "Loops are a very useful way of repeating something over and over again, with some conditionals on when to break them. There are two kinds of loops: \n",
    "    1. for \n",
    "    2. while\n",
    "\n",
    "#### For loops are usually used for iterating through lists and doing something with every iteration (element). \n",
    "\n",
    "#### While loops are used when a condition needs to be checked each iteration, or to repeat a block of code forever"
   ]
  },
  {
   "cell_type": "markdown",
   "metadata": {},
   "source": [
    "# For loop\n",
    "\n",
    "### It iterates through a collection or iterable object or generator function.\n",
    "\n",
    "#### Syntax\n",
    "\n",
    "for iterating_var in sequence:\n",
    "   \n",
    "       statements(s)\n",
    "       \n",
    "<img style='max-width: 80%; height: 300px;' src='https://cdn.programiz.com/sites/tutorial2program/files/forLoop.jpg'>"
   ]
  },
  {
   "cell_type": "markdown",
   "metadata": {},
   "source": [
    "## Use a for loop inside a function to concatenate all the elements in a list"
   ]
  },
  {
   "cell_type": "code",
   "execution_count": null,
   "metadata": {
    "collapsed": true
   },
   "outputs": [],
   "source": [
    "# Example 1\n",
    "\n",
    "list_a = ['Hi', 'This', 'is', 'the', 'third', 'lesson']\n",
    "\n",
    "def sentence(input):\n",
    "    output = ''\n",
    "    for element in input:\n",
    "        output = output + ' ' + element\n",
    "    return output\n",
    "\n",
    "print(sentence(list_a))"
   ]
  },
  {
   "cell_type": "markdown",
   "metadata": {},
   "source": [
    "## On the above example, there is an unnecessary space at the beginning\n",
    "\n",
    "#### Obviously we can use .strip( ) to remove it, but we can also use slice to help"
   ]
  },
  {
   "cell_type": "code",
   "execution_count": null,
   "metadata": {
    "collapsed": true
   },
   "outputs": [],
   "source": [
    "# Use slice method\n",
    "\n",
    "def sentence(input):\n",
    "    output = input[0]\n",
    "    for element in input[1:]:\n",
    "        output = output + ' ' + element\n",
    "    return output\n",
    "\n",
    "print(sentence(list_a))"
   ]
  },
  {
   "cell_type": "markdown",
   "metadata": {},
   "source": [
    "## Exercise\n",
    "\n",
    "##### Find the divisor of a integer\n",
    "\n",
    "    A) Use random library to get a random integer from 20 - 30\n",
    "    B) Put the divisors into a list, return the result at the end"
   ]
  },
  {
   "cell_type": "code",
   "execution_count": null,
   "metadata": {
    "collapsed": true
   },
   "outputs": [],
   "source": [
    "# Question 1"
   ]
  },
  {
   "cell_type": "markdown",
   "metadata": {},
   "source": [
    "## Sometimes we want to access the index of the elements while using a for loop\n",
    "\n",
    "We use range(), it takes two arguments: \n",
    "    1. Start Point\n",
    "    2. End Point\n",
    "    \n",
    "If only one value is passed into the bracket, by default it will be assumed as end point"
   ]
  },
  {
   "cell_type": "code",
   "execution_count": null,
   "metadata": {
    "collapsed": true
   },
   "outputs": [],
   "source": [
    "# A function add 4 to each elements in a number list\n",
    "\n",
    "num_list = [2, 3, 5, 12, 15, 24, 38]\n",
    "\n",
    "def add_two(input):\n",
    "    for i in range(0, len(input)):\n",
    "        input[i] = input[i] + 4\n",
    "    return input\n",
    "\n",
    "print(add_two(num_list))"
   ]
  },
  {
   "cell_type": "code",
   "execution_count": null,
   "metadata": {
    "collapsed": true
   },
   "outputs": [],
   "source": [
    "# Using the range() can access elements in two different lists with same length & modify them at the same time\n",
    "# Though there is no return in the function, the for loop has run & the codes in for loop executed\n",
    "# Hence the value of the elements in the lists have changed\n",
    "\n",
    "num_list_a = [5, 10, 15, 20, 25, 30]\n",
    "num_list_b = [8, 16, 24, 32, 40, 48]\n",
    "\n",
    "def lists_changes(x, y):\n",
    "    for i in range(len(x)):\n",
    "        x[i] *= 9\n",
    "        y[i] //= 4\n",
    "\n",
    "lists_changes(num_list_a, num_list_b)\n",
    "print(num_list_a)\n",
    "print(num_list_b)"
   ]
  },
  {
   "cell_type": "markdown",
   "metadata": {},
   "source": [
    "## Exercise\n",
    "\n",
    "##### 1. Check how many pairs (elements in the same index) has the same value in two lists\n",
    "    list_a = [1,2,3,4,5,6,7,8,9,10]\n",
    "    list_b = [1,2,3,4,5,6,7,8,9,10]"
   ]
  },
  {
   "cell_type": "code",
   "execution_count": null,
   "metadata": {
    "collapsed": true
   },
   "outputs": [],
   "source": [
    "# Question 1\n",
    "# Some of the steps are done for you, random.shuffle() randomly shuffle the order of the elements within each lists\n",
    "\n",
    "import random\n",
    "\n",
    "list_a = [1,2,3,4,5,6,7,8,9,10]\n",
    "list_b = [1,2,3,4,5,6,7,8,9,10]\n",
    "random.shuffle(list_a)\n",
    "random.shuffle(list_b)\n",
    "\n"
   ]
  },
  {
   "cell_type": "markdown",
   "metadata": {},
   "source": [
    "# ----------------------------------------------------------------------------------------\n",
    "\n",
    "# While Loop\n",
    "\n",
    "### It simply loops until a condition is False.\n",
    "\n",
    "<img src='http://csharp.net-informations.com/statements/img/while-loop.png' style='max-widh: 80%'>\n",
    "\n",
    "##### Following functions will dedcut the value of input when it is larger than 10"
   ]
  },
  {
   "cell_type": "code",
   "execution_count": null,
   "metadata": {
    "collapsed": true
   },
   "outputs": [],
   "source": [
    "# See what print() does\n",
    "\n",
    "def no_larger_than_ten(input):\n",
    "    while input >= 10:\n",
    "        input = input - 3\n",
    "        print(input)\n",
    "    return input\n",
    "\n",
    "no_larger_than_ten(30)"
   ]
  },
  {
   "cell_type": "markdown",
   "metadata": {},
   "source": [
    "## Some of the time we use for recursive function\n",
    "\n",
    "##### Following function finds out the factorial of a number"
   ]
  },
  {
   "cell_type": "code",
   "execution_count": null,
   "metadata": {
    "collapsed": true
   },
   "outputs": [],
   "source": [
    "def factorial(input):\n",
    "    while input > 1:\n",
    "        return input * factorial( input-1 )\n",
    "    return 1\n",
    "    \n",
    "print(factorial(5))"
   ]
  },
  {
   "cell_type": "markdown",
   "metadata": {},
   "source": [
    "## Use help( ) to understand more"
   ]
  },
  {
   "cell_type": "code",
   "execution_count": null,
   "metadata": {
    "collapsed": true
   },
   "outputs": [],
   "source": [
    "help('for')"
   ]
  },
  {
   "cell_type": "code",
   "execution_count": null,
   "metadata": {
    "collapsed": true
   },
   "outputs": [],
   "source": [
    "help('while')"
   ]
  },
  {
   "cell_type": "markdown",
   "metadata": {},
   "source": [
    "# ----------------------------------------------------------------------------------------\n",
    "\n",
    "# Exercise\n",
    "\n",
    "##### 1. Write a function finds the mean of the numbers in the list. Check if it is larger than 27, if yes, return 'The mean is large', otherwise return 'The mean is small'\n",
    "    list = [6, 5, 23, 32, 24, 91, 13]\n",
    "    \n",
    "##### 2. Write a function checks a random number from 1 - 80 is a prime number or not\n",
    "\n",
    "##### 3. Write a function that takes multiple arguments and finds the mean of the numbers amongst the arugments\n",
    "    Hint: Pass *argv in the bracket\n",
    "          Try to print it in your function to understand it"
   ]
  },
  {
   "cell_type": "code",
   "execution_count": null,
   "metadata": {
    "collapsed": true
   },
   "outputs": [],
   "source": [
    "# Question 1"
   ]
  },
  {
   "cell_type": "code",
   "execution_count": null,
   "metadata": {
    "collapsed": true
   },
   "outputs": [],
   "source": [
    "# Question 2"
   ]
  },
  {
   "cell_type": "code",
   "execution_count": null,
   "metadata": {
    "collapsed": true
   },
   "outputs": [],
   "source": [
    "# Question 3"
   ]
  },
  {
   "cell_type": "markdown",
   "metadata": {},
   "source": [
    "# ----------------------------------------------------------------------------------------\n",
    "\n",
    "# Homework\n",
    "\n",
    "#### Write a paper scissor stone game, user plays against computer. The one who wins 2 out of 3 rounds is the winner\n",
    "\n",
    "    Hint: Three functions, one computer, one player & one judge\n",
    "          Use random library in the computer function"
   ]
  },
  {
   "cell_type": "code",
   "execution_count": null,
   "metadata": {
    "collapsed": true
   },
   "outputs": [],
   "source": [
    "# Question 1"
   ]
  },
  {
   "cell_type": "code",
   "execution_count": null,
   "metadata": {
    "collapsed": true
   },
   "outputs": [],
   "source": []
  }
 ],
 "metadata": {
  "kernelspec": {
   "display_name": "Python 3",
   "language": "python",
   "name": "python3"
  },
  "language_info": {
   "codemirror_mode": {
    "name": "ipython",
    "version": 3
   },
   "file_extension": ".py",
   "mimetype": "text/x-python",
   "name": "python",
   "nbconvert_exporter": "python",
   "pygments_lexer": "ipython3",
   "version": "3.6.3"
  }
 },
 "nbformat": 4,
 "nbformat_minor": 2
}
