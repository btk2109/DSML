{
 "cells": [
  {
   "cell_type": "markdown",
   "metadata": {},
   "source": [
    "![Image of Yaktocat](https://pbs.twimg.com/profile_images/811501827363520512/zhuGojAu_400x400.jpg)"
   ]
  },
  {
   "cell_type": "markdown",
   "metadata": {},
   "source": [
    "# Lesson 2"
   ]
  },
  {
   "cell_type": "markdown",
   "metadata": {},
   "source": [
    "## Hw Solution 1\n",
    "\n",
    "1) Try input your first name and last name using interactive input, and work out your full name\n",
    "\n",
    "2) Type in your age using interactive input, and assign it as integer to the age variable\n",
    "\n",
    "3) Complete the code so it prints out \"[Yourname] is now [age] years old\". e.g Cristiano Ronadlo is now 32 years old"
   ]
  },
  {
   "cell_type": "code",
   "execution_count": 6,
   "metadata": {},
   "outputs": [
    {
     "name": "stdout",
     "output_type": "stream",
     "text": [
      "What is your first name:\n",
      "\n",
      "What is your last name?\n",
      "\n",
      "What is your age:\n",
      "\n",
      "  is now \n"
     ]
    }
   ],
   "source": [
    "firstName = str(input('What is your first name:\\n'))\n",
    "lastName = str(input('What is your last name?\\n'))\n",
    "age = str(input('What is your age:\\n'))\n",
    "selfIntro = firstName + ' ' + lastName + ' is now ' + age\n",
    "print(selfIntro)"
   ]
  },
  {
   "cell_type": "code",
   "execution_count": 7,
   "metadata": {},
   "outputs": [
    {
     "name": "stdout",
     "output_type": "stream",
     "text": [
      "Enter your name: \n"
     ]
    }
   ],
   "source": [
    "name = input(\"Enter your name: \")"
   ]
  },
  {
   "cell_type": "code",
   "execution_count": 8,
   "metadata": {},
   "outputs": [
    {
     "name": "stdout",
     "output_type": "stream",
     "text": [
      "Enter your age: 23\n"
     ]
    }
   ],
   "source": [
    "age = int(input((\"Enter your age: \")))"
   ]
  },
  {
   "cell_type": "code",
   "execution_count": 9,
   "metadata": {},
   "outputs": [
    {
     "name": "stdout",
     "output_type": "stream",
     "text": [
      " is now 23\n"
     ]
    }
   ],
   "source": [
    "print(name, \"is now\", str(age))"
   ]
  },
  {
   "cell_type": "markdown",
   "metadata": {},
   "source": [
    "## HW Solution 2\n",
    "\n",
    "1) Creat a list of 5 random numbers\n",
    "\n",
    "2) Use slicing to call out number from 1st to 3rd index inclusive\n",
    "\n",
    "3) Creat another list of 4 random numbers and connect it with the previous list\n",
    "\n",
    "4) Reverse the list and then sort the list"
   ]
  },
  {
   "cell_type": "code",
   "execution_count": 19,
   "metadata": {
    "collapsed": true
   },
   "outputs": [],
   "source": [
    "listA = [44,33,22,26,56]"
   ]
  },
  {
   "cell_type": "code",
   "execution_count": 21,
   "metadata": {},
   "outputs": [
    {
     "data": {
      "text/plain": [
       "[33, 22, 26]"
      ]
     },
     "execution_count": 21,
     "metadata": {},
     "output_type": "execute_result"
    }
   ],
   "source": [
    "sublist = listA[1:4]\n",
    "sublist"
   ]
  },
  {
   "cell_type": "code",
   "execution_count": 22,
   "metadata": {
    "collapsed": true
   },
   "outputs": [],
   "source": [
    "listB = [21,16,17,34]"
   ]
  },
  {
   "cell_type": "code",
   "execution_count": 23,
   "metadata": {
    "collapsed": true
   },
   "outputs": [],
   "source": [
    "listA.extend(listB)"
   ]
  },
  {
   "cell_type": "code",
   "execution_count": 24,
   "metadata": {},
   "outputs": [
    {
     "data": {
      "text/plain": [
       "[44, 33, 22, 26, 56, 21, 16, 17, 34]"
      ]
     },
     "execution_count": 24,
     "metadata": {},
     "output_type": "execute_result"
    }
   ],
   "source": [
    "listA"
   ]
  },
  {
   "cell_type": "code",
   "execution_count": 25,
   "metadata": {
    "collapsed": true
   },
   "outputs": [],
   "source": [
    "listA.reverse()"
   ]
  },
  {
   "cell_type": "code",
   "execution_count": 26,
   "metadata": {},
   "outputs": [
    {
     "data": {
      "text/plain": [
       "[34, 17, 16, 21, 56, 26, 22, 33, 44]"
      ]
     },
     "execution_count": 26,
     "metadata": {},
     "output_type": "execute_result"
    }
   ],
   "source": [
    "listA"
   ]
  },
  {
   "cell_type": "code",
   "execution_count": 27,
   "metadata": {
    "collapsed": true
   },
   "outputs": [],
   "source": [
    "listA.sort()"
   ]
  },
  {
   "cell_type": "code",
   "execution_count": 28,
   "metadata": {},
   "outputs": [
    {
     "data": {
      "text/plain": [
       "[16, 17, 21, 22, 26, 33, 34, 44, 56]"
      ]
     },
     "execution_count": 28,
     "metadata": {},
     "output_type": "execute_result"
    }
   ],
   "source": [
    "listA"
   ]
  },
  {
   "cell_type": "markdown",
   "metadata": {},
   "source": [
    "## HW Solution 3\n",
    "\n",
    "Part A - Count how many 'a' in this string -> 'bacbAcbcsabcacbAbcAbwacbacwab'\n",
    "\n",
    "Part B - Count how many 'a' in odd index in the string this time"
   ]
  },
  {
   "cell_type": "code",
   "execution_count": 35,
   "metadata": {},
   "outputs": [
    {
     "name": "stdout",
     "output_type": "stream",
     "text": [
      "9\n"
     ]
    }
   ],
   "source": [
    "# Part A\n",
    "\n",
    "string = 'bacbAcbcsabcacbAbcAbwacbacwab'\n",
    "splitedStr = string.lower().split('a')\n",
    "splitedStr = ('').join(newStr)\n",
    "print(len(string) - len(splitedStr))"
   ]
  },
  {
   "cell_type": "code",
   "execution_count": 40,
   "metadata": {},
   "outputs": [
    {
     "name": "stdout",
     "output_type": "stream",
     "text": [
      "4\n"
     ]
    }
   ],
   "source": [
    "# Part B\n",
    "\n",
    "string = 'bacbAcbcsabcacbAbcAbwacbacwab'\n",
    "slicedStr = string[1:-1:2]\n",
    "\n",
    "sliced_splited_Str = slicedStr.split('a')\n",
    "\n",
    "sliced_splited_Str = ''.join(newStrB)\n",
    "\n",
    "print(len(slicedStr) - len(sliced_splited_Str))\n"
   ]
  },
  {
   "cell_type": "markdown",
   "metadata": {},
   "source": [
    "## HW Solution 4\n",
    "\n",
    "Create a dictionary show how many times each number (1,2,3,4,5) appear in this string ->\n",
    "'A1f1f4d2s4g3a4s5d1f1df3s4dfg5a4d5f2s4d1f2f2g3s4d1g4'"
   ]
  },
  {
   "cell_type": "code",
   "execution_count": 43,
   "metadata": {},
   "outputs": [
    {
     "data": {
      "text/plain": [
       "{1: 6, 2: 4, 3: 3, 4: 8, 5: 3}"
      ]
     },
     "execution_count": 43,
     "metadata": {},
     "output_type": "execute_result"
    }
   ],
   "source": [
    "string = 'A1f1f4d2s4g3a4s5d1f1df3s4dfg5a4d5f2s4d1f2f2g3s4d1g4'\n",
    "\n",
    "dictionary = {}\n",
    "\n",
    "dictionary[1] = len(string) - len(''.join(string.split('1')))\n",
    "dictionary[2] = len(string) - len(''.join(string.split('2')))\n",
    "dictionary[3] = len(string) - len(''.join(string.split('3')))\n",
    "dictionary[4] = len(string) - len(''.join(string.split('4')))\n",
    "dictionary[5] = len(string) - len(''.join(string.split('5')))\n",
    "\n",
    "dictionary"
   ]
  },
  {
   "cell_type": "markdown",
   "metadata": {},
   "source": [
    "# --------------------------------------------------------------------------------------------\n",
    "\n",
    "# Indentation"
   ]
  },
  {
   "cell_type": "markdown",
   "metadata": {},
   "source": [
    "Python programs get structured through indentation, \n",
    "i.e. code blocks are defined by their indentation. \n",
    "\n",
    "This principle makes it easier to read and understand other people's Python code.\n",
    "how does it work? \n",
    "\n",
    "All statements with the same distance to the right belong to the same block of code, \n",
    "i.e. the statements within a block line up vertically. The block ends at a line less indented or the end of the file. \n",
    "If a block has to be more deeply nested, it is simply indented further to the right"
   ]
  },
  {
   "cell_type": "markdown",
   "metadata": {},
   "source": [
    "![Image of Yaktocat](https://storage.googleapis.com/bwdb/acceleratehk_DSML/class_1/ds18.PNG)"
   ]
  },
  {
   "cell_type": "markdown",
   "metadata": {},
   "source": [
    "![Image of Yaktocat](https://storage.googleapis.com/bwdb/acceleratehk_DSML/class_1/ds19.PNG)"
   ]
  },
  {
   "cell_type": "markdown",
   "metadata": {
    "collapsed": true
   },
   "source": [
    "# --------------------------------------------------------------------------------------------\n",
    "\n",
    "# Booleans & Conditionals\n",
    "\n",
    "Booleans are an important part of coding. They are like a switch and can only have two values: True or False. They are very useful in conditional statements that we will be discussing next. But first, \n"
   ]
  },
  {
   "cell_type": "code",
   "execution_count": 44,
   "metadata": {},
   "outputs": [
    {
     "data": {
      "text/plain": [
       "False"
      ]
     },
     "execution_count": 44,
     "metadata": {},
     "output_type": "execute_result"
    }
   ],
   "source": [
    "# As explianed before == is a comparison operator. In this e.g. its comparing whether x equals 6\n",
    "# , which is not true so it will give a false statement\n",
    "\n",
    "x = 11\n",
    "x == 6 "
   ]
  },
  {
   "cell_type": "code",
   "execution_count": 48,
   "metadata": {},
   "outputs": [
    {
     "data": {
      "text/plain": [
       "True"
      ]
     },
     "execution_count": 48,
     "metadata": {},
     "output_type": "execute_result"
    }
   ],
   "source": [
    "# != is a not equal comparison operator\n",
    "# It simply states if x/5 in not equal to 2, \n",
    "# which in this case it does not equal 2, so print out True\n",
    "\n",
    "x/5 != 2"
   ]
  },
  {
   "attachments": {
    "image.png": {
     "image/png": "[encoded data removed]"
    }
   },
   "cell_type": "markdown",
   "metadata": {},
   "source": [
    "![image.png](attachment:image.png)"
   ]
  },
  {
   "cell_type": "markdown",
   "metadata": {},
   "source": [
    "## Conditionals"
   ]
  },
  {
   "cell_type": "markdown",
   "metadata": {},
   "source": [
    "## If statements are very useful ways to fork the code. If x is true then you do something, otherwise,  do something else.\n",
    "\n",
    "![title](https://www.tutorialspoint.com/python/images/if_else_statement.jpg)"
   ]
  },
  {
   "cell_type": "code",
   "execution_count": 4,
   "metadata": {},
   "outputs": [
    {
     "name": "stdout",
     "output_type": "stream",
     "text": [
      "13\n"
     ]
    }
   ],
   "source": [
    "if x <= 20:\n",
    "    x += 2\n",
    "    print (x)\n",
    "else:\n",
    "    print (x)"
   ]
  },
  {
   "cell_type": "markdown",
   "metadata": {},
   "source": [
    "## Another way to use if statements are by adding more clauses using the elif statement. (elif = else-if)\n",
    "\n",
    "![title](http://www.softqe.com/wp-content/uploads/2016/12/python-if-else-elif-1024x550.png)"
   ]
  },
  {
   "cell_type": "code",
   "execution_count": 32,
   "metadata": {},
   "outputs": [
    {
     "name": "stdout",
     "output_type": "stream",
     "text": [
      "x is not 1, 2 or 3\n"
     ]
    }
   ],
   "source": [
    "x = 5\n",
    "if x == 1:\n",
    "    print (\"x is 1\")\n",
    "elif x == 2:\n",
    "    print (\"x is 2\")\n",
    "elif x == 3:\n",
    "    print (\"x is 3\")\n",
    "else:\n",
    "    print (\"x is not 1, 2 or 3\")"
   ]
  },
  {
   "cell_type": "markdown",
   "metadata": {},
   "source": [
    "## Combining conditionals with or / and\n",
    "\n",
    "### 1. or -> Either one is True\n",
    "\n",
    "### 2. and -> Both correct "
   ]
  },
  {
   "cell_type": "code",
   "execution_count": 56,
   "metadata": {},
   "outputs": [
    {
     "name": "stdout",
     "output_type": "stream",
     "text": [
      "81 can be divided by 3 or 9\n"
     ]
    }
   ],
   "source": [
    "num = 81\n",
    "if num % 2 == 0 or num % 9 == 0:\n",
    "    print(str(num) + ' can be divided by 3 or 9')\n",
    "else: \n",
    "    print(str(num) + \" can not be divided by neither 3 nor 9\")"
   ]
  },
  {
   "cell_type": "code",
   "execution_count": 59,
   "metadata": {},
   "outputs": [
    {
     "name": "stdout",
     "output_type": "stream",
     "text": [
      "Enter a number\n",
      "18\n",
      "18 is a good number\n"
     ]
    }
   ],
   "source": [
    "num = int(input('Enter a number\\n'))\n",
    "\n",
    "if num % 2 == 0 and num % 9 == 0:\n",
    "    print(str(num) + ' is a good number')\n",
    "else: \n",
    "    print(str(num) + \" is not a good number\")"
   ]
  },
  {
   "cell_type": "markdown",
   "metadata": {},
   "source": [
    "# In Class Exercise  - Conditionals\n",
    "\n",
    "Write a set of conditional statements that check to see if a random integer (from 1 - 100) is divisible whole by 2. \n",
    "\n",
    "If it is, then print \"Number is even\". Otherwise, print \"Number is odd\". \n",
    "\n",
    "Hint: % is the modulo operator & import random"
   ]
  },
  {
   "cell_type": "code",
   "execution_count": null,
   "metadata": {},
   "outputs": [],
   "source": []
  },
  {
   "cell_type": "markdown",
   "metadata": {},
   "source": [
    "Write a set of conditional statements that check to see if the length of a string input is divisible whole by a random number (from 1 - 5).\n",
    "\n",
    "If it is, then print \"Length of input is even\". Otherwise, print \"Length of input is odd\".\n",
    "\n",
    "Hint: % is the modulo operator & import random"
   ]
  },
  {
   "cell_type": "code",
   "execution_count": null,
   "metadata": {
    "collapsed": true
   },
   "outputs": [],
   "source": []
  },
  {
   "cell_type": "markdown",
   "metadata": {},
   "source": [
    "# Loops: for and while\n",
    "\n",
    "Loops are a very useful way of repeating something over and over again, with some conditionals on when to break them. There are two kinds of loops: for and while.\n",
    "\n",
    "For loops are usually used for iterating through lists and doing something with every iteration. \n",
    "\n",
    "While loops are often used to accumulate additions in a variable.\n",
    "\n",
    "![title](https://cdn.programiz.com/sites/tutorial2program/files/forLoop.jpg)"
   ]
  },
  {
   "cell_type": "code",
   "execution_count": 65,
   "metadata": {},
   "outputs": [
    {
     "name": "stdout",
     "output_type": "stream",
     "text": [
      "2\n",
      "4\n",
      "6\n",
      "8\n",
      "10\n"
     ]
    }
   ],
   "source": [
    "# Iterate through the element from index 0 to last index.\n",
    "# For loop will increment every time after it does something with the current element\n",
    "\n",
    "numList = [1,2,3,4,5,6,7,8,9,10]\n",
    "\n",
    "for num in numList:\n",
    "    if num % 2 == 0: \n",
    "        print(num)                          # For loop will increment index after printing the num"
   ]
  },
  {
   "cell_type": "code",
   "execution_count": 66,
   "metadata": {},
   "outputs": [
    {
     "name": "stdout",
     "output_type": "stream",
     "text": [
      "The count is: 0\n",
      "The count is: 1\n",
      "The count is: 2\n",
      "The count is: 3\n",
      "The count is: 4\n",
      "The count is: 5\n",
      "The count is: 6\n",
      "The count is: 7\n",
      "The count is: 8\n",
      "The count is: 9\n"
     ]
    }
   ],
   "source": [
    "# While loops are different, it won't increment\n",
    "# You need to do the incrementation manually\n",
    "count = 0 \n",
    "\n",
    "while count < 10:\n",
    "    print (\"The count is: \" + str(count))\n",
    "    count += 1                               # Manual Incrementation"
   ]
  },
  {
   "cell_type": "markdown",
   "metadata": {},
   "source": [
    "## Usually we use range() with loop\n",
    "\n",
    "Range generates a list of numbers, which is generally used to iterate over with for loops\n",
    "\n",
    "eg: range(0,10) -> 0 means where to start & 2 means stop before it"
   ]
  },
  {
   "cell_type": "code",
   "execution_count": 70,
   "metadata": {},
   "outputs": [
    {
     "name": "stdout",
     "output_type": "stream",
     "text": [
      "0\n",
      "1\n",
      "2\n",
      "3\n",
      "4\n",
      "5\n",
      "6\n",
      "7\n",
      "8\n",
      "9\n"
     ]
    }
   ],
   "source": [
    "# You can see the first number printed is 0\n",
    "# The last number printed is 9\n",
    "\n",
    "for num in range(0,10):\n",
    "    print(num)"
   ]
  },
  {
   "cell_type": "code",
   "execution_count": 72,
   "metadata": {},
   "outputs": [
    {
     "data": {
      "text/plain": [
       "range(0, 10)"
      ]
     },
     "execution_count": 72,
     "metadata": {},
     "output_type": "execute_result"
    }
   ],
   "source": [
    "# By default a range starts from 0 \n",
    "# In this case, it equals to range(0, len(numList))\n",
    "\n",
    "range(len(numList))"
   ]
  },
  {
   "cell_type": "markdown",
   "metadata": {},
   "source": [
    "#### Using a loop to loop through a range is different from looping through directly from a list"
   ]
  },
  {
   "cell_type": "code",
   "execution_count": 74,
   "metadata": {
    "collapsed": true
   },
   "outputs": [],
   "source": [
    "rangeList = [1,2,3,'a','b','c']"
   ]
  },
  {
   "cell_type": "code",
   "execution_count": 75,
   "metadata": {},
   "outputs": [
    {
     "name": "stdout",
     "output_type": "stream",
     "text": [
      "0\n",
      "1\n",
      "2\n",
      "3\n",
      "4\n",
      "5\n"
     ]
    }
   ],
   "source": [
    "for i in range(len(rangeList)):\n",
    "    print(i)"
   ]
  },
  {
   "cell_type": "code",
   "execution_count": 78,
   "metadata": {},
   "outputs": [
    {
     "name": "stdout",
     "output_type": "stream",
     "text": [
      "1\n",
      "2\n",
      "3\n",
      "a\n",
      "b\n",
      "c\n"
     ]
    }
   ],
   "source": [
    "# In order to get each element in a list by looping through a range, we should do this\n",
    "\n",
    "for i in range(len(rangeList)):\n",
    "    print(rangeList[i])"
   ]
  },
  {
   "cell_type": "code",
   "execution_count": 77,
   "metadata": {
    "collapsed": true
   },
   "outputs": [],
   "source": [
    "range?"
   ]
  },
  {
   "cell_type": "markdown",
   "metadata": {},
   "source": [
    "## In Class Exercise - Loop\n",
    "\n",
    "#### Use a for loop and range function to print the index of each element in the refList and add each of the elements to a string\n",
    "#### Print the output in the end.\n",
    "\n",
    "refList = ['Hello', ' Lesson2', ' Monday', ' I', ' feel', ' good']\n",
    "\n",
    "output = ''"
   ]
  },
  {
   "cell_type": "code",
   "execution_count": 94,
   "metadata": {},
   "outputs": [
    {
     "name": "stdout",
     "output_type": "stream",
     "text": [
      "0\n",
      "1\n",
      "2\n",
      "3\n",
      "4\n",
      "5\n",
      "Hello guys I feel good today\n"
     ]
    }
   ],
   "source": [
    "refList = ['Hello', ' guys', ' I', ' feel', ' good', ' today']\n",
    "output  = ''\n",
    "\n",
    "for i in range(len(refList)):\n",
    "    print(i)\n",
    "    output = output + refList[i]\n",
    "    \n",
    "print(output)"
   ]
  },
  {
   "cell_type": "markdown",
   "metadata": {},
   "source": [
    "### Buy the food you need\n",
    "\n",
    "You have a list of food -> foodList=[\"Bananas\", \"Chocolate\", \"Carrots\", \"Icecream\", \"Soda\", \"Chips\"]\n",
    "\n",
    "You have a list showing the index of food in the food list that you need -> checkNum = [1, 3, 5]\n",
    "\n",
    "In each iteration append the needed food to a new list\n",
    "\n",
    "Print the list after the loop"
   ]
  },
  {
   "cell_type": "code",
   "execution_count": null,
   "metadata": {},
   "outputs": [],
   "source": []
  },
  {
   "cell_type": "markdown",
   "metadata": {},
   "source": [
    "Using \"for loops \" and \"if statements \" answer the following questions :\n",
    "\n",
    "1) Given the names below who has the longest First name? and how long is it?\n",
    "\n",
    "2) And what about the shortest name?\n",
    "\n",
    "3) These are \"probably\" our names :\n",
    "\n",
    "Xiaoyan , Maitreya , Jason , Qihui , Chuck , Jeremy , Mihwa , Lina , Huijun , Raul , Warintra , Abhay"
   ]
  },
  {
   "cell_type": "code",
   "execution_count": 108,
   "metadata": {},
   "outputs": [
    {
     "name": "stdout",
     "output_type": "stream",
     "text": [
      "[7, 8, 5, 5, 5, 6, 5, 4, 6, 4, 8, 5]\n"
     ]
    }
   ],
   "source": [
    "names = ['Xiaoyan','Maitreya','Jason' ,'Qihui','Chuck', \n",
    "'Jeremy','Mihwa','Lina','Huijun','Raul','Warintra','Abhay']\n",
    "\n",
    "nameLengthList = []            # Creating a list\n",
    "for i in names:      # A for loop where i iterates through the list called names:\n",
    "    u = len(i)       # Assigning u to length of i\n",
    "    nameLengthList.append(u)   # Appending u to the empty list maxi\n",
    "print(nameLengthList)\n"
   ]
  },
  {
   "cell_type": "markdown",
   "metadata": {},
   "source": [
    "To iterate through lists we use the range function:\n",
    "http://interactivepython.org/runestone/static/thinkcspy/PythonTurtle/TherangeFunction.html"
   ]
  },
  {
   "cell_type": "code",
   "execution_count": 109,
   "metadata": {},
   "outputs": [
    {
     "name": "stdout",
     "output_type": "stream",
     "text": [
      "Maitreya\n",
      "Warintra\n"
     ]
    }
   ],
   "source": [
    "for i in range(len(nameLengthList)):    \n",
    "        if max(nameLengthList) == len(names[i]):\n",
    "               print(names[i])"
   ]
  },
  {
   "cell_type": "code",
   "execution_count": 110,
   "metadata": {},
   "outputs": [
    {
     "name": "stdout",
     "output_type": "stream",
     "text": [
      "Lina\n",
      "Raul\n"
     ]
    }
   ],
   "source": [
    "for i in range(len(nameLengthList)):       \n",
    "        if min(nameLengthList) == len(names[i]):\n",
    "            print(names[i])"
   ]
  },
  {
   "cell_type": "markdown",
   "metadata": {},
   "source": [
    "# --------------------------------------------------------------------------------------------\n",
    "# Functions\n",
    "\n",
    "![title](https://www.safaribooksonline.com/library/view/head-first-python/9781449397524/httpatomoreillycomsourceoreillyimages1368386.png.jpg)\n",
    "\n",
    "\n",
    "Functions are an integral part of Python where you can make seperate modules, and call them whenever they are needed. Let's go through the syntax first, and then step-by-step, make a function for finding if a number is a whole square"
   ]
  },
  {
   "cell_type": "code",
   "execution_count": 121,
   "metadata": {},
   "outputs": [],
   "source": [
    "from math import sqrt       # we are importing the math library here. \n",
    "\n",
    "sqrt?"
   ]
  },
  {
   "cell_type": "code",
   "execution_count": 124,
   "metadata": {},
   "outputs": [
    {
     "name": "stdout",
     "output_type": "stream",
     "text": [
      "100 is a whole square, and its square root is 10.0\n"
     ]
    }
   ],
   "source": [
    "def whole_square_checker(input):\n",
    "    if sqrt(input).is_integer(): #Line checks whether sqrt(n) is an integer by calling the built in is_integer func\n",
    "        print (str(input), \"is a whole square, and its square root is\", sqrt(input))\n",
    "    else:\n",
    "        print (str(input), \"is not a whole square\")\n",
    "        \n",
    "whole_square_checker(100)"
   ]
  },
  {
   "cell_type": "markdown",
   "metadata": {},
   "source": [
    "The return command is also very important to use with functions. It gives a value to the program and the program will store it as the value of the function when the function called.\n",
    "\n",
    "It can be passed into other functions to solve more complicated issues.\n",
    "\n",
    "Below, let's make a function that will return the number of whole squares between any 1, and a number the user provides. This will use our whole_square_checker function, though we will have to modify it first."
   ]
  },
  {
   "cell_type": "code",
   "execution_count": 123,
   "metadata": {},
   "outputs": [
    {
     "name": "stdout",
     "output_type": "stream",
     "text": [
      "Enter the end of your range: 50\n",
      "[1, 4, 9, 16, 25, 36, 49]\n"
     ]
    }
   ],
   "source": [
    "def whole_square_check(n): # Changed the name from the function above a little\n",
    "    if sqrt(n).is_integer() == True: \n",
    "        return True\n",
    "    else:\n",
    "        return False\n",
    "    \n",
    "output = []           # creating an empty list here\n",
    "\n",
    "def whole_squares_int(num):       # def, code to define a function. whole_squares_in, is just a variable\n",
    "    for i in range(1, num + 1):   # i is a variable, in range(1, num + 1): is iterating every num in this range \n",
    "        if whole_square_check(i): # If statement to check if i is true. It checks every time it iterates\n",
    "           output.append(i)                    # If it is true, current value of i will be appended to the list output.\n",
    "    return(output)                             # Returns us the list output\n",
    "\n",
    "\n",
    "num = int(input(\"Enter the end of your range: \"))   # this function in python asks the user to input a raw number\n",
    "\n",
    "\n",
    "print (whole_squares_int(num))  # We call the function here, the list that returns in the funtion will be printed"
   ]
  },
  {
   "cell_type": "markdown",
   "metadata": {},
   "source": [
    "# In Class Exercise - Functions\n",
    "\n",
    "## Find Divisor\n",
    "\n",
    "\n",
    "Construct a function that returns all the divisors of the number the user inputs as a list."
   ]
  },
  {
   "cell_type": "code",
   "execution_count": 128,
   "metadata": {},
   "outputs": [
    {
     "name": "stdout",
     "output_type": "stream",
     "text": [
      "Enter your number: 10\n",
      "[1, 2, 5, 10]\n"
     ]
    }
   ],
   "source": [
    "output = []\n",
    "def divisor(input):\n",
    "    for i in range(1, input + 1):\n",
    "        if input % i == 0:\n",
    "           output.append(i)   \n",
    "    return output\n",
    "num = int(input(\"Enter your number: \"))\n",
    "\n",
    "print(divisor(num))"
   ]
  },
  {
   "cell_type": "markdown",
   "metadata": {},
   "source": [
    "## Find factorial\n",
    "\n",
    "Write a function for finding out the factorial of a number that the user inputs\n",
    "\n",
    "The factorial of 4, mathematically, for e.g. would equal the result 4!= 4 X 3 x 2 X 1 = 24"
   ]
  },
  {
   "cell_type": "code",
   "execution_count": 132,
   "metadata": {},
   "outputs": [
    {
     "name": "stdout",
     "output_type": "stream",
     "text": [
      "Enter the end of your range: 4\n",
      "24\n"
     ]
    }
   ],
   "source": [
    "def factorial(input):\n",
    "    output = input\n",
    "    while input > 1:\n",
    "        input = input - 1\n",
    "        output = output * input\n",
    "    return output\n",
    "\n",
    "num = int(input(\"Enter the end of your range: \"))\n",
    "\n",
    "print(factorial(num))"
   ]
  },
  {
   "cell_type": "code",
   "execution_count": 134,
   "metadata": {},
   "outputs": [
    {
     "name": "stdout",
     "output_type": "stream",
     "text": [
      "Enter the end of your range: 4\n",
      "24\n"
     ]
    }
   ],
   "source": [
    "def factorial(input):\n",
    "    output = 1\n",
    "    for i in range(1, input+1):\n",
    "        output = output * i\n",
    "    return output\n",
    "\n",
    "num = int(input(\"Enter the end of your range: \"))\n",
    "\n",
    "print(factorial(num))"
   ]
  },
  {
   "cell_type": "markdown",
   "metadata": {},
   "source": [
    "## Count the number of vowels\n",
    "\n",
    "Count the number of vowel in a list -> letterList = 'asdfbafdnewornortoaodisjfAnadESDNIoadsfuwdsfnerEHEE'"
   ]
  },
  {
   "cell_type": "code",
   "execution_count": null,
   "metadata": {
    "collapsed": true
   },
   "outputs": [],
   "source": []
  },
  {
   "cell_type": "markdown",
   "metadata": {},
   "source": [
    "## Paper Scissors Stone\n",
    "\n",
    "Imagine you are playing 'Paper Scissor Stone' with the computer.\n",
    "\n",
    "Write the game\n",
    "\n",
    "Hint: import random & use random.choice()"
   ]
  },
  {
   "cell_type": "code",
   "execution_count": 165,
   "metadata": {},
   "outputs": [
    {
     "name": "stdout",
     "output_type": "stream",
     "text": [
      "What is your choice\n",
      "stone\n",
      "Player chose stone\n",
      "Computer chose stone\n",
      "Draw\n"
     ]
    }
   ],
   "source": [
    "import random\n",
    "\n",
    "def playerChoose():\n",
    "    return str(input('What is your choice\\n')).lower()\n",
    "\n",
    "def computerChoose():\n",
    "    ref = ['paper', 'scissors', 'stone']\n",
    "    return random.choice(ref)\n",
    "\n",
    "def playGame():\n",
    "    playerChoice = playerChoose()\n",
    "    computerChoice = computerChoose()\n",
    "    if playerChoice != 'paper' and playerChoice != 'scissors' and playerChoice != 'stone':\n",
    "        return 'Wrong Input'\n",
    "    if playerChoice == computerChoice:\n",
    "        \n",
    "        print('Player chose', playerChoice)\n",
    "        print('Computer chose', computerChoice)\n",
    "        \n",
    "        return 'Draw'\n",
    "    elif playerChoice == 'paper' and playerChoice == 'stone\n",
    "    \n",
    "        print('Player chose', playerChoice)\n",
    "        print('Computer chose', computerChoice)\n",
    "        \n",
    "        return 'Player wins'\n",
    "    elif playerChoice == 'scissors' and playerChoice == 'paper':\n",
    "        \n",
    "        print('Player chose', playerChoice)\n",
    "        print('Computer chose', computerChoice)\n",
    "        \n",
    "        return 'Player wins'\n",
    "    elif playerChoice == 'stone' and playerChoice == 'scissors':\n",
    "        \n",
    "        print('Player chose', playerChoice)\n",
    "        print('Computer chose', computerChoice)\n",
    "        \n",
    "        return 'Player wins'\n",
    "    else:\n",
    "        \n",
    "        print('Player chose', playerChoice)\n",
    "        print('Computer chose', computerChoice)\n",
    "        \n",
    "        return 'Computer wins'\n",
    "    \n",
    "print(playGame())\n",
    "# print(playGame())"
   ]
  },
  {
   "cell_type": "markdown",
   "metadata": {},
   "source": [
    "### HW Exercises"
   ]
  },
  {
   "cell_type": "markdown",
   "metadata": {},
   "source": [
    "### Find the maximum, minimum and mean of the list of numbers provided below without using max and min funtions"
   ]
  },
  {
   "cell_type": "code",
   "execution_count": 5,
   "metadata": {
    "collapsed": true
   },
   "outputs": [],
   "source": [
    "x = [1,55,3,64,6,4,32,15]"
   ]
  }
 ],
 "metadata": {
  "kernelspec": {
   "display_name": "Python 3",
   "language": "python",
   "name": "python3"
  },
  "language_info": {
   "codemirror_mode": {
    "name": "ipython",
    "version": 3
   },
   "file_extension": ".py",
   "mimetype": "text/x-python",
   "name": "python",
   "nbconvert_exporter": "python",
   "pygments_lexer": "ipython3",
   "version": "3.6.3"
  }
 },
 "nbformat": 4,
 "nbformat_minor": 2
}
